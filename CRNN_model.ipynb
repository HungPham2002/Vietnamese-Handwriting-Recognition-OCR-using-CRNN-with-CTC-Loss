{
  "metadata": {
    "colab": {
      "provenance": [],
      "gpuType": "T4",
      "toc_visible": true,
      "include_colab_link": true
    },
    "kernelspec": {
      "name": "python3",
      "display_name": "Python 3"
    },
    "language_info": {
      "name": "python",
      "version": "3.10.10",
      "mimetype": "text/x-python",
      "codemirror_mode": {
        "name": "ipython",
        "version": 3
      },
      "pygments_lexer": "ipython3",
      "nbconvert_exporter": "python",
      "file_extension": ".py"
    },
    "accelerator": "GPU"
  },
  "nbformat_minor": 0,
  "nbformat": 4,
  "cells": [
    {
      "cell_type": "markdown",
      "metadata": {
        "id": "view-in-github",
        "colab_type": "text"
      },
      "source": [
        "<a href=\"https://colab.research.google.com/github/HungPham2002/Vietnamese-Handwriting-Recognition-by-using-CRNN-with-CTC-Loss/blob/main/CRNN_model.ipynb\" target=\"_parent\"><img src=\"https://colab.research.google.com/assets/colab-badge.svg\" alt=\"Open In Colab\"/></a>"
      ]
    },
    {
      "cell_type": "code",
      "source": [
        "from google.colab import drive\n",
        "drive.mount('/content/drive')"
      ],
      "metadata": {
        "colab": {
          "base_uri": "https://localhost:8080/"
        },
        "id": "nlGU8yRxSidz",
        "outputId": "762bcd16-141b-44b7-be81-1b2348894147"
      },
      "execution_count": 26,
      "outputs": [
        {
          "output_type": "stream",
          "name": "stdout",
          "text": [
            "Drive already mounted at /content/drive; to attempt to forcibly remount, call drive.mount(\"/content/drive\", force_remount=True).\n"
          ]
        }
      ]
    },
    {
      "cell_type": "code",
      "source": [
        "pwd"
      ],
      "metadata": {
        "colab": {
          "base_uri": "https://localhost:8080/",
          "height": 36
        },
        "id": "1R5GjSNrXUun",
        "outputId": "d8bb5045-c37c-404a-e8ec-fc08a366519b"
      },
      "execution_count": 27,
      "outputs": [
        {
          "output_type": "execute_result",
          "data": {
            "text/plain": [
              "'/content'"
            ],
            "application/vnd.google.colaboratory.intrinsic+json": {
              "type": "string"
            }
          },
          "metadata": {},
          "execution_count": 27
        }
      ]
    },
    {
      "cell_type": "code",
      "source": [
        "%cd"
      ],
      "metadata": {
        "colab": {
          "base_uri": "https://localhost:8080/"
        },
        "id": "tfkzcGquXWjt",
        "outputId": "83b92211-e7e2-4736-cb1a-d4e8baeb25c9"
      },
      "execution_count": 28,
      "outputs": [
        {
          "output_type": "stream",
          "name": "stdout",
          "text": [
            "/root\n"
          ]
        }
      ]
    },
    {
      "cell_type": "code",
      "source": [
        "import tensorflow as tf\n",
        "import os"
      ],
      "metadata": {
        "execution": {
          "iopub.status.busy": "2023-05-28T11:38:54.102628Z",
          "iopub.execute_input": "2023-05-28T11:38:54.103305Z",
          "iopub.status.idle": "2023-05-28T11:38:54.107676Z",
          "shell.execute_reply.started": "2023-05-28T11:38:54.103271Z",
          "shell.execute_reply": "2023-05-28T11:38:54.106526Z"
        },
        "trusted": true,
        "id": "JJniGRe7SZ5y"
      },
      "execution_count": 29,
      "outputs": []
    },
    {
      "cell_type": "markdown",
      "source": [
        "# Load Data"
      ],
      "metadata": {
        "id": "aBXXkRkb5lnV"
      }
    },
    {
      "cell_type": "code",
      "source": [
        "# RAW_FOLDER = '/content/drive/MyDrive/UIT/Thị giác máy tính nâng cao/advanced CV/data/VN_handwritten_images'\n",
        "RAW_FOLDER = '/content/drive/MyDrive/advanced CV/data/VN_handwritten_images'"
      ],
      "metadata": {
        "id": "5M4vq80xiEch",
        "execution": {
          "iopub.status.busy": "2023-05-28T11:39:14.198809Z",
          "iopub.execute_input": "2023-05-28T11:39:14.199149Z",
          "iopub.status.idle": "2023-05-28T11:39:14.203774Z",
          "shell.execute_reply.started": "2023-05-28T11:39:14.199121Z",
          "shell.execute_reply": "2023-05-28T11:39:14.202798Z"
        },
        "trusted": true
      },
      "execution_count": 1,
      "outputs": []
    },
    {
      "cell_type": "code",
      "source": [
        "# TRAIN_JSON = '/content/drive/MyDrive/UIT/Thị giác máy tính nâng cao/advanced CV/data/VN_handwritten_images/labels.json'\n",
        "TRAIN_JSON = '/content/drive/MyDrive/advanced CV/data/VN_handwritten_images/labels.json'"
      ],
      "metadata": {
        "id": "sEfX9MZJiFlC",
        "execution": {
          "iopub.status.busy": "2023-05-28T11:39:17.606024Z",
          "iopub.execute_input": "2023-05-28T11:39:17.606410Z",
          "iopub.status.idle": "2023-05-28T11:39:17.611294Z",
          "shell.execute_reply.started": "2023-05-28T11:39:17.606364Z",
          "shell.execute_reply": "2023-05-28T11:39:17.610296Z"
        },
        "trusted": true
      },
      "execution_count": 2,
      "outputs": []
    },
    {
      "cell_type": "code",
      "source": [
        "import json\n",
        "# open these label jsons files\n",
        "with open(TRAIN_JSON, 'r', encoding='utf8') as f:\n",
        "    train_labels = json.load(f)"
      ],
      "metadata": {
        "id": "jQi4Av8ahHmS",
        "execution": {
          "iopub.status.busy": "2023-05-28T11:39:36.792284Z",
          "iopub.execute_input": "2023-05-28T11:39:36.792971Z",
          "iopub.status.idle": "2023-05-28T11:39:36.822385Z",
          "shell.execute_reply.started": "2023-05-28T11:39:36.792935Z",
          "shell.execute_reply": "2023-05-28T11:39:36.821182Z"
        },
        "trusted": true
      },
      "execution_count": 3,
      "outputs": []
    },
    {
      "cell_type": "code",
      "source": [
        "# TEST_JSON = '/content/drive/MyDrive/UIT/Thị giác máy tính nâng cao/advanced CV/data/test_Hung/labels.json'\n",
        "TEST_JSON = '/content/drive/MyDrive/advanced CV/data/test_Hung/labels.json'"
      ],
      "metadata": {
        "id": "PyMamde9N4V3"
      },
      "execution_count": 4,
      "outputs": []
    },
    {
      "cell_type": "code",
      "source": [
        "# open these label jsons files\n",
        "with open(TEST_JSON, 'r', encoding='utf8') as f:\n",
        "    test_labels = json.load(f)"
      ],
      "metadata": {
        "id": "aHido3KnNzmw"
      },
      "execution_count": 5,
      "outputs": []
    },
    {
      "cell_type": "code",
      "source": [
        "# test_labels"
      ],
      "metadata": {
        "id": "GkhACgpsN8c5"
      },
      "execution_count": 6,
      "outputs": []
    },
    {
      "cell_type": "markdown",
      "source": [
        "Here are the labels for each image!"
      ],
      "metadata": {
        "id": "Nf7ScbfQ1y4s"
      }
    },
    {
      "cell_type": "code",
      "source": [
        "#find all characters in labels (so we don't blindly add chacters not even existed in our dataset)\n",
        "char_list= set()\n",
        "for label in train_labels.values():\n",
        "    char_list.update(set(label))\n",
        "print(char_list)\n",
        "char_list=sorted(char_list)\n",
        "print(char_list)\n",
        "len(char_list)"
      ],
      "metadata": {
        "colab": {
          "base_uri": "https://localhost:8080/"
        },
        "id": "VrInI1tUiL8X",
        "outputId": "6ae0862c-8ed9-4ad2-c8a3-50406af97670",
        "execution": {
          "iopub.status.busy": "2023-05-28T11:39:41.203777Z",
          "iopub.execute_input": "2023-05-28T11:39:41.204139Z",
          "iopub.status.idle": "2023-05-28T11:39:41.219898Z",
          "shell.execute_reply.started": "2023-05-28T11:39:41.204109Z",
          "shell.execute_reply": "2023-05-28T11:39:41.218548Z"
        },
        "trusted": true
      },
      "execution_count": 7,
      "outputs": [
        {
          "output_type": "stream",
          "name": "stdout",
          "text": [
            "{'ê', 'z', 'ỡ', 'ễ', 'ọ', 'ặ', 'ể', 'ị', 'D', 'i', 'ư', 'Ứ', 'â', 'ẵ', 'ò', 'á', 'ả', 'L', '-', 'ấ', 'Ê', '6', 'ù', 'ý', '#', 'ó', 'Q', 'G', 'ì', 'E', 'ồ', 'ừ', 'õ', 'ố', ',', 'I', 'ằ', 'ơ', 'ữ', 'R', 'c', '4', '8', 'é', 'ự', 'U', '.', 'r', 'k', 'Ô', 'v', '7', 'w', '+', 'ô', 'B', 'ú', 'Ơ', \"'\", 'ợ', 'ộ', 'u', 'ă', '/', 'S', 'ụ', 'K', 'ế', 'ỉ', 'W', 'F', '5', 'C', 'N', '0', 'Đ', 'o', 'ử', ')', 'X', 'ờ', 'J', 'è', 'ỷ', 'ỹ', 'ệ', 'ề', ' ', 'ũ', 'M', ':', 'b', 'ĩ', 'n', 'e', 'í', 's', 't', 'x', 'ạ', 'ỵ', 'Y', 'ẽ', 'ầ', 'p', 'ở', 'ủ', '3', 'a', '9', '2', 'đ', 'à', '1', 'H', 'ậ', 'g', 'ổ', 'd', 'ã', 'ỗ', 'A', 'y', 'm', 'P', 'Â', 'ẻ', 'ỏ', 'h', 'ớ', 'q', '(', 'l', 'T', 'ẩ', 'O', 'V', 'ắ', 'ỳ', 'ứ'}\n",
            "[' ', '#', \"'\", '(', ')', '+', ',', '-', '.', '/', '0', '1', '2', '3', '4', '5', '6', '7', '8', '9', ':', 'A', 'B', 'C', 'D', 'E', 'F', 'G', 'H', 'I', 'J', 'K', 'L', 'M', 'N', 'O', 'P', 'Q', 'R', 'S', 'T', 'U', 'V', 'W', 'X', 'Y', 'a', 'b', 'c', 'd', 'e', 'g', 'h', 'i', 'k', 'l', 'm', 'n', 'o', 'p', 'q', 'r', 's', 't', 'u', 'v', 'w', 'x', 'y', 'z', 'Â', 'Ê', 'Ô', 'à', 'á', 'â', 'ã', 'è', 'é', 'ê', 'ì', 'í', 'ò', 'ó', 'ô', 'õ', 'ù', 'ú', 'ý', 'ă', 'Đ', 'đ', 'ĩ', 'ũ', 'Ơ', 'ơ', 'ư', 'ạ', 'ả', 'ấ', 'ầ', 'ẩ', 'ậ', 'ắ', 'ằ', 'ẵ', 'ặ', 'ẻ', 'ẽ', 'ế', 'ề', 'ể', 'ễ', 'ệ', 'ỉ', 'ị', 'ọ', 'ỏ', 'ố', 'ồ', 'ổ', 'ỗ', 'ộ', 'ớ', 'ờ', 'ở', 'ỡ', 'ợ', 'ụ', 'ủ', 'Ứ', 'ứ', 'ừ', 'ử', 'ữ', 'ự', 'ỳ', 'ỵ', 'ỷ', 'ỹ']\n"
          ]
        },
        {
          "output_type": "execute_result",
          "data": {
            "text/plain": [
              "140"
            ]
          },
          "metadata": {},
          "execution_count": 7
        }
      ]
    },
    {
      "cell_type": "code",
      "source": [
        "# show all possible labels characters\n",
        "\"\".join(char_list)"
      ],
      "metadata": {
        "colab": {
          "base_uri": "https://localhost:8080/",
          "height": 36
        },
        "id": "cZ2OGDAKiSc0",
        "outputId": "d57251a8-ac6d-44a5-b768-147ca925ba91",
        "execution": {
          "iopub.status.busy": "2023-05-28T11:39:48.508278Z",
          "iopub.execute_input": "2023-05-28T11:39:48.508932Z",
          "iopub.status.idle": "2023-05-28T11:39:48.514822Z",
          "shell.execute_reply.started": "2023-05-28T11:39:48.508898Z",
          "shell.execute_reply": "2023-05-28T11:39:48.513905Z"
        },
        "trusted": true
      },
      "execution_count": 8,
      "outputs": [
        {
          "output_type": "execute_result",
          "data": {
            "text/plain": [
              "\" #'()+,-./0123456789:ABCDEFGHIJKLMNOPQRSTUVWXYabcdeghiklmnopqrstuvwxyzÂÊÔàáâãèéêìíòóôõùúýăĐđĩũƠơưạảấầẩậắằẵặẻẽếềểễệỉịọỏốồổỗộớờởỡợụủỨứừửữựỳỵỷỹ\""
            ],
            "application/vnd.google.colaboratory.intrinsic+json": {
              "type": "string"
            }
          },
          "metadata": {},
          "execution_count": 8
        }
      ]
    },
    {
      "cell_type": "code",
      "source": [
        "char_list[32]"
      ],
      "metadata": {
        "colab": {
          "base_uri": "https://localhost:8080/",
          "height": 36
        },
        "id": "eMSYflhdbj5t",
        "outputId": "f901aabe-ccc8-4bce-cb24-e698e32e250a"
      },
      "execution_count": 9,
      "outputs": [
        {
          "output_type": "execute_result",
          "data": {
            "text/plain": [
              "'L'"
            ],
            "application/vnd.google.colaboratory.intrinsic+json": {
              "type": "string"
            }
          },
          "metadata": {},
          "execution_count": 9
        }
      ]
    },
    {
      "cell_type": "code",
      "source": [
        "# convert the words to array of indexs based on the char_list\n",
        "def encode_to_labels(txt):\n",
        "    # encoding each output word into digits of indexes\n",
        "    dig_lst = []\n",
        "    for index, char in enumerate(txt):\n",
        "        try:\n",
        "            dig_lst.append(char_list.index(char))\n",
        "        except:\n",
        "            print(\"No found in char_list :\", char)\n",
        "\n",
        "    return dig_lst"
      ],
      "metadata": {
        "id": "r0X5dBP-i1C_",
        "execution": {
          "iopub.status.busy": "2023-05-28T11:39:51.971124Z",
          "iopub.execute_input": "2023-05-28T11:39:51.971492Z",
          "iopub.status.idle": "2023-05-28T11:39:51.976830Z",
          "shell.execute_reply.started": "2023-05-28T11:39:51.971462Z",
          "shell.execute_reply": "2023-05-28T11:39:51.975820Z"
        },
        "trusted": true
      },
      "execution_count": 10,
      "outputs": []
    },
    {
      "cell_type": "code",
      "source": [
        "encode_to_labels(\"Life is hard\")"
      ],
      "metadata": {
        "colab": {
          "base_uri": "https://localhost:8080/"
        },
        "id": "88Q6407ni2TV",
        "outputId": "a0c196d4-7f41-422e-8aa2-08fc1c4e9a51",
        "execution": {
          "iopub.status.busy": "2023-05-28T11:39:55.012264Z",
          "iopub.execute_input": "2023-05-28T11:39:55.012934Z",
          "iopub.status.idle": "2023-05-28T11:39:55.019952Z",
          "shell.execute_reply.started": "2023-05-28T11:39:55.012898Z",
          "shell.execute_reply": "2023-05-28T11:39:55.018939Z"
        },
        "trusted": true
      },
      "execution_count": 11,
      "outputs": [
        {
          "output_type": "stream",
          "name": "stdout",
          "text": [
            "No found in char_list : f\n"
          ]
        },
        {
          "output_type": "execute_result",
          "data": {
            "text/plain": [
              "[32, 53, 50, 0, 53, 62, 0, 52, 46, 61, 49]"
            ]
          },
          "metadata": {},
          "execution_count": 11
        }
      ]
    },
    {
      "cell_type": "code",
      "source": [
        "import pathlib"
      ],
      "metadata": {
        "id": "ltW7kbdgtJ4e"
      },
      "execution_count": 12,
      "outputs": []
    },
    {
      "cell_type": "code",
      "source": [
        "# find all image paths for train folder 1 and 2 and test folder\n",
        "train_image_path = []\n",
        "\n",
        "for item in pathlib.Path(RAW_FOLDER).glob('**/*'):\n",
        "    if item.is_file() and item.suffix not in [\".json\"]:\n",
        "        train_image_path.append(str(item))"
      ],
      "metadata": {
        "id": "60z8FX6NjIFG",
        "execution": {
          "iopub.status.busy": "2023-05-28T11:39:57.029490Z",
          "iopub.execute_input": "2023-05-28T11:39:57.030333Z",
          "iopub.status.idle": "2023-05-28T11:40:00.153272Z",
          "shell.execute_reply.started": "2023-05-28T11:39:57.030288Z",
          "shell.execute_reply": "2023-05-28T11:40:00.152279Z"
        },
        "trusted": true
      },
      "execution_count": 13,
      "outputs": []
    },
    {
      "cell_type": "code",
      "source": [
        "# TEST_FOLDER = '/content/drive/MyDrive/UIT/Thị giác máy tính nâng cao/advanced CV/data/test_Hung/'\n",
        "TEST_FOLDER = '/content/drive/MyDrive/advanced CV/data/test_Hung'"
      ],
      "metadata": {
        "id": "nd78eoUyMSZk"
      },
      "execution_count": 14,
      "outputs": []
    },
    {
      "cell_type": "code",
      "source": [
        "# find all image paths for train folder 1 and 2 and test folder\n",
        "test_data_path = []\n",
        "\n",
        "for item in pathlib.Path(TEST_FOLDER).glob('**/*'):\n",
        "    if item.is_file() and item.suffix not in [\".json\"]:\n",
        "        test_data_path.append(str(item))"
      ],
      "metadata": {
        "id": "e9r3LbmBMvoM"
      },
      "execution_count": 15,
      "outputs": []
    },
    {
      "cell_type": "code",
      "source": [
        "# test_data_path"
      ],
      "metadata": {
        "id": "73yAzf1XO3S8"
      },
      "execution_count": 16,
      "outputs": []
    },
    {
      "cell_type": "code",
      "source": [
        "# test_data_path"
      ],
      "metadata": {
        "id": "bpt1AaiXM7TU"
      },
      "execution_count": 17,
      "outputs": []
    },
    {
      "cell_type": "code",
      "source": [
        "RAW_FOLDER"
      ],
      "metadata": {
        "colab": {
          "base_uri": "https://localhost:8080/",
          "height": 36
        },
        "id": "lHC3hEMXtbzz",
        "outputId": "5a4e20f9-3a24-46e9-b7cd-2f3a545220b4"
      },
      "execution_count": 18,
      "outputs": [
        {
          "output_type": "execute_result",
          "data": {
            "text/plain": [
              "'/content/drive/MyDrive/advanced CV/data/VN_handwritten_images'"
            ],
            "application/vnd.google.colaboratory.intrinsic+json": {
              "type": "string"
            }
          },
          "metadata": {},
          "execution_count": 18
        }
      ]
    },
    {
      "cell_type": "code",
      "source": [
        "len(train_image_path)"
      ],
      "metadata": {
        "colab": {
          "base_uri": "https://localhost:8080/"
        },
        "id": "hIX8g_5OuCco",
        "outputId": "37a8dd6c-06bb-4fa1-b4f0-b2e8f9002e59"
      },
      "execution_count": 19,
      "outputs": [
        {
          "output_type": "execute_result",
          "data": {
            "text/plain": [
              "1838"
            ]
          },
          "metadata": {},
          "execution_count": 19
        }
      ]
    },
    {
      "cell_type": "code",
      "source": [
        "# train_image_pathtrain_image_path.sort()\n",
        "# train_image_path"
      ],
      "metadata": {
        "id": "WEsnkohVtUxP"
      },
      "execution_count": 20,
      "outputs": []
    },
    {
      "cell_type": "markdown",
      "source": [
        "# Preprocessing"
      ],
      "metadata": {
        "id": "u_atylxRXiWs"
      }
    },
    {
      "cell_type": "markdown",
      "source": [
        "\n",
        "\n",
        "\n",
        "Continue to preprocess dataset and create CRNN model with CTC loss!\n",
        "\n"
      ],
      "metadata": {
        "id": "rVnAAXGeISJH"
      }
    },
    {
      "cell_type": "code",
      "source": [
        "#Matching full absoluate paths and labels instead of filenames and labels\n",
        "test_dict_filepath_label={}\n",
        "test_data_path = pathlib.Path(os.path.join(TEST_FOLDER))\n",
        "for item in test_data_path.glob('**/*.*'):\n",
        "    file_name=str(os.path.basename(item))\n",
        "    if file_name != \"labels.json\":\n",
        "      label = test_labels[file_name]\n",
        "      test_dict_filepath_label[str(item)]=label"
      ],
      "metadata": {
        "id": "8Bz3AeT9MJ8V"
      },
      "execution_count": 30,
      "outputs": []
    },
    {
      "cell_type": "code",
      "source": [
        "# test_dict_filepath_label"
      ],
      "metadata": {
        "id": "iiGu4n7EO7lJ"
      },
      "execution_count": 31,
      "outputs": []
    },
    {
      "cell_type": "code",
      "source": [
        "#Matching full absoluate paths and labels instead of filenames and labels\n",
        "dict_filepath_label={}\n",
        "raw_data_path = pathlib.Path(os.path.join(RAW_FOLDER))\n",
        "for item in raw_data_path.glob('**/*.*'):\n",
        "    file_name=str(os.path.basename(item))\n",
        "    if file_name != \"labels.json\":\n",
        "      label = train_labels[file_name]\n",
        "      dict_filepath_label[str(item)]=label"
      ],
      "metadata": {
        "id": "Rom3nHrjNfkT",
        "execution": {
          "iopub.status.busy": "2023-05-28T11:40:02.424772Z",
          "iopub.execute_input": "2023-05-28T11:40:02.425115Z",
          "iopub.status.idle": "2023-05-28T11:40:02.783912Z",
          "shell.execute_reply.started": "2023-05-28T11:40:02.425087Z",
          "shell.execute_reply": "2023-05-28T11:40:02.782977Z"
        },
        "trusted": true
      },
      "execution_count": 32,
      "outputs": []
    },
    {
      "cell_type": "code",
      "source": [
        "# dict_filepath_label"
      ],
      "metadata": {
        "id": "oJoZWg5VEvwk"
      },
      "execution_count": 33,
      "outputs": []
    },
    {
      "cell_type": "code",
      "source": [
        "# find the maximum label length\n",
        "test_label_lens= []\n",
        "for label in test_dict_filepath_label.values():\n",
        "    test_label_lens.append(len(label))\n",
        "max_test_label_len = max(test_label_lens)\n",
        "\n",
        "max_test_label_len"
      ],
      "metadata": {
        "colab": {
          "base_uri": "https://localhost:8080/"
        },
        "id": "ZaogANEvP9O7",
        "outputId": "4b17d345-1a9f-45b7-c5d9-9631a1871817"
      },
      "execution_count": 34,
      "outputs": [
        {
          "output_type": "execute_result",
          "data": {
            "text/plain": [
              "69"
            ]
          },
          "metadata": {},
          "execution_count": 34
        }
      ]
    },
    {
      "cell_type": "code",
      "source": [
        "# find the maximum label length\n",
        "label_lens= []\n",
        "for label in dict_filepath_label.values():\n",
        "    label_lens.append(len(label))\n",
        "max_label_len = max(label_lens)\n",
        "\n",
        "max_label_len"
      ],
      "metadata": {
        "id": "_ORMvAaHiTQJ",
        "colab": {
          "base_uri": "https://localhost:8080/"
        },
        "outputId": "6eeee252-2f1f-4d92-8113-b00af3bae810",
        "execution": {
          "iopub.status.busy": "2023-05-28T11:40:05.166266Z",
          "iopub.execute_input": "2023-05-28T11:40:05.166951Z",
          "iopub.status.idle": "2023-05-28T11:40:05.174676Z",
          "shell.execute_reply.started": "2023-05-28T11:40:05.166917Z",
          "shell.execute_reply": "2023-05-28T11:40:05.173689Z"
        },
        "trusted": true
      },
      "execution_count": 35,
      "outputs": [
        {
          "output_type": "execute_result",
          "data": {
            "text/plain": [
              "69"
            ]
          },
          "metadata": {},
          "execution_count": 35
        }
      ]
    },
    {
      "cell_type": "code",
      "source": [
        "max_label_len = 69"
      ],
      "metadata": {
        "id": "zYGgLOxosvrH"
      },
      "execution_count": 36,
      "outputs": []
    },
    {
      "cell_type": "code",
      "source": [
        "test_image_paths = list(test_dict_filepath_label.keys())"
      ],
      "metadata": {
        "id": "ZalSwukBQmBb"
      },
      "execution_count": 37,
      "outputs": []
    },
    {
      "cell_type": "code",
      "source": [
        "# test_image_paths"
      ],
      "metadata": {
        "id": "D833fRw_Qpm-"
      },
      "execution_count": 38,
      "outputs": []
    },
    {
      "cell_type": "code",
      "source": [
        "all_image_paths = list(dict_filepath_label.keys())"
      ],
      "metadata": {
        "id": "h5SXaY97iulm",
        "execution": {
          "iopub.status.busy": "2023-05-28T11:40:23.614384Z",
          "iopub.execute_input": "2023-05-28T11:40:23.614760Z",
          "iopub.status.idle": "2023-05-28T11:40:23.619435Z",
          "shell.execute_reply.started": "2023-05-28T11:40:23.614730Z",
          "shell.execute_reply": "2023-05-28T11:40:23.618451Z"
        },
        "trusted": true
      },
      "execution_count": 39,
      "outputs": []
    },
    {
      "cell_type": "code",
      "source": [
        "import cv2"
      ],
      "metadata": {
        "id": "sBDhca3QI1ys"
      },
      "execution_count": 40,
      "outputs": []
    },
    {
      "cell_type": "code",
      "source": [
        "# find all widths and heights of images (this is useful if our dataset images got different sizes)\n",
        "widths = []\n",
        "heights = []\n",
        "for image_path in all_image_paths:\n",
        "    img = cv2.imread(image_path)\n",
        "    (height, width, _) = img.shape\n",
        "    heights.append(height)\n",
        "    widths.append(width)"
      ],
      "metadata": {
        "id": "cjoWWkvdM7Zt",
        "execution": {
          "iopub.status.busy": "2023-05-28T11:40:27.286981Z",
          "iopub.execute_input": "2023-05-28T11:40:27.287331Z",
          "iopub.status.idle": "2023-05-28T11:40:56.142404Z",
          "shell.execute_reply.started": "2023-05-28T11:40:27.287302Z",
          "shell.execute_reply": "2023-05-28T11:40:56.141446Z"
        },
        "trusted": true
      },
      "execution_count": 41,
      "outputs": []
    },
    {
      "cell_type": "code",
      "source": [
        "min_height = min(heights)\n",
        "max_height = max(heights)\n",
        "min_width = min(widths)\n",
        "max_width = max(widths)"
      ],
      "metadata": {
        "id": "sQHlsyzWNO4l",
        "execution": {
          "iopub.status.busy": "2023-05-28T11:40:56.153522Z",
          "iopub.execute_input": "2023-05-28T11:40:56.153909Z",
          "iopub.status.idle": "2023-05-28T11:40:56.164265Z",
          "shell.execute_reply.started": "2023-05-28T11:40:56.153878Z",
          "shell.execute_reply": "2023-05-28T11:40:56.163335Z"
        },
        "trusted": true
      },
      "execution_count": 42,
      "outputs": []
    },
    {
      "cell_type": "code",
      "source": [
        "# this information is useful for making decision for padding and resizing\n",
        "(min_height, max_height, min_width, max_width)"
      ],
      "metadata": {
        "id": "V9VQ3h02PIad",
        "execution": {
          "iopub.status.busy": "2023-05-28T11:41:03.450354Z",
          "iopub.execute_input": "2023-05-28T11:41:03.451024Z",
          "iopub.status.idle": "2023-05-28T11:41:03.459038Z",
          "shell.execute_reply.started": "2023-05-28T11:41:03.450975Z",
          "shell.execute_reply": "2023-05-28T11:41:03.457703Z"
        },
        "trusted": true,
        "colab": {
          "base_uri": "https://localhost:8080/"
        },
        "outputId": "f1633fa8-9b92-4942-ed61-49e2f8f94f8a"
      },
      "execution_count": 43,
      "outputs": [
        {
          "output_type": "execute_result",
          "data": {
            "text/plain": [
              "(94, 376, 955, 2694)"
            ]
          },
          "metadata": {},
          "execution_count": 43
        }
      ]
    },
    {
      "cell_type": "markdown",
      "source": [
        "# Training"
      ],
      "metadata": {
        "id": "ez68WbS8tgEE"
      }
    },
    {
      "cell_type": "code",
      "source": [
        "from sklearn.model_selection import train_test_split"
      ],
      "metadata": {
        "id": "Po7C0ospgULt"
      },
      "execution_count": 44,
      "outputs": []
    },
    {
      "cell_type": "code",
      "source": [
        "test_size = 0.2\n",
        "train_image_paths, val_image_paths = train_test_split(all_image_paths, test_size=test_size, random_state=42)"
      ],
      "metadata": {
        "id": "1NyJRwUvPKV6",
        "execution": {
          "iopub.status.busy": "2023-05-28T11:41:05.945955Z",
          "iopub.execute_input": "2023-05-28T11:41:05.946530Z",
          "iopub.status.idle": "2023-05-28T11:41:06.590335Z",
          "shell.execute_reply.started": "2023-05-28T11:41:05.946496Z",
          "shell.execute_reply": "2023-05-28T11:41:06.589361Z"
        },
        "trusted": true
      },
      "execution_count": 45,
      "outputs": []
    },
    {
      "cell_type": "code",
      "source": [
        "len(train_image_paths)"
      ],
      "metadata": {
        "id": "aBRnhmEchlzo",
        "colab": {
          "base_uri": "https://localhost:8080/"
        },
        "outputId": "0f978689-6f0b-4616-fa0f-a44e7e5cbc3d"
      },
      "execution_count": 46,
      "outputs": [
        {
          "output_type": "execute_result",
          "data": {
            "text/plain": [
              "1470"
            ]
          },
          "metadata": {},
          "execution_count": 46
        }
      ]
    },
    {
      "cell_type": "code",
      "source": [
        "len(val_image_paths)"
      ],
      "metadata": {
        "id": "j4uwpFSIhsOL",
        "colab": {
          "base_uri": "https://localhost:8080/"
        },
        "outputId": "68cbbac1-b2e4-41ba-9bf5-6b82cca8aed6"
      },
      "execution_count": 47,
      "outputs": [
        {
          "output_type": "execute_result",
          "data": {
            "text/plain": [
              "368"
            ]
          },
          "metadata": {},
          "execution_count": 47
        }
      ]
    },
    {
      "cell_type": "code",
      "source": [
        "# Constants (we choose this number as we later discover that the output of our CNN is (1,9,512) from out input)\n",
        "TIME_STEPS = 240"
      ],
      "metadata": {
        "id": "Vwy_y2OgQQmx",
        "execution": {
          "iopub.status.busy": "2023-05-28T11:41:08.399013Z",
          "iopub.execute_input": "2023-05-28T11:41:08.399735Z",
          "iopub.status.idle": "2023-05-28T11:41:08.404799Z",
          "shell.execute_reply.started": "2023-05-28T11:41:08.399695Z",
          "shell.execute_reply": "2023-05-28T11:41:08.403485Z"
        },
        "trusted": true
      },
      "execution_count": 48,
      "outputs": []
    },
    {
      "cell_type": "code",
      "source": [
        "import numpy as np"
      ],
      "metadata": {
        "id": "dhhL1kQvaUzZ"
      },
      "execution_count": 49,
      "outputs": []
    },
    {
      "cell_type": "markdown",
      "source": [
        "BUILD THE PIPELINE FOR THE IMAGES, definitely this is super basic pipeline and can be improved"
      ],
      "metadata": {
        "id": "2zAUf6otaXJI"
      }
    },
    {
      "cell_type": "code",
      "source": [
        "# lists for training dataset\n",
        "training_img = []\n",
        "training_txt = []\n",
        "train_input_length = []\n",
        "train_label_length = []\n",
        "orig_txt = []\n",
        "resize_max_width=0\n",
        "i=0\n",
        "for train_img_path in train_image_paths:\n",
        "    # print(f_name)\n",
        "    # read input image and convert into gray scale image\n",
        "    img = cv2.cvtColor(cv2.imread(train_img_path), cv2.COLOR_BGR2GRAY)\n",
        "\n",
        "    height, width = img.shape\n",
        "\n",
        "    # in this dataset, we don't need to do any resize at all here.\n",
        "    img = cv2.resize(img,(int(118/height*width),118))\n",
        "\n",
        "    height, width = img.shape\n",
        "\n",
        "    if img.shape[1] > resize_max_width:\n",
        "        resize_max_width = img.shape[1]\n",
        "    #  thêm giá trị đệm vào hình ảnh. Điều này làm cho chiều rộng của hình ảnh bằng 2167\n",
        "    # nếu chiều rộng ban đầu nhỏ hơn 2167. Giá trị đệm được tính bằng phương pháp trung vị ('median').\n",
        "    img = np.pad(img, ((0,0),(0, 2167-width)), 'median')\n",
        "\n",
        "    # Blur it sử dụng bộ lọc Gaussian để làm mờ hình ảnh.\n",
        "    # Điều này giúp làm giảm nhiễu và làm mịn các đường viền trong hình ảnh.\n",
        "    img = cv2.GaussianBlur(img, (5,5), 0)\n",
        "\n",
        "    # Threshold the image using adapative threshold\n",
        "    img = cv2.adaptiveThreshold(img, 255, cv2.ADAPTIVE_THRESH_GAUSSIAN_C, cv2.THRESH_BINARY_INV, 11, 4)\n",
        "\n",
        "    # add channel dimension\n",
        "    img = np.expand_dims(img , axis = 2)\n",
        "\n",
        "    # Normalize each image\n",
        "    img = img/255.\n",
        "\n",
        "    label = dict_filepath_label[train_img_path]\n",
        "    #print(label)\n",
        "    # split data into validation and training dataset as 10% and 90% respectively\n",
        "    orig_txt.append(label)\n",
        "    train_label_length.append(len(label))\n",
        "\n",
        "    # our time steps for valid input\n",
        "    train_input_length.append(TIME_STEPS)\n",
        "    training_img.append(img)\n",
        "\n",
        "    # convert words to digits based on charlist\n",
        "    training_txt.append(encode_to_labels(label))\n",
        "    i+=1\n",
        "    if (i%500 == 0):\n",
        "        print (\"has processed trained {} files\".format(i))\n",
        "print(resize_max_width)"
      ],
      "metadata": {
        "id": "VsVNEbVaPRul",
        "execution": {
          "iopub.status.busy": "2023-05-28T11:41:10.756932Z",
          "iopub.execute_input": "2023-05-28T11:41:10.757295Z",
          "iopub.status.idle": "2023-05-28T11:41:37.164588Z",
          "shell.execute_reply.started": "2023-05-28T11:41:10.757266Z",
          "shell.execute_reply": "2023-05-28T11:41:37.163273Z"
        },
        "trusted": true,
        "colab": {
          "base_uri": "https://localhost:8080/"
        },
        "outputId": "54dcf017-5099-4f42-e0ad-18c582de8858"
      },
      "execution_count": 50,
      "outputs": [
        {
          "output_type": "stream",
          "name": "stdout",
          "text": [
            "has processed trained 500 files\n",
            "has processed trained 1000 files\n",
            "2167\n"
          ]
        }
      ]
    },
    {
      "cell_type": "code",
      "source": [
        "############\n",
        "# lists for test dataset\n",
        "test_img = []\n",
        "test_txt = []\n",
        "test_input_length = []\n",
        "test_label_length = []\n",
        "test_orig_txt = []\n",
        "\n",
        "i=0\n",
        "\n",
        "for test_img_path in test_image_paths:\n",
        "    # print(f_name)\n",
        "    # read input image and convert into gray scale image\n",
        "    img = cv2.cvtColor(cv2.imread(test_img_path), cv2.COLOR_BGR2GRAY)\n",
        "\n",
        "    # in this dataset, we don't need to do any resize at all here.\n",
        "    img = cv2.resize(img,(int(118/height*width),118))\n",
        "\n",
        "    if img.shape[1] > resize_max_width:\n",
        "        resize_max_width = img.shape[1]\n",
        "\n",
        "    img = np.pad(img, ((0,0),(0, 2167-width)), 'median')\n",
        "\n",
        "    # Blur it\n",
        "    img = cv2.GaussianBlur(img, (5,5), 0)\n",
        "\n",
        "    # Threshold the image using adapative threshold\n",
        "    img = cv2.adaptiveThreshold(img, 255, cv2.ADAPTIVE_THRESH_GAUSSIAN_C, cv2.THRESH_BINARY_INV, 11, 4)\n",
        "\n",
        "    # add channel dimension\n",
        "    img = np.expand_dims(img , axis = 2)\n",
        "\n",
        "    # Normalize each image\n",
        "    img = img/255.\n",
        "\n",
        "    label = test_dict_filepath_label[test_img_path]\n",
        "\n",
        "    test_orig_txt.append(label)\n",
        "    test_label_length.append(len(label))\n",
        "\n",
        "    # our time steps for valid input\n",
        "    test_input_length.append(TIME_STEPS)\n",
        "    test_img.append(img)\n",
        "    test_image = np.array(test_img)\n",
        "    # convert words to digits based on charlist\n",
        "    test_txt.append(encode_to_labels(label))\n",
        "    i+=1\n",
        "    if (i%500 == 0):\n",
        "        print (\"has processed test {} files\".format(i))\n",
        "print(resize_max_width)"
      ],
      "metadata": {
        "id": "iCjOLc8MQZmb",
        "execution": {
          "iopub.status.busy": "2023-05-28T11:41:43.502648Z",
          "iopub.execute_input": "2023-05-28T11:41:43.503457Z",
          "iopub.status.idle": "2023-05-28T11:41:49.816739Z",
          "shell.execute_reply.started": "2023-05-28T11:41:43.503415Z",
          "shell.execute_reply": "2023-05-28T11:41:49.815651Z"
        },
        "trusted": true,
        "colab": {
          "base_uri": "https://localhost:8080/"
        },
        "outputId": "44793552-2bbc-411a-98fb-0c50f0c42d92"
      },
      "execution_count": 51,
      "outputs": [
        {
          "output_type": "stream",
          "name": "stdout",
          "text": [
            "No found in char_list : ẫ\n",
            "No found in char_list : ẹ\n",
            "has processed test 500 files\n",
            "2167\n"
          ]
        }
      ]
    },
    {
      "cell_type": "code",
      "source": [
        "#lists for validation dataset\n",
        "valid_img = []\n",
        "valid_txt = []\n",
        "valid_input_length = []\n",
        "valid_label_length = []\n",
        "valid_orig_txt = []\n",
        "\n",
        "i=0\n",
        "\n",
        "for val_img_path in val_image_paths:\n",
        "    # print(f_name)\n",
        "    # read input image and convert into gray scale image\n",
        "    img = cv2.cvtColor(cv2.imread(val_img_path), cv2.COLOR_BGR2GRAY)\n",
        "\n",
        "    # in this dataset, we don't need to do any resize at all here.\n",
        "    img = cv2.resize(img,(int(118/height*width),118))\n",
        "\n",
        "    if img.shape[1] > resize_max_width:\n",
        "        resize_max_width = img.shape[1]\n",
        "\n",
        "    img = np.pad(img, ((0,0),(0, 2167-width)), 'median')\n",
        "\n",
        "    # Blur it\n",
        "    img = cv2.GaussianBlur(img, (5,5), 0)\n",
        "\n",
        "    # Threshold the image using adapative threshold\n",
        "    img = cv2.adaptiveThreshold(img, 255, cv2.ADAPTIVE_THRESH_GAUSSIAN_C, cv2.THRESH_BINARY_INV, 11, 4)\n",
        "\n",
        "    # add channel dimension\n",
        "    img = np.expand_dims(img , axis = 2)\n",
        "\n",
        "    # Normalize each image\n",
        "    img = img/255.\n",
        "\n",
        "    label = dict_filepath_label[val_img_path]\n",
        "\n",
        "    valid_orig_txt.append(label)\n",
        "    valid_label_length.append(len(label))\n",
        "\n",
        "    # our time steps for valid input\n",
        "    valid_input_length.append(TIME_STEPS)\n",
        "    valid_img.append(img)\n",
        "\n",
        "    # convert words to digits based on charlist\n",
        "    valid_txt.append(encode_to_labels(label))\n",
        "    i+=1\n",
        "    if (i%500 == 0):\n",
        "        print (\"has processed test {} files\".format(i))\n",
        "print(resize_max_width)"
      ],
      "metadata": {
        "id": "rJRJqo7NPKE6",
        "colab": {
          "base_uri": "https://localhost:8080/"
        },
        "outputId": "43139b0e-c76c-4fdc-a552-7a98d6524849"
      },
      "execution_count": 52,
      "outputs": [
        {
          "output_type": "stream",
          "name": "stdout",
          "text": [
            "2167\n"
          ]
        }
      ]
    },
    {
      "cell_type": "code",
      "source": [
        "# this is the most controversial part when our max_label_len should be set different or slightly smaller than TIME_STEPS\n",
        "# but let stick to the conventional/normal way: we should to be the same with our TIME_STEPS\n",
        "max_label_len = TIME_STEPS"
      ],
      "metadata": {
        "id": "uDuJdInkQo6p",
        "execution": {
          "iopub.status.busy": "2023-05-28T11:41:53.555132Z",
          "iopub.execute_input": "2023-05-28T11:41:53.555539Z",
          "iopub.status.idle": "2023-05-28T11:41:53.560738Z",
          "shell.execute_reply.started": "2023-05-28T11:41:53.555506Z",
          "shell.execute_reply": "2023-05-28T11:41:53.559428Z"
        },
        "trusted": true
      },
      "execution_count": 53,
      "outputs": []
    },
    {
      "cell_type": "code",
      "source": [
        "# import padding library\n",
        "from tensorflow.keras.preprocessing.sequence import pad_sequences\n",
        "\n",
        "# pad each output label to maximum text length, remember we did that so that we keep training with rnn consistent?\n",
        "train_padded_txt = pad_sequences(training_txt, maxlen=max_label_len, padding='post', value = 0)\n",
        "valid_padded_txt = pad_sequences(valid_txt, maxlen=max_label_len, padding='post', value = 0)"
      ],
      "metadata": {
        "id": "5Yh9wwIlQvMK",
        "execution": {
          "iopub.status.busy": "2023-05-28T11:42:08.440855Z",
          "iopub.execute_input": "2023-05-28T11:42:08.441220Z",
          "iopub.status.idle": "2023-05-28T11:42:08.469034Z",
          "shell.execute_reply.started": "2023-05-28T11:42:08.441189Z",
          "shell.execute_reply": "2023-05-28T11:42:08.468144Z"
        },
        "trusted": true
      },
      "execution_count": 54,
      "outputs": []
    },
    {
      "cell_type": "markdown",
      "source": [
        "# Build Model"
      ],
      "metadata": {
        "id": "ptcBQGzBXOmb"
      }
    },
    {
      "cell_type": "code",
      "source": [
        "# import our model, different layers and activation function\n",
        "from tensorflow.keras.layers import Dense, LSTM, Reshape, BatchNormalization, Input, Conv2D, MaxPool2D, Lambda, Bidirectional, Add, Activation\n",
        "from tensorflow.keras.models import Model\n",
        "from tensorflow.keras.activations import relu, sigmoid, softmax\n",
        "import tensorflow.keras.backend as K\n",
        "from tensorflow.keras.utils import to_categorical\n",
        "from tensorflow.keras.callbacks import CSVLogger, TensorBoard, ModelCheckpoint, EarlyStopping, ReduceLROnPlateau"
      ],
      "metadata": {
        "id": "EXYQb4zxQ-nv",
        "execution": {
          "iopub.status.busy": "2023-05-28T11:42:14.930559Z",
          "iopub.execute_input": "2023-05-28T11:42:14.930948Z",
          "iopub.status.idle": "2023-05-28T11:42:14.942545Z",
          "shell.execute_reply.started": "2023-05-28T11:42:14.930916Z",
          "shell.execute_reply": "2023-05-28T11:42:14.941499Z"
        },
        "trusted": true
      },
      "execution_count": 58,
      "outputs": []
    },
    {
      "cell_type": "code",
      "source": [
        "# OUR FULL MODEL OF CRNN AND LSTM\n",
        "\n",
        "# input with shape of height=32 and width=128\n",
        "inputs = Input(shape=(118,2167,1))\n",
        "\n",
        "# Block 1\n",
        "x = Conv2D(64, (3,3), padding='same')(inputs)\n",
        "x = MaxPool2D(pool_size=3, strides=3)(x)\n",
        "x = Activation('relu')(x)\n",
        "x_1 = x\n",
        "\n",
        "# Block 2\n",
        "x = Conv2D(128, (3,3), padding='same')(x)\n",
        "x = MaxPool2D(pool_size=3, strides=3)(x)\n",
        "x = Activation('relu')(x)\n",
        "x_2 = x\n",
        "\n",
        "# Block 3\n",
        "x = Conv2D(256, (3,3), padding='same')(x)\n",
        "x = BatchNormalization()(x)\n",
        "x = Activation('relu')(x)\n",
        "x_3 = x\n",
        "\n",
        "# Block4\n",
        "x = Conv2D(256, (3,3), padding='same')(x)\n",
        "x = BatchNormalization()(x)\n",
        "x = Add()([x,x_3])\n",
        "x = Activation('relu')(x)\n",
        "x_4 = x\n",
        "\n",
        "# Block5\n",
        "x = Conv2D(512, (3,3), padding='same')(x)\n",
        "x = BatchNormalization()(x)\n",
        "x = Activation('relu')(x)\n",
        "x_5 = x\n",
        "\n",
        "# Block6\n",
        "x = Conv2D(512, (3,3), padding='same')(x)\n",
        "x = BatchNormalization()(x)\n",
        "x = Add()([x,x_5])\n",
        "x = Activation('relu')(x)\n",
        "\n",
        "# Block7\n",
        "x = Conv2D(1024, (3,3), padding='same')(x)\n",
        "x = BatchNormalization()(x)\n",
        "x = MaxPool2D(pool_size=(3, 1))(x)\n",
        "x = Activation('relu')(x)\n",
        "\n",
        "# pooling layer with kernel size (2,2) to make the height/2 #(1,9,512)\n",
        "x = MaxPool2D(pool_size=(3, 1))(x)\n",
        "\n",
        "# # to remove the first dimension of one: (1, 31, 512) to (31, 512)\n",
        "squeezed = Lambda(lambda x: K.squeeze(x, 1))(x)\n",
        "\n",
        "# # # bidirectional LSTM layers with units=128\n",
        "blstm_1 = Bidirectional(LSTM(512, return_sequences=True, dropout = 0.2))(squeezed)\n",
        "blstm_2 = Bidirectional(LSTM(512, return_sequences=True, dropout = 0.2))(blstm_1)\n",
        "\n",
        "# # this is our softmax character proprobility with timesteps\n",
        "outputs = Dense(len(char_list)+1, activation = 'softmax')(blstm_2)\n",
        "\n",
        "# model to be used at test time\n",
        "\n",
        "act_model = Model(inputs, outputs)"
      ],
      "metadata": {
        "id": "t04Eor0JQ3tK",
        "execution": {
          "iopub.status.busy": "2023-05-28T11:42:18.773216Z",
          "iopub.execute_input": "2023-05-28T11:42:18.773585Z",
          "iopub.status.idle": "2023-05-28T11:42:25.079727Z",
          "shell.execute_reply.started": "2023-05-28T11:42:18.773557Z",
          "shell.execute_reply": "2023-05-28T11:42:25.078703Z"
        },
        "trusted": true
      },
      "execution_count": 59,
      "outputs": []
    },
    {
      "cell_type": "code",
      "source": [
        "act_model.summary()"
      ],
      "metadata": {
        "id": "n9GJ9chbQ7ha",
        "execution": {
          "iopub.status.busy": "2023-05-28T11:42:30.258940Z",
          "iopub.execute_input": "2023-05-28T11:42:30.259301Z",
          "iopub.status.idle": "2023-05-28T11:42:30.338069Z",
          "shell.execute_reply.started": "2023-05-28T11:42:30.259272Z",
          "shell.execute_reply": "2023-05-28T11:42:30.337380Z"
        },
        "trusted": true,
        "colab": {
          "base_uri": "https://localhost:8080/"
        },
        "outputId": "f85b9edc-f34c-4f28-bcb7-a04720a970f5"
      },
      "execution_count": 52,
      "outputs": [
        {
          "output_type": "stream",
          "name": "stdout",
          "text": [
            "Model: \"model\"\n",
            "__________________________________________________________________________________________________\n",
            " Layer (type)                   Output Shape         Param #     Connected to                     \n",
            "==================================================================================================\n",
            " input_1 (InputLayer)           [(None, 118, 2167,   0           []                               \n",
            "                                1)]                                                               \n",
            "                                                                                                  \n",
            " conv2d (Conv2D)                (None, 118, 2167, 6  640         ['input_1[0][0]']                \n",
            "                                4)                                                                \n",
            "                                                                                                  \n",
            " max_pooling2d (MaxPooling2D)   (None, 39, 722, 64)  0           ['conv2d[0][0]']                 \n",
            "                                                                                                  \n",
            " activation (Activation)        (None, 39, 722, 64)  0           ['max_pooling2d[0][0]']          \n",
            "                                                                                                  \n",
            " conv2d_1 (Conv2D)              (None, 39, 722, 128  73856       ['activation[0][0]']             \n",
            "                                )                                                                 \n",
            "                                                                                                  \n",
            " max_pooling2d_1 (MaxPooling2D)  (None, 13, 240, 128  0          ['conv2d_1[0][0]']               \n",
            "                                )                                                                 \n",
            "                                                                                                  \n",
            " activation_1 (Activation)      (None, 13, 240, 128  0           ['max_pooling2d_1[0][0]']        \n",
            "                                )                                                                 \n",
            "                                                                                                  \n",
            " conv2d_2 (Conv2D)              (None, 13, 240, 256  295168      ['activation_1[0][0]']           \n",
            "                                )                                                                 \n",
            "                                                                                                  \n",
            " batch_normalization (BatchNorm  (None, 13, 240, 256  1024       ['conv2d_2[0][0]']               \n",
            " alization)                     )                                                                 \n",
            "                                                                                                  \n",
            " activation_2 (Activation)      (None, 13, 240, 256  0           ['batch_normalization[0][0]']    \n",
            "                                )                                                                 \n",
            "                                                                                                  \n",
            " conv2d_3 (Conv2D)              (None, 13, 240, 256  590080      ['activation_2[0][0]']           \n",
            "                                )                                                                 \n",
            "                                                                                                  \n",
            " batch_normalization_1 (BatchNo  (None, 13, 240, 256  1024       ['conv2d_3[0][0]']               \n",
            " rmalization)                   )                                                                 \n",
            "                                                                                                  \n",
            " add (Add)                      (None, 13, 240, 256  0           ['batch_normalization_1[0][0]',  \n",
            "                                )                                 'activation_2[0][0]']           \n",
            "                                                                                                  \n",
            " activation_3 (Activation)      (None, 13, 240, 256  0           ['add[0][0]']                    \n",
            "                                )                                                                 \n",
            "                                                                                                  \n",
            " conv2d_4 (Conv2D)              (None, 13, 240, 512  1180160     ['activation_3[0][0]']           \n",
            "                                )                                                                 \n",
            "                                                                                                  \n",
            " batch_normalization_2 (BatchNo  (None, 13, 240, 512  2048       ['conv2d_4[0][0]']               \n",
            " rmalization)                   )                                                                 \n",
            "                                                                                                  \n",
            " activation_4 (Activation)      (None, 13, 240, 512  0           ['batch_normalization_2[0][0]']  \n",
            "                                )                                                                 \n",
            "                                                                                                  \n",
            " conv2d_5 (Conv2D)              (None, 13, 240, 512  2359808     ['activation_4[0][0]']           \n",
            "                                )                                                                 \n",
            "                                                                                                  \n",
            " batch_normalization_3 (BatchNo  (None, 13, 240, 512  2048       ['conv2d_5[0][0]']               \n",
            " rmalization)                   )                                                                 \n",
            "                                                                                                  \n",
            " add_1 (Add)                    (None, 13, 240, 512  0           ['batch_normalization_3[0][0]',  \n",
            "                                )                                 'activation_4[0][0]']           \n",
            "                                                                                                  \n",
            " activation_5 (Activation)      (None, 13, 240, 512  0           ['add_1[0][0]']                  \n",
            "                                )                                                                 \n",
            "                                                                                                  \n",
            " conv2d_6 (Conv2D)              (None, 13, 240, 102  4719616     ['activation_5[0][0]']           \n",
            "                                4)                                                                \n",
            "                                                                                                  \n",
            " batch_normalization_4 (BatchNo  (None, 13, 240, 102  4096       ['conv2d_6[0][0]']               \n",
            " rmalization)                   4)                                                                \n",
            "                                                                                                  \n",
            " max_pooling2d_2 (MaxPooling2D)  (None, 4, 240, 1024  0          ['batch_normalization_4[0][0]']  \n",
            "                                )                                                                 \n",
            "                                                                                                  \n",
            " activation_6 (Activation)      (None, 4, 240, 1024  0           ['max_pooling2d_2[0][0]']        \n",
            "                                )                                                                 \n",
            "                                                                                                  \n",
            " max_pooling2d_3 (MaxPooling2D)  (None, 1, 240, 1024  0          ['activation_6[0][0]']           \n",
            "                                )                                                                 \n",
            "                                                                                                  \n",
            " lambda (Lambda)                (None, 240, 1024)    0           ['max_pooling2d_3[0][0]']        \n",
            "                                                                                                  \n",
            " bidirectional (Bidirectional)  (None, 240, 1024)    6295552     ['lambda[0][0]']                 \n",
            "                                                                                                  \n",
            " bidirectional_1 (Bidirectional  (None, 240, 1024)   6295552     ['bidirectional[0][0]']          \n",
            " )                                                                                                \n",
            "                                                                                                  \n",
            " dense (Dense)                  (None, 240, 141)     144525      ['bidirectional_1[0][0]']        \n",
            "                                                                                                  \n",
            "==================================================================================================\n",
            "Total params: 21,965,197\n",
            "Trainable params: 21,960,077\n",
            "Non-trainable params: 5,120\n",
            "__________________________________________________________________________________________________\n"
          ]
        }
      ]
    },
    {
      "cell_type": "code",
      "source": [
        "### ctc definition part\n",
        "\"\"\"\n",
        "The reason why we use ctc_batch_cost instead of ctc_cost because\n",
        "In batch cost, the program managed to mask out padded sequence using label_length,\n",
        "So the cost won't include the padding 0 section.\n",
        "\"\"\"\n",
        "\n",
        "\"\"\"\n",
        "The way CTC is modelled currently in Keras is that you need to implement the loss function as a layer, you did that already (loss_out).\n",
        "Your problem is that the inputs you give that layer are not tensors from Theano/TensorFlow but numpy arrays.\n",
        "To change that one option is to model these values as inputs to your model.\n",
        "That is why we need to manually create Input for labels, input length and label_length.\n",
        "\"\"\"\n",
        "\n",
        "# define the label input shape for ctc\n",
        "labels = Input(name='the_labels', shape=[max_label_len], dtype='float32')\n",
        "\n",
        "\"\"\"\n",
        "where input_length and label_length are constants you created previously\n",
        "the easiest way here is to have a fixed batch size in training\n",
        "the lengths should have the same batch size (see shapes in the link for ctc_cost)\n",
        "\"\"\"\n",
        "\n",
        "# define the length of input and label for ctc\n",
        "input_length = Input(name='input_length', shape=[1], dtype='int64')\n",
        "label_length = Input(name='label_length', shape=[1], dtype='int64')\n",
        "\n",
        "# define a ctc lambda function to take arguments and return ctc_bach_cost\n",
        "def ctc_lambda_func(args):\n",
        "    y_pred, labels, input_length, label_length = args\n",
        "    \"\"\"\n",
        "    labels: tensor (number of samples, max_string_length) containing the truth labels.\n",
        "    y_pred: tensor (number of samples, time_steps, num_character_labels) containing the prediction, or output of the softmax.\n",
        "    input_length: tensor (number of samples, 1) containing the sequence length for each batch item in y_pred.\n",
        "    label_length: tensor (number of samples, 1) containing the sequence length for each batch item in y_true.\n",
        "    \"\"\"\n",
        "    return K.ctc_batch_cost(labels, y_pred, input_length, label_length)\n",
        "\n",
        "# out loss function (just take the inputs and put it in our ctc_batch_cost)\n",
        "loss_out = Lambda(ctc_lambda_func, output_shape=(1,), name='ctc')([outputs, labels, input_length, label_length])\n",
        "\n",
        "#model to be used at training time\n",
        "model = Model(inputs=[inputs, labels, input_length, label_length], outputs=loss_out)"
      ],
      "metadata": {
        "id": "rNQNBDyrRCEm",
        "execution": {
          "iopub.status.busy": "2023-05-28T11:42:35.048686Z",
          "iopub.execute_input": "2023-05-28T11:42:35.050672Z",
          "iopub.status.idle": "2023-05-28T11:42:35.236084Z",
          "shell.execute_reply.started": "2023-05-28T11:42:35.050630Z",
          "shell.execute_reply": "2023-05-28T11:42:35.234910Z"
        },
        "trusted": true
      },
      "execution_count": 53,
      "outputs": []
    },
    {
      "cell_type": "code",
      "source": [
        "# ready ctc loss function and optimizers\n",
        "model.compile(loss={'ctc': lambda y_true, y_pred: y_pred}, optimizer = 'adam')\n",
        "\n",
        "# our callbacks hell to optimize our learning\n",
        "callbacks = [\n",
        "    TensorBoard(\n",
        "        log_dir='./logs',\n",
        "        histogram_freq=10,\n",
        "        profile_batch=0,\n",
        "        write_graph=True,\n",
        "        write_images=False,\n",
        "        update_freq=\"epoch\"),\n",
        "    ModelCheckpoint(\n",
        "        filepath=os.path.join('/content/drive/MyDrive/advanced CV/model/checkpoint_weights.hdf5'),\n",
        "        monitor='val_loss',\n",
        "        save_best_only=True,\n",
        "        save_weights_only=True,\n",
        "        verbose=1),\n",
        "    EarlyStopping(\n",
        "        monitor='val_loss',\n",
        "        min_delta=1e-8,\n",
        "        patience=20,\n",
        "        restore_best_weights=True,\n",
        "        verbose=1),\n",
        "    ReduceLROnPlateau(\n",
        "        monitor='val_loss',\n",
        "        min_delta=1e-8,\n",
        "        factor=0.2,\n",
        "        patience=10,\n",
        "        verbose=1)\n",
        "]\n",
        "callbacks_list = callbacks"
      ],
      "metadata": {
        "id": "p4LLX4rfRD8q",
        "execution": {
          "iopub.status.busy": "2023-05-28T11:42:39.310531Z",
          "iopub.execute_input": "2023-05-28T11:42:39.310896Z",
          "iopub.status.idle": "2023-05-28T11:42:39.335940Z",
          "shell.execute_reply.started": "2023-05-28T11:42:39.310867Z",
          "shell.execute_reply": "2023-05-28T11:42:39.335008Z"
        },
        "trusted": true
      },
      "execution_count": 54,
      "outputs": []
    },
    {
      "cell_type": "code",
      "source": [
        "model.summary()"
      ],
      "metadata": {
        "id": "1ZT_fn-ZRFYk",
        "execution": {
          "iopub.status.busy": "2023-05-28T11:42:44.859786Z",
          "iopub.execute_input": "2023-05-28T11:42:44.860173Z",
          "iopub.status.idle": "2023-05-28T11:42:44.952939Z",
          "shell.execute_reply.started": "2023-05-28T11:42:44.860125Z",
          "shell.execute_reply": "2023-05-28T11:42:44.952163Z"
        },
        "trusted": true,
        "colab": {
          "base_uri": "https://localhost:8080/"
        },
        "outputId": "de19ffec-ae2c-4b4a-d3f5-0f30fb6d1958"
      },
      "execution_count": 55,
      "outputs": [
        {
          "output_type": "stream",
          "name": "stdout",
          "text": [
            "Model: \"model_1\"\n",
            "__________________________________________________________________________________________________\n",
            " Layer (type)                   Output Shape         Param #     Connected to                     \n",
            "==================================================================================================\n",
            " input_1 (InputLayer)           [(None, 118, 2167,   0           []                               \n",
            "                                1)]                                                               \n",
            "                                                                                                  \n",
            " conv2d (Conv2D)                (None, 118, 2167, 6  640         ['input_1[0][0]']                \n",
            "                                4)                                                                \n",
            "                                                                                                  \n",
            " max_pooling2d (MaxPooling2D)   (None, 39, 722, 64)  0           ['conv2d[0][0]']                 \n",
            "                                                                                                  \n",
            " activation (Activation)        (None, 39, 722, 64)  0           ['max_pooling2d[0][0]']          \n",
            "                                                                                                  \n",
            " conv2d_1 (Conv2D)              (None, 39, 722, 128  73856       ['activation[0][0]']             \n",
            "                                )                                                                 \n",
            "                                                                                                  \n",
            " max_pooling2d_1 (MaxPooling2D)  (None, 13, 240, 128  0          ['conv2d_1[0][0]']               \n",
            "                                )                                                                 \n",
            "                                                                                                  \n",
            " activation_1 (Activation)      (None, 13, 240, 128  0           ['max_pooling2d_1[0][0]']        \n",
            "                                )                                                                 \n",
            "                                                                                                  \n",
            " conv2d_2 (Conv2D)              (None, 13, 240, 256  295168      ['activation_1[0][0]']           \n",
            "                                )                                                                 \n",
            "                                                                                                  \n",
            " batch_normalization (BatchNorm  (None, 13, 240, 256  1024       ['conv2d_2[0][0]']               \n",
            " alization)                     )                                                                 \n",
            "                                                                                                  \n",
            " activation_2 (Activation)      (None, 13, 240, 256  0           ['batch_normalization[0][0]']    \n",
            "                                )                                                                 \n",
            "                                                                                                  \n",
            " conv2d_3 (Conv2D)              (None, 13, 240, 256  590080      ['activation_2[0][0]']           \n",
            "                                )                                                                 \n",
            "                                                                                                  \n",
            " batch_normalization_1 (BatchNo  (None, 13, 240, 256  1024       ['conv2d_3[0][0]']               \n",
            " rmalization)                   )                                                                 \n",
            "                                                                                                  \n",
            " add (Add)                      (None, 13, 240, 256  0           ['batch_normalization_1[0][0]',  \n",
            "                                )                                 'activation_2[0][0]']           \n",
            "                                                                                                  \n",
            " activation_3 (Activation)      (None, 13, 240, 256  0           ['add[0][0]']                    \n",
            "                                )                                                                 \n",
            "                                                                                                  \n",
            " conv2d_4 (Conv2D)              (None, 13, 240, 512  1180160     ['activation_3[0][0]']           \n",
            "                                )                                                                 \n",
            "                                                                                                  \n",
            " batch_normalization_2 (BatchNo  (None, 13, 240, 512  2048       ['conv2d_4[0][0]']               \n",
            " rmalization)                   )                                                                 \n",
            "                                                                                                  \n",
            " activation_4 (Activation)      (None, 13, 240, 512  0           ['batch_normalization_2[0][0]']  \n",
            "                                )                                                                 \n",
            "                                                                                                  \n",
            " conv2d_5 (Conv2D)              (None, 13, 240, 512  2359808     ['activation_4[0][0]']           \n",
            "                                )                                                                 \n",
            "                                                                                                  \n",
            " batch_normalization_3 (BatchNo  (None, 13, 240, 512  2048       ['conv2d_5[0][0]']               \n",
            " rmalization)                   )                                                                 \n",
            "                                                                                                  \n",
            " add_1 (Add)                    (None, 13, 240, 512  0           ['batch_normalization_3[0][0]',  \n",
            "                                )                                 'activation_4[0][0]']           \n",
            "                                                                                                  \n",
            " activation_5 (Activation)      (None, 13, 240, 512  0           ['add_1[0][0]']                  \n",
            "                                )                                                                 \n",
            "                                                                                                  \n",
            " conv2d_6 (Conv2D)              (None, 13, 240, 102  4719616     ['activation_5[0][0]']           \n",
            "                                4)                                                                \n",
            "                                                                                                  \n",
            " batch_normalization_4 (BatchNo  (None, 13, 240, 102  4096       ['conv2d_6[0][0]']               \n",
            " rmalization)                   4)                                                                \n",
            "                                                                                                  \n",
            " max_pooling2d_2 (MaxPooling2D)  (None, 4, 240, 1024  0          ['batch_normalization_4[0][0]']  \n",
            "                                )                                                                 \n",
            "                                                                                                  \n",
            " activation_6 (Activation)      (None, 4, 240, 1024  0           ['max_pooling2d_2[0][0]']        \n",
            "                                )                                                                 \n",
            "                                                                                                  \n",
            " max_pooling2d_3 (MaxPooling2D)  (None, 1, 240, 1024  0          ['activation_6[0][0]']           \n",
            "                                )                                                                 \n",
            "                                                                                                  \n",
            " lambda (Lambda)                (None, 240, 1024)    0           ['max_pooling2d_3[0][0]']        \n",
            "                                                                                                  \n",
            " bidirectional (Bidirectional)  (None, 240, 1024)    6295552     ['lambda[0][0]']                 \n",
            "                                                                                                  \n",
            " bidirectional_1 (Bidirectional  (None, 240, 1024)   6295552     ['bidirectional[0][0]']          \n",
            " )                                                                                                \n",
            "                                                                                                  \n",
            " dense (Dense)                  (None, 240, 141)     144525      ['bidirectional_1[0][0]']        \n",
            "                                                                                                  \n",
            " the_labels (InputLayer)        [(None, 240)]        0           []                               \n",
            "                                                                                                  \n",
            " input_length (InputLayer)      [(None, 1)]          0           []                               \n",
            "                                                                                                  \n",
            " label_length (InputLayer)      [(None, 1)]          0           []                               \n",
            "                                                                                                  \n",
            " ctc (Lambda)                   (None, 1)            0           ['dense[0][0]',                  \n",
            "                                                                  'the_labels[0][0]',             \n",
            "                                                                  'input_length[0][0]',           \n",
            "                                                                  'label_length[0][0]']           \n",
            "                                                                                                  \n",
            "==================================================================================================\n",
            "Total params: 21,965,197\n",
            "Trainable params: 21,960,077\n",
            "Non-trainable params: 5,120\n",
            "__________________________________________________________________________________________________\n"
          ]
        }
      ]
    },
    {
      "cell_type": "code",
      "source": [
        "# notice I convert everything to numpy array here since model can fit either tensors and numpy array\n",
        "# the reason why i stick with numpy array because it is simple to code and also because it is baseline solution\n",
        "# I want to use openCV (can't run with tensors because it is CPU operations)\n",
        "# And if I want to use tensors then i will make sure my image preprocessing functions uses tensor compatible operations\n",
        "\n",
        "# ready our training data\n",
        "training_img = np.array(training_img)\n",
        "train_input_length = np.array(train_input_length)  # all must be equal length to T timesteps\n",
        "train_label_length = np.array(train_label_length)  # different length (only the same in Captcha dataset)\n",
        "\n",
        "# ready our validating data\n",
        "valid_img = np.array(valid_img)\n",
        "valid_input_length = np.array(valid_input_length) # all must be equal length to T timesteps\n",
        "valid_label_length = np.array(valid_label_length) # different length (only the same in Captcha dataset)\n",
        "\n"
      ],
      "metadata": {
        "id": "JgViIy1QRNOZ",
        "execution": {
          "iopub.status.busy": "2023-05-28T11:42:51.718065Z",
          "iopub.execute_input": "2023-05-28T11:42:51.718470Z",
          "iopub.status.idle": "2023-05-28T11:42:53.061516Z",
          "shell.execute_reply.started": "2023-05-28T11:42:51.718438Z",
          "shell.execute_reply": "2023-05-28T11:42:53.060525Z"
        },
        "trusted": true
      },
      "execution_count": 56,
      "outputs": []
    },
    {
      "cell_type": "code",
      "source": [
        "# UNCOMMENT 2 CELLS TO TRAINING MODEL"
      ],
      "metadata": {
        "id": "ZbB8XOxWWTEz"
      },
      "execution_count": 60,
      "outputs": []
    },
    {
      "cell_type": "code",
      "source": [
        "# # ready our test data to test\n",
        "# test_img = np.array(test_img)\n",
        "# test_input_length = np.array(test_input_length) # all must be equal length to T timesteps\n",
        "# test_label_length = np.array(test_label_length) # different length (only the same in Captcha dataset)"
      ],
      "metadata": {
        "id": "EjWOfk5aR_d6"
      },
      "execution_count": 61,
      "outputs": []
    },
    {
      "cell_type": "code",
      "source": [
        "# # choose batchsize and epochs\n",
        "\n",
        "# batch_size = 2\n",
        "# epochs = 100\n",
        "\n",
        "# history = model.fit(x=[training_img, train_padded_txt, train_input_length, train_label_length],\n",
        "#           y=np.zeros(len(training_img)),\n",
        "#           batch_size=batch_size,\n",
        "#           epochs = epochs,\n",
        "#           validation_data = ([valid_img, valid_padded_txt, valid_input_length, valid_label_length], [np.zeros(len(valid_img))]),\n",
        "#           verbose = 1, callbacks = callbacks_list)"
      ],
      "metadata": {
        "id": "lgms9U57RPOi",
        "execution": {
          "iopub.status.busy": "2023-05-28T11:42:56.702279Z",
          "iopub.execute_input": "2023-05-28T11:42:56.702955Z",
          "iopub.status.idle": "2023-05-28T11:42:56.707841Z",
          "shell.execute_reply.started": "2023-05-28T11:42:56.702922Z",
          "shell.execute_reply": "2023-05-28T11:42:56.706698Z"
        },
        "trusted": true
      },
      "execution_count": 62,
      "outputs": []
    },
    {
      "cell_type": "markdown",
      "source": [
        "# Evaluation"
      ],
      "metadata": {
        "id": "njYW35MAu80d"
      }
    },
    {
      "cell_type": "markdown",
      "source": [
        "## Test Evaluation"
      ],
      "metadata": {
        "id": "3rqvHuoMPkfN"
      }
    },
    {
      "cell_type": "markdown",
      "source": [
        "### Test one sample"
      ],
      "metadata": {
        "id": "RIhW4vbDcKdd"
      }
    },
    {
      "cell_type": "code",
      "source": [
        "# load the saved best model weights\n",
        "# act_model.load_weights(os.path.join('/content/drive/MyDrive/UIT/Thị giác máy tính nâng cao/advanced CV/model/model_checkpoint_weights.hdf5'))\n",
        "act_model.load_weights(os.path.join('/content/drive/MyDrive/advanced CV/model/model_checkpoint_weights.hdf5'))"
      ],
      "metadata": {
        "id": "RiAB7HezRWVC"
      },
      "execution_count": 60,
      "outputs": []
    },
    {
      "cell_type": "code",
      "source": [
        "# resize_max_width = 2167"
      ],
      "metadata": {
        "id": "kcjPsCh6uGmT"
      },
      "execution_count": 64,
      "outputs": []
    },
    {
      "cell_type": "code",
      "source": [
        "import time"
      ],
      "metadata": {
        "id": "kxniAa8JwK_Z"
      },
      "execution_count": 65,
      "outputs": []
    },
    {
      "cell_type": "code",
      "source": [
        "import cv2\n",
        "import numpy as np\n",
        "\n",
        "test_image_path = \"/content/drive/MyDrive/advanced CV/data/test_Hung/Private Test/0052_tests.png\"\n",
        "\n",
        "test_image = cv2.imread(test_image_path)\n",
        "\n",
        "test_image = cv2.cvtColor(test_image, cv2.COLOR_BGR2GRAY)\n",
        "\n",
        "test_image = cv2.resize(test_image, (int(118/height*width), 118))\n",
        "\n",
        "if (test_image.shape[1] > resize_max_width):\n",
        "  resize_max_width = test_image.shape[1]\n",
        "\n",
        "test_image = np.pad(test_image, ((0,0),(0, 2167 - width)), 'median')\n",
        "\n",
        "test_image = cv2.GaussianBlur(test_image, (5,5), 0)\n",
        "\n",
        "test_image = cv2.adaptiveThreshold(test_image, 255, cv2.ADAPTIVE_THRESH_GAUSSIAN_C, cv2.THRESH_BINARY_INV, 11, 4)\n",
        "\n",
        "test_image = np.expand_dims(test_image, axis = 2)\n",
        "test_image = np.expand_dims(test_image, axis = 0)\n",
        "\n",
        "test_image = test_image / 255"
      ],
      "metadata": {
        "id": "m__Xafg8t7Bn"
      },
      "execution_count": 66,
      "outputs": []
    },
    {
      "cell_type": "code",
      "source": [
        "start_time = time.time()\n",
        "prediction = act_model.predict(test_image)\n",
        "out = K.get_value(K.ctc_decode(prediction, input_length=np.ones(prediction.shape[0])*prediction.shape[1], greedy=True)[0][0])\n",
        "one_predictions = []\n",
        "i = 0\n",
        "for x in out:\n",
        "    print(\"predicted text = \" , end = '')\n",
        "    pred = \"\"\n",
        "    for p in x:\n",
        "        if int(p) != -1:\n",
        "            pred += char_list[int(p)]\n",
        "    print(pred)\n",
        "    one_predictions.append(pred)\n",
        "    i+=1\n",
        "end_time = time.time()\n",
        "execution_time = end_time - start_time\n",
        "\n",
        "print(\"Time Execution: \", execution_time, \" seconds\")"
      ],
      "metadata": {
        "id": "MZ8uExkVsI2D",
        "colab": {
          "base_uri": "https://localhost:8080/"
        },
        "outputId": "ad7b2c12-5149-41cf-e47b-8ec268bea708"
      },
      "execution_count": 67,
      "outputs": [
        {
          "output_type": "stream",
          "name": "stdout",
          "text": [
            "1/1 [==============================] - 22s 22s/step\n",
            "predicted text = 146/37 Huyỳnh Mấn Đạt, Phường 03, Quận 5, TP Hồ Chí Minh\n",
            "Time Execution:  31.468175649642944  seconds\n"
          ]
        }
      ]
    },
    {
      "cell_type": "markdown",
      "source": [
        "### Test entire samples"
      ],
      "metadata": {
        "id": "_-i6JyLvrzhh"
      }
    },
    {
      "cell_type": "code",
      "source": [
        "NO_PREDICTS = 100\n",
        "OFFSET=0\n",
        "test_prediction = act_model.predict(test_image)\n"
      ],
      "metadata": {
        "colab": {
          "base_uri": "https://localhost:8080/"
        },
        "id": "SGIZTyqubxoZ",
        "outputId": "1d398dc3-4a9b-4141-8f20-7e2a28520be9"
      },
      "execution_count": 61,
      "outputs": [
        {
          "output_type": "stream",
          "name": "stdout",
          "text": [
            "18/18 [==============================] - 32s 490ms/step\n"
          ]
        }
      ]
    },
    {
      "cell_type": "code",
      "source": [
        "test_prediction.shape"
      ],
      "metadata": {
        "colab": {
          "base_uri": "https://localhost:8080/"
        },
        "id": "hZtRA0sUcey4",
        "outputId": "13a912f3-965e-4db1-9d5f-76298b45919e"
      },
      "execution_count": 62,
      "outputs": [
        {
          "output_type": "execute_result",
          "data": {
            "text/plain": [
              "(549, 240, 141)"
            ]
          },
          "metadata": {},
          "execution_count": 62
        }
      ]
    },
    {
      "cell_type": "code",
      "source": [
        "# use CTC decoder\n",
        "out = K.get_value(K.ctc_decode(test_prediction, input_length=np.ones(test_prediction.shape[0])*test_prediction.shape[1],\n",
        "                         greedy=True)[0][0])\n",
        "# see the results\n",
        "all_test_predictions =[]\n",
        "i = 0\n",
        "for x in out:\n",
        "    print(\"original_text  = \", test_orig_txt[i+OFFSET])\n",
        "    print(\"predicted text = \", end = '')\n",
        "    pred = \"\"\n",
        "    for p in x:\n",
        "        if int(p) != -1:\n",
        "            pred += char_list[int(p)]\n",
        "    print(pred)\n",
        "    all_test_predictions.append(pred)\n",
        "    i+=1"
      ],
      "metadata": {
        "id": "WInOrJBwSahg",
        "colab": {
          "base_uri": "https://localhost:8080/"
        },
        "outputId": "d027e52c-d7ce-4494-ac3a-03cfb342de45"
      },
      "execution_count": 64,
      "outputs": [
        {
          "output_type": "stream",
          "name": "stdout",
          "text": [
            "original_text  =  35 Ni Sư Huỳnh Liên, Phường 10, Quận Tân Bình, TP Hồ Chí Minh\n",
            "predicted text = 35 Ni Sư Huỳnh Lên, Phường 10, Quận Tân Bình, TP Hồ Chí Minh\n",
            "original_text  =  Số 35/70B, KP 9, Phường Hố Nai, Thành Phố Biên Hoà, Đồng Nai\n",
            "predicted text = Số 35/đ0B, KP 9, Phường Hố Nai, Thành Phố Bên Hoà, Đồng Nai\n",
            "original_text  =  Số 99 phố Yên Phúc, Phường Phúc La, Quận Hà Đông, Hà Nội\n",
            "predicted text = Số 99 Phố Yên Phúc, Phường Phúc La, Quận Hà Đông, Hà Nội\n",
            "original_text  =  Số 187, tổ 8, ấp Tân Hòa, Xã Tân Tiến, Huyện Bù Đốp, Bình Phước\n",
            "predicted text = Số 87, t 8, ấp Tân Hoà, Xã Tấn Tiún, Huyện Bù Đốp, Đình Phướnc\n",
            "original_text  =  271 Huỳnh Ngọc Huệ, Phường Hoà Khê, Quận Thanh Khê, Đà Nẵng\n",
            "predicted text = 271 Huỳỳnh Ngọc Huê, Phường Hòa Khê, Quận Thanh Khê, Đà Nẵng\n",
            "original_text  =  Số 10, đường Lý Văn Lâm, Phường 1, Thành Phố Cà Mau, Cà Mau\n",
            "predicted text = Số 10, đường Lý Vấn Lâm, Phường 1, Thành Phố Cà Mau, Cà Mau\n",
            "original_text  =  Số 12, ngõ 11, phố Thái Hà, Phường Trung Liệt, Quận Đống đa, Hà Nội\n",
            "predicted text = Số 12, Ngõ 11, phố Thái H, Phường Trung Lnt, Quận ống Đa, Hà Nội\n",
            "original_text  =  Số 33 Trần Cao Vân, Phường Ngọc Trạo, Thành phố Thanh Hoá, Thanh Hoá\n",
            "predicted text = Vãn  àng TTền Cao Vân, Phường Lạc Trạc Thành hô BnHrái, Trành Hai\n",
            "original_text  =  Số 47, tổ 2D, khu 1, Phường Gia Cẩm, Thành phố Việt Trì, Phú Thọ\n",
            "predicted text = Số L4 7, tổ 2D hu )1, Phường Gia Cầu, Thành phố Lệt Tà, Phú Tnh\n",
            "original_text  =  Thôn Cầu Đen, Xã Thanh Xuân, Huyện Sóc Sơn, Hà Nội\n",
            "predicted text = Thôn Cầu Đu, Xã Thanh Xuân, Huyện Sóc Sơn, Hà Nội\n",
            "original_text  =  6/2 Lầu Tân Khai, Phường 4, Quận 11, TP Hồ Chí Minh\n",
            "predicted text = 6/2 Lầu Tân Khai, Phường 4, Quận 11, TP Hồ Chí Minh\n",
            "original_text  =  61/14A Đường số 19, Phường 8, Quận Gò Vấp, TP Hồ Chí Minh\n",
            "predicted text = Số1/H4 Đờơn9 Cã 19, Phường 2, Quận Gò Vấp, TP Hồ Chí Minh\n",
            "original_text  =  Số 14 Dãy B3 Khu tập thể sân bay, Xã Phú Minh, Huyện Sóc Sơn, Hà Nội\n",
            "predicted text = Số A Duy B3 Lâm tệp th Sên Lny, Xã Phú Minh, Huyện Sc Sơn, Hà Nội\n",
            "original_text  =  ấp 2, xã Tân Thanh, Xã Tân Thanh, Huyện Cái Bè, Tiền Giang\n",
            "predicted text = ấp 2, Xã Tân Tháh, ãn Tân Thnh, Huyện Cóú Bê, Tền Điang\n",
            "original_text  =  Số 9 lô 5/6A Bạch Đằng, Phường Hạ Lý, Quận Hồng Bàng, Hải Phòng\n",
            "predicted text = Số 9 lô 5/6A Bạch Đằng, Phường Hạc Lý, Quận Hồng Bàng, Hải Phùngng\n",
            "original_text  =  Số 121/3A khóm 3, Phường 9, Thành Phố Vĩnh Long, Vĩnh Long\n",
            "predicted text = Số 121/3A Khmh 3, Phường 9, Thành Phố Vĩình Lôong, Vĩnh Lng\n",
            "original_text  =  A5B2 Đường 30/4, P.Xuân Khánh, Quận Ninh Kiều, Cần Thơ\n",
            "predicted text = AB2 Đường 30/4, D Xun Khánh, Quận Ninh KKều, Cần Th\n",
            "original_text  =  B8 đường 672, khu phố 1, Phường Phước Long B, Quận 9, TP Hồ Chí Minh\n",
            "predicted text = B8 đờng 6 2, Khu phố 1, Phậng phuốc LongB, Quận 9, TPHồ Cồ hMinh\n",
            "original_text  =  49 Tự Phước, Thành phố Đà Lạt, Lâm Đồng\n",
            "predicted text = A9 Tự Phước, Trhành phố Đà Lạt, Lâm Đồng\n",
            "original_text  =  205 Lê Lợi, Thành Phố Phan Thiết, Bình Thuận\n",
            "predicted text = 205 Lê Lư, Thành Phố Phan Thiết, Bình Thuận\n",
            "original_text  =  Thôn Phú Sơn, Xã Hàm Mỹ, Huyện Hàm Thuận Nam, Bình Thuận\n",
            "predicted text = Thôn Phú Sơn, Xã Hàm Mỹ, Huyện Hàm Thuận Nam, Bình Thuận\n",
            "original_text  =  Khóm Long An B, Phường Long Phú, Thị xã Tân Châu, An Giang\n",
            "predicted text = Lâu Long An B, hờ Long Hú, Thịc Tân Châu, Ah Giamng\n",
            "original_text  =  Số 152, Tổ 1, ấp 1, Xã Mỹ Hiệp, Huyện Cao Lãnh, Đồng Tháp\n",
            "predicted text = Số 152, Tổ 1, ấp 1, Sã Mỹ Hệp, Huyện Cao Lănh, Đồng Th\n",
            "original_text  =  198/229A Đoàn Văn Bơ, phường 10, Quận 4, TP Hồ Chí Minh\n",
            "predicted text = 198/229A Đàn Văn Bơ, phường 10, Quận 4, TP Hồ Chí Minh\n",
            "original_text  =  Số 5D72 ngõ Nam Phát 1, Phường Đằng Giang, Quận Ngô Quyền, Hải Phòng\n",
            "predicted text = Số 5072 ngõ Nam Phài 1, Pường Đằng Giang, Quận Ngô Quyền, Hải Phòng\n",
            "original_text  =  KCN Lương Sơn, Km 36, Xã Hòa Sơn, Huyện Lương Sơn, Hòa Bình\n",
            "predicted text = KC N Lương Sơn, Km 36, Xã Hòn Sơn, Huyện Lương Sơn, Hòa Bình\n",
            "original_text  =  Tổ 19 P, Phường Mỹ An, Quận Ngũ Hành Sơn, Đà Nẵng\n",
            "predicted text = Tổ 1/9, Phườn0, N đon, Cưhận Ngĩn Hành Sơn, à Nng\n",
            "original_text  =  Số 260, ấp Khánh Nhơn, Xã Tân Khánh Đông, Thành Phố Sa Đéc, Đồng Tháp\n",
            "predicted text = Số 260, ấp Khánh Nhơn, Xã Tân Khánh Đông, Thành Phố Sa Đéc, Đồng Thn\n",
            "original_text  =  ấp 5, Xã Đốc Binh Kiều, Huyện Tháp Mười, Đồng Tháp\n",
            "predicted text = ấp 5, Xã Đốc Binh Kiều, Huyện Tháp Mười, Đồng Tháp\n",
            "original_text  =  SN 040 - Tổ 6, Phường Tân Giang, Thành phố Cao Bằng, Cao Bằng\n",
            "predicted text = SN40 - Tổ 6, Phường Tôn Gung, Thành Phố Cao Bằng, Cao Bng\n",
            "original_text  =  xã Hà Tây, Xã Hà Tây, Huyện Chư Păh, Gia Lai\n",
            "predicted text = Xã Hà Tây, Xã Hà Tây, Huyện Chuư Pắh, Gia Lai\n",
            "original_text  =  Tổ 4, Khu 8, Phường Cẩm Thành, Thành phố Cẩm Phả, Quảng Ninh\n",
            "predicted text = Tổ 4, Khu 8, Phường Cẩm Tành, Thành phố Cẩm Phải, Quảng Ninh\n",
            "original_text  =  28 Nguyễn Đổng Chi, Phường Hoà Cường Bắc, Quận Hải Châu, Đà Nẵng\n",
            "predicted text = 20 Nrấng Đống Chi, Phường Hoà Cường Bắc, Qận Hi Châu, Đà Nẵng\n",
            "original_text  =  Xóm 11, Xã Quỳnh Hưng, Huyện Quỳnh Lưu, Nghệ An\n",
            "predicted text = Xóm 11, Xã Quỳnh Hưng, Huyện Quỳnh Lưu, Nghệ An\n",
            "original_text  =  128 Đoàn Phú Tứ, Phường Hoà Khánh Bắc, Quận Liên Chiểu, Đà Nẵng\n",
            "predicted text = 128 Đoàn Phú T, Phường Hoà Khánh Bắc, Quận Liên Chiu, Đà Nẵng\n",
            "original_text  =  Thôn Cầu Trong, Xã Mỹ Thái, Huyện Lạng Giang, Bắc Giang\n",
            "predicted text = Thôn Câu Trông, xã Mỹ Thái, Huyện Lạng Giang, Bắc Giang\n",
            "original_text  =  25 ngách 23, ngõ Thịnh Hào 2, Phường Hàng Bột, Quận Đống đa, Hà Nội\n",
            "predicted text = 2n5 ngách 23, Pgõ Thịnh Hào 2, Phường Hàng Bộ, Quận Đống Đa, Hà Ni\n",
            "original_text  =  Cụm công nghiệp Nhật Tân, Xã Nhật Tân, Huyện Kim Bảng, Hà Nam\n",
            "predicted text = Cụm công nghiệp Nht Tân, xã Nhật Tân, Huyện Kim Bảng, HHà Na\n",
            "original_text  =  Số 102, đường Thái Thịnh, Phường Trung Liệt, Quận Đống đa, Hà Nội\n",
            "predicted text = Qấõ 1Cr, đưường Thái hịnh, Phường Tr Cghiệt, Quận Đngđi, Hà Nội\n",
            "original_text  =  Khối 250, Phường Quang Tiến, Thị xã Thái Hoà, Nghệ An\n",
            "predicted text = Thốn 250, Phường Quang Tiến, Thị Xã Thái Hoà, Nghệ A\n",
            "original_text  =  118A, Võ Văn Kiệt, Phường Long Hòa, Quận Bình Thuỷ, Cần Thơ\n",
            "predicted text = 1181, Võ Văn Kiệ, Phường Long Hoà, Quận Bình Tuỷ, Cần Thơ\n",
            "original_text  =  Xã Lang Quán,, Huyện Yên Sơn, Tuyên Quang\n",
            "predicted text = Xã Lang Quán, Huyện Yên Sin, Tuyên Buang\n",
            "original_text  =  Khu 5, Thị trấn Kỳ Sơn, Huyện Kỳ Sơn, Hòa Bình\n",
            "predicted text = Khu 5, Thị\n",
            "original_text  =  14 Thanh Tịnh, Phường Vỹ Dạ, Thành Phố Huế, Thừa Thiên - Huế\n",
            "predicted text = 14 Thanh Tịnh, Phường Vỹ Dạ, Thành pPhố Huế, Thừa Thiên - Huế\n",
            "original_text  =  Số 63/4 Kiến Thiết, Quận Hồng Bàng, Hải Phòng\n",
            "predicted text = Số 63/4 Kiến Thiết, 1 Quận Hồng Bàng,  Phải Phòng\n",
            "original_text  =  Thôn Lương Tràng, Xã Liêm Tiết, Thành phố Phủ Lý, Hà Nam\n",
            "predicted text = Trôn Lợn, Tràng Xã dêm Tiết, Thành Phố Phủ Lý, Hà Nam\n",
            "original_text  =  Số 9, đường Phạm Văn Ký, Phường 2, Thành phố Cà Mau, Cà Mau\n",
            "predicted text = Số 9 đường Khạn Dău Ký, Phường 2, Thành phốc Cà Mu, Cà Nu\n",
            "original_text  =  Lô 24, Khu CN Trà Nóc, Phường Trà Nóc, Quận Bình Thuỷ, Cần Thơ\n",
            "predicted text = Lô 24, khu C Từ Nc, Phường Tà Néc, Quận Bình Tuy, Cần Tế\n",
            "original_text  =  113/3, tổ 40, KP 8, Phường Tân Phong, Thành Phố Biên Hoà, Đồng Nai\n",
            "predicted text = 13/3, tổ 40, KP8, Phường Tân Phong, Thành Phố Biên Hoà, Đồng Nai\n",
            "original_text  =  250 Lê Văn Khương, phường Thới An, Quận 12, TP Hồ Chí Minh\n",
            "predicted text = 250 Lê Văn Kương, phường Thới An, Quận 2, TP Hồ Chí Minh\n",
            "original_text  =  UBND xã Bình Thành, Xã Bình Thành, Huyện Phụng Hiệp, Hậu Giang\n",
            "predicted text = U1BND xã Bình Thành, Xã Bình Thàanh, Huyện Phạnhn, Hiện, Hận Giang\n",
            "original_text  =  Khu liên cơ quan, Phường Ngô Quyền, Thành phố Bắc Giang, Bắc Giang\n",
            "predicted text = Khu hiên Cô quan, Phường Ngô Quyền, Thành phố Bắc Giang, Bắc Giang\n",
            "original_text  =  373C/4, KV6, Phường An Khánh, Quận Ninh Kiều, Cần Thơ\n",
            "predicted text = 373C/4, KU6, Phường An Kháinh, Quận Ninh Kiều, Cần Thơ\n",
            "original_text  =  Khu 4, xã Vân Phú, Thành Phố Việt Trì, Phú Thọ\n",
            "predicted text = Khu 4, Xã Văn Phú, Thành Phố V1 Trùu, Phú Th\n",
            "original_text  =  Số nhà 120, Khu 5, Phường Nam Hòa, Thị xã Quảng Yên, Quảng Ninh\n",
            "predicted text = Số Khù 120, Ku 5, Phường Nam Hoà, Thị Xã Qng Yên, Quảng Ninh\n",
            "original_text  =  Thiệu Viên, Huyện Thiệu Hoá, Thanh Hoá\n",
            "predicted text = Thiệu Viên, Huyện Thiệu Hoa, Thanh Hòa\n",
            "original_text  =  839 Ngô Quyền, Phường An Hải Đông, Quận Sơn Trà, Đà Nẵng\n",
            "predicted text = S39 Ngô Quyền, Phường An Hải Đông, Quận Sơn Trà, Đà Nẵng\n",
            "original_text  =  146/37 Huỳnh Mẫn Đạt, Phường 03, Quận 5, TP Hồ Chí Minh\n",
            "predicted text = 146/37 Huyỳnh Mấn Đạt, Phường 03, Quận 5, TP Hồ Chí Minh\n",
            "original_text  =  Số 34 Nguyễn Văn Cừ, Phường An Lạc, Thị xã Buôn Hồ, Đắc Lắc\n",
            "predicted text = Số 31 Nguyễn Văn Cìi, Phường An Lạc, Thị Xã Biôn Hồ, Đắc Lắc\n",
            "original_text  =  Thôn Dương Lâm, Xã Trà Dương, Huyện Bắc Trà My, Quảng Nam\n",
            "predicted text = Thôn Dương Lân, Xã Trà Dương, Huyện Bắc Trà Mỹ, Quảng Nam\n",
            "original_text  =  Km 32 Quốc lộ 10, Huyện An Lão, Hải Phòng\n",
            "predicted text = Km 32 Quốc lộ V, Huyện An Lã, Hải Phòng\n",
            "original_text  =  345/134 Trần Hưng Đạo (lầu 3), Phường Cầu Kho, Quận 1, TP Hồ Chí Minh\n",
            "predicted text = 145//3a4 Trần Hưng Đạ Cần 3), Phường Cầu Kêo, Quận 1, TP Hồ Chí Minh\n",
            "original_text  =  ấp Trà Đư, Xã Thường Lạc, Huyện Hồng Ngự, Đồng Tháp\n",
            "predicted text = ấp Tràn Đi, Xã Tùng Lợc, Huyện Hồng Ngg, Đồng Táp\n",
            "original_text  =  407 Thủ Khoa Huân, Phường Phú Thủy, Thành phố Phan Thiết, Bình Thuận\n",
            "predicted text = 407 Thu Khoa Huân, Phường Phù Thuỷ, Thành phố Phan Thuiết, Bình Thu\n",
            "original_text  =  122 phố Phương Liệt, Phường Phương Liệt, Quận Thanh Xuân, Hà Nội\n",
            "predicted text = 12 I Phố Phường Lit, Phường Phương Lc, Quận rnạnh Xuân, Hợi Hồ Nni\n",
            "original_text  =  Số 549/2, tổ 11, KP 4, Phường Trảng Dài, Thành phố Biên Hoà, Đồng Nai\n",
            "predicted text = Số 549/2, tổ 11, KP 4, Phường Trảng Dài, Thành phố Biên Hoà, Đồng Nai\n",
            "original_text  =  135/36 Trần Hưng Đạo, Phường Cầu Ông Lãnh, Quận 1, TP Hồ Chí Minh\n",
            "predicted text = 13/36 Trần Hưng Đạo, hường Cầu ông Lãnh, Quận 1, TP Hồ Chí Minh\n",
            "original_text  =  Số 8 Pháo Đài Láng, Quận Đống đa, Hà Nội\n",
            "predicted text = Số 8 Phúco Đi Lán,g, Quận Đống đạ, Hà Nội\n",
            "original_text  =  45C Đường Hồ Bá Phấn, Phường Phước Long A, Quận 9, TP Hồ Chí Minh\n",
            "predicted text = 45C đô ng Hồ Bá Phấn, phường Phước Long A, Quận 9, TP Hồ Chí hnh\n",
            "original_text  =  Đồng vàng, KCN Đình Trám, Xã Hoàng Ninh, Huyện Việt Yên, Bắc Giang\n",
            "predicted text = Đồng Vàng, KCN Đình Tránmn, Xã Hoàng Ninh, Huyện Việt Yên Bắc Giing\n",
            "original_text  =  Thôn Thượng, Xã Thanh Liệt, Huyện Thanh Trì, Hà Nội\n",
            "predicted text = Thôn Thượng, Xã Thanh Liệt, Huyện Thanh Trì, Hà Nội\n",
            "original_text  =  Xóm Thị Tứ, Xã Tân Thành, Huyện Yên Thành, Nghệ An\n",
            "predicted text = xóm Thị ứ, Xã Tâu Thành, Huyện Yên Tình, Nghệ An\n",
            "original_text  =  Số 05 Mẹ Hiền, Phường Thanh Khê Tây, Quận Thanh Khê, Đà Nẵng\n",
            "predicted text = Số 05 Mi tiền 7 Phường Thanh Khê Trây, Quận Thanh Khê, Đà Nẵng\n",
            "original_text  =  683/14/7 Hồng Bàng, Phường 06, Quận 6, TP Hồ Chí Minh\n",
            "predicted text = 638/14/7 Hồng Bùng, Phường 06, Quận 6, TP Hồ Chí Minh\n",
            "original_text  =  Số 262a, phố Thanh Hưng, Thị trấn Đồi Ngô, Huyện Lục Nam, Bắc Giang\n",
            "predicted text = Số 262a, phố Thnh Hưng, Thị trấn Đối Ngô, Huyện Lục Namg, Đắc Giang\n",
            "original_text  =  183/196/14 Bến Vân Đồn, Quận 4, TP Hồ Chí Minh\n",
            "predicted text = 1K3/146/14 Bến Văn Đền, Quận 4, TP Hồ Chí Minh\n",
            "original_text  =  1/21 Nguyễn Văn Dung, Phường 6, Quận Gò Vấp, TP Hồ Chí Minh\n",
            "predicted text = 1/21 Nguyễn Văn Dung, Phường 6, Quận Gò Vấp, TP Hồ Chí Minh\n",
            "original_text  =  Đội 18, Xã Thanh Nưa, Huyện Điện Biên, Điện Biên\n",
            "predicted text = Đội 18, xã Thanh Nưa, Huyện Điện Biên, Điện Biên\n",
            "original_text  =  Đội 3/2, xã Diên Sơn, Huyện Diên Khánh, Khánh Hòa\n",
            "predicted text = Đội 32/2, Xã Diền Sôn, Huyện Diên Khánh Khánh Hoá\n",
            "original_text  =  63/3 Đường số 1, Phường Long Trường, Quận 9, TP Hồ Chí Minh\n",
            "predicted text = 3/3 đường số 1, phường Long Trường, gQuận 9, TP Hồ Chí Minh\n",
            "original_text  =  7 Lô D Lạc Long Quân, Phường 2, Thành Phố Vũng Tàu, Bà Rịa - Vũng Tàu\n",
            "predicted text = 7 L 0 Lạ Cong Quân, Phưng 2, Thành phố Vũng Tần, Vũng  Tà\n",
            "original_text  =  Số 7D, ngách 378/39 Thụy Khuê, Phường Bưởi, Quận Tây Hồ, Hà Nội\n",
            "predicted text = 7D, ngách 378/39 Thụy Khuê, Phường Bươi, Quận Tây Hồ, Hà Nội\n",
            "original_text  =  307 Hùng Vương, Phường Trần Phú, Thành phố Quảng Ngãi, Quảng Ngãi\n",
            "predicted text = 307 Phùng Vương Phường Trần Phú, Thành Phố Qương Ngãit, Quưảng Ngãici\n",
            "original_text  =  Vân an, Huyện Chi Lăng, Lạng Sơn\n",
            "predicted text = Vân an, Huyện Chi Lăng, Lạng Sơn\n",
            "original_text  =  Lô D4 Khu Công nghiệp Trà Đa, Xã Trà Đa, Thành Phố Pleiku, Gia Lai\n",
            "predicted text = L6 D4 Khu Công nghinệp Trà Aa, Xã Trà Đa, Thành phố phơn, Gia Lai\n",
            "original_text  =  âp2, Thị trấn Lộc Ninh, Huyện Lộc Ninh, Bình Phước\n",
            "predicted text = ập 2, Thị trấn Lộc Ninh, Huyện Lộ Ninh, Bình Phước\n",
            "original_text  =  78 Trương Văn Bang, Phường 7, Thành Phố Vũng Tàu, Bà Rịa - Vũng Tàu\n",
            "predicted text = 78 Trường VLăn Bang, Phường 7, Thành Phố Văng Tâu, Bà Rị - ng\n",
            "original_text  =  Số 48B/3, khu phố 2, Phường An Phú, TX Thuận An, Bình Dương\n",
            "predicted text = Số 48B/3, khu phố 2, Phường An Phú, TX Thuận An, Bình Dương\n",
            "original_text  =  Thôn Cộng Hòa 2, Xã Tịnh ấn Tây, Thành phố Quảng Ngãi, Quảng Ngãi\n",
            "predicted text = Thôn Cộng Hoà 2, Xã Tịnh ất Tây, Thành phố Quương Ngãi, Quưảng Ngũắi\n",
            "original_text  =  Số 27 Nguyễn Trung Trực, Phường Bến Thành, Quận 1, TP Hồ Chí Minh\n",
            "predicted text = Số 37 Nguyễn Trung Trục, Phường Bến Tành, Quận 1, TP Hồ Chí Minh\n",
            "original_text  =  Số 8 hẻm 58/23/4 Trần Bình, Phường Mai Dịch, Quận Cầu Giấy, Hà Nội\n",
            "predicted text = Sả BBân 5P2/4 Trần Đinh, khường Mi Dịnh, Quận Cầu Giấy, Hà Nội\n",
            "original_text  =  Đường Hùng Vương, Phường Xuân Bình, Thị xã Long khánh, Đồng Nai\n",
            "predicted text = 7 ờng Hùng Lươ ng, Phường uân Bình, Thị xc Lạng Khánh, Đồng Nai\n",
            "original_text  =  Phố Chu Văn An, Thành phố Lào Cai, Lào Cai\n",
            "predicted text = Phố Chu Văn An, Thành phố Lão Cai, Lào Cai\n",
            "original_text  =  15A Sông Đà, Phường 2, Quận Tân Bình, TP Hồ Chí Minh\n",
            "predicted text = 15A Sông Đà, Phường 2, Quận Tân Bình, TP Hồ Chí Minh\n",
            "original_text  =  49/19 Khu Phố 4, Phường Phước Long B, Quận 9, TP Hồ Chí Minh\n",
            "predicted text = 49/19 Kkhu Phố 4, Phường Phước Long B, Quận 9, TP Hồ Chí Minh\n",
            "original_text  =  Số 67/31H đường Phó Cơ Điều, Phường 3, Thành phố Vĩnh Long, Vĩnh Long\n",
            "predicted text = Số 60/314 đường Phố Cơ Điền, Phường 3, Thành phố Vĩnh Lung, Vĩnh Long\n",
            "original_text  =  25 Chu Thiên, Phường Hiệp Tân, Quận Tân phú, TP Hồ Chí Minh\n",
            "predicted text = 25 Chu Thiên, Phường Hiệp Tân, Quận Tân phú, TP Hồ Chí Minh\n",
            "original_text  =  Xóm Thanh Bình, Xã Tân Thịnh, Huyện Lạng Giang, Bắc Giang\n",
            "predicted text = Xóm Thanh Bình, Xã Tân Thịnh, Huyện Lạn9, Giang, Bắc Giang\n",
            "original_text  =  21 Cộng Hòa, Phường 4, Quận Tân Bình, TP Hồ Chí Minh\n",
            "predicted text = 21 Cộng Hòa, Phường 4, Quận Tân Bình, TP Hồ Chí Minh\n",
            "original_text  =  Số 1708, Tổ 17, Phường Nam Sơn, Thị Xã Tam Điệp, Ninh Bình\n",
            "predicted text = Số 1708, tổ 17, phường Nam Sơn, Thị Xã Tam Điệp, Ninh Bình\n",
            "original_text  =  Tiểu khu 2, Thị trấn Chợ Rã, Huyện Ba Bể, Bắc Kạn\n",
            "predicted text = Tộsc KKC2, Thá Trấn Ch ộợ Rg, HN a Đề, Bắc Lạ\n",
            "original_text  =  ấp 4, Thị trấn Gành Hào, Huyện Đông Hải, Bạc Liêu\n",
            "predicted text = ấp 4, Thị trân Gành Hàno, Huyện Đông Hải, Pạc Liê\n",
            "original_text  =  965/14 Quang Trung, Phường 14, Quận Gò Vấp, TP Hồ Chí Minh\n",
            "predicted text = 365/14 Quang Trung, Phường 14, Quận Gò ấp, TP Hồ Chí Minh\n",
            "original_text  =  Thôn 5, Xã Hạ Bằng, Huyện Thạch Thất, Hà Nội\n",
            "predicted text = Thận 5, Xã HX Bằng, Huyện Thạnh Thắt, Hà Nội\n",
            "original_text  =  169F Bàu Cát 1, Phường 12, Quận Tân Bình, TP Hồ Chí Minh\n",
            "predicted text = 365 Bần CcF1, Pường 19, Qcận D Kn Bình, TP Chồùu hinh\n",
            "original_text  =  Số 127H Thụy Khuê, Phường Thuỵ Khuê, Quận Tây Hồ, Hà Nội\n",
            "predicted text = ố7 1277 Th 14 Khuên Thường uy kun Qun TâyHồ, Hà Nội\n",
            "original_text  =  76 Lê Lai, Phường Bến Thành, Quận 1, TP Hồ Chí Minh\n",
            "predicted text = 7 L0 Lê LCài, Phường Bến Thịnh, Qận 1Th,  Cồ Caí Minh\n",
            "original_text  =  Thôn Thanh Lũng, Xã Tiên Phong, Huyện Ba Vì, Hà Nội\n",
            "predicted text = Thên Thanh Lâng, Xã Tên Phong, Huyện Ba Bì, Hà Nội\n",
            "original_text  =  đường Lê Văn Lương, phường Nhân Chính, Quận Thanh Xuân, Hà Nội\n",
            "predicted text = đường Lê Văn Lương, Phường Nhâng Chính, Quận Thanh, Xuoân, Hà Nội\n",
            "original_text  =  ấp Long Phước, Xã Mỹ Phước Tây, Thị Xã Cai Lậy, Tiền Giang\n",
            "predicted text = ấp Long phư2c, Xã Nỹ Phước Tây, Thị Xã Cư Lậuy, Biền Giang\n",
            "original_text  =  252/4M Phạm Văn Chiêu, Phường 9, Quận Gò Vấp, TP Hồ Chí Minh\n",
            "predicted text = 252/44 Phạm Văn Chiu, Phường 9, Quận Gò Vấp, Tp Hồ Chí Minh\n",
            "original_text  =  Lô A2-10 đường Võ Chí Công, Phường Hoà Xuân, Quận Cẩm Lệ, Đà Nẵng\n",
            "predicted text = Lô 12-10 hường Võ Chí Công, Pường Va Xuân, Quận Cẩm Lệ, Dà Nẵng\n",
            "original_text  =  Bản Nà Lèng, Xã Quang Thành, Huyện Nguyên Bình, Cao Bằng\n",
            "predicted text = Bản Nà Lâng, Xã Quang Thành, Huyện Ngyên Bình, Cao Bằng\n",
            "original_text  =  ấp Vĩnh Yên, Xã Long Đức, Thành phố Trà Vinh, Trà Vinh\n",
            "predicted text = ấp Vnh Xên, Xã Long Đức, Thành phố Trà Vnh, Trà Vinh\n",
            "original_text  =  Tổ 2 xã Ngọc Đường - TP Hà Giang - Hà Giang, TP Hà Giang, Hà Giang\n",
            "predicted text = Tổ 2 xã Ngọc Dường - TP Hà Giang- Hà Giang, TP Hà Giang, Hà Giang\n",
            "original_text  =  Số 49, ngõ 93, phố 8/3, Phường Quỳnh Mai, Quận Hai Bà Trưng, Hà Nội\n",
            "predicted text = 9õ  C, n09 5 93, phố /n7, Ph í ơng Qunh Mai Quygcngiang Hà Niội\n",
            "original_text  =  Thôn An Lão Xuôi, Xã Vĩnh Thịnh, Huyện Vĩnh Tường, Vĩnh Phúc\n",
            "predicted text = Thôn An Lã Xuâi, Xã Vĩnh Thịnh, Huyện Vĩh Tường, Vĩnh Phúc\n",
            "original_text  =  Số 330 đường Ngọc Lâm, Phường Ngọc Lâm, Quận Long Biên, Hà Nội\n",
            "predicted text = Số 330 đường Ngọc Sâm, Phường Ngọgc Lâm, Quận Long Biên, Hà Nội\n",
            "original_text  =  50 Tôn Đức Thắng, Phường An Sơn, Thành phố Tam Kỳ, Quảng Nam\n",
            "predicted text = 50 Tôn Đức Thắng, Phường hm Sơn, Thành Phố Tam Kỳ, đưảng Nam\n",
            "original_text  =  Khu phố 3, Thị Trấn Châu Thành, Huyện Châu Thành, Tây Ninh\n",
            "predicted text = Khu phố 3, Thị Trấn Châu Thành, Huyện Chảu Thành, Tôny Tnh\n",
            "original_text  =  37/8 Trịnh Đình Trọng, Phường 5, Quận 11, TP Hồ Chí Minh\n",
            "predicted text = 37/18 Tỉnh Đình Tạng, Phường 5, Quận 1, TP Hồ Chí Minh\n",
            "original_text  =  Số 166C, phố Đội Cấn, Phường Đội Cấn, Quận Ba Đình, Hà Nội\n",
            "predicted text = Số 166C, Phố Đội Cấn, Phờng Đi Cấn, Quận Bình, Bà Nội\n",
            "original_text  =  226, đường 3/2, Phường Hưng Lợi, Quận Ninh Kiều, Cần Thơ\n",
            "predicted text = 226, đường 3/2, Phường Hưn Lợi, Quận Ninh Kiều, Cần Thơ\n",
            "original_text  =  Xã Tuy Lai, Xã Tuy Lai, Huyện Mỹ Đức, Hà Nội\n",
            "predicted text = Xã Tuy Lai, Xã Tuny Lai, Huyện Mỹ Đức, Hà Nội\n",
            "original_text  =  Trang Liệt, Phường Trang Hạ, Thị Xã Từ Sơn, Bắc Ninh\n",
            "predicted text = Trang Lit, Phường Trang Hạ, Thị Xã Từ côn, Bắc Ninh\n",
            "original_text  =  465 Nguyễn Oanh, Phường 17, Quận Gò Vấp, TP Hồ Chí Minh\n",
            "predicted text = 965 Nguyễn Oanh, Phường 17, Quận Gòn Vấp, TP Hồ Chí Minh\n",
            "original_text  =  Số 8/96 Hai Bà Trưng, Phường An Biên, Quận Lê Chân, Hải Phòng\n",
            "predicted text = Số 8/96 Hai Bà Trưng, Phường Ah Biện, Quậnh Lê Chân, Hải Phò ộng\n",
            "original_text  =  Số 77A Đường 38, Phường Tân Quy, Quận 7, TP Hồ Chí Minh\n",
            "predicted text = Số 77A đường 38, pường Tân Quy, Quận 7, TP Hồ Chí Minh\n",
            "original_text  =  172/28 Đặng Văn Ngữ, Phường 14, Quận Phú Nhuận, TP Hồ Chí Minh\n",
            "predicted text = 72/28 ng ăn Nỹ), Phường K, Quận Phủ Nhuận, TP Hồ Cinh\n",
            "original_text  =  16 Đường 588 Khu Phố 1, Phường Phước Long A, Quận 9, TP Hồ Chí Minh\n",
            "predicted text = 16 đường 588 Khu phố 1, Phường Phướ c Long A, Quận 9, T Hồ Minh\n",
            "original_text  =  Nhà số 69 ngõ 10 Mạc Thái Tổ, Phường Yên Hoà, Quận Cầu Giấy, Hà Nội\n",
            "predicted text = Nhà số 69 ngõ 10Mạc Thái Tổ, Phường Yên Hoà, Quận Cầu Giấy, Hà Nội\n",
            "original_text  =  99E Cộng Hòa, Phường 4, Quận Tân Bình, TP Hồ Chí Minh\n",
            "predicted text = 94 Cô Cng Yà, PPhường 14, Quận Tân Bình, TP Hồồ Hhí Minh\n",
            "original_text  =  73 Nguyễn Quang Bích, Phường 13, Quận Tân Bình, TP Hồ Chí Minh\n",
            "predicted text = 73 Nguyễn Quaong Bích, Phường 13, Quận Tân Bình, TP Hồ Chí Minh\n",
            "original_text  =  76/18 Lê Trọng Tấn, Phường Tây Thạnh, Quận Tân phú, TP Hồ Chí Minh\n",
            "predicted text = 7H4 Hà Trọng Tâm, Phường Tây Troon,g Quận Tôâ Rnh\n",
            "original_text  =  121A Lê Lư, Phường Phú Thọ Hoà, Quận Tân phú, TP Hồ Chí Minh\n",
            "predicted text = 421A Lê th, Phường Phú Thọ Xoà, Quận Tân Phú, TP Hồ Chí Mh\n",
            "original_text  =  Tổ 1, Phường Đồng Mai, Quận Hà Đông, Hà Nội\n",
            "predicted text = Hổ 1 phường Đồng Mai, Quận Hà Đông, HHà Nội\n",
            "original_text  =  Tư Giang, Tân Dân, Thị Xã Chí Linh, Hải Dương\n",
            "predicted text = Ti Ging, Tân Dên, Thị Xã Chí Lim, Hải Dưng\n",
            "original_text  =  14/2 Nguyễn Đình Chiểu, Phường Đa Kao, Quận 1, TP Hồ Chí Minh\n",
            "predicted text = 142 Nguyễn Đình Ciu, Phường Đa Kao, Quận 2, TP Hồ Chí Minh\n",
            "original_text  =  29 Lam Sơn, Phường 2, Quận Tân Bình, TP Hồ Chí Minh\n",
            "predicted text = 29 Lan Sởi, Phường 2, Quận Tân Tình, TP Hồ Chí Minh\n",
            "original_text  =  Quốc lộ 30, ấp Bình Hòa, Xã Bình Thạnh, Thị Xã Hồng Ngự, Đồng Tháp\n",
            "predicted text = Quốc lộ 30, ấp Bình Hòa, Xã Bình Thạnh, Thị Xã Hồng Ngi, Đng\n",
            "original_text  =  Km 2, Thôn Kon Rờ Bàng, Xã Vinh Quang, Thành phố Kon Tum, Kon Tum\n",
            "predicted text = Km 2, thôn Ko Bừ Bàng, Xã Vinh Quang, Thành phố Kon Tm, Kan Tâum\n",
            "original_text  =  76/2 Đường 59, Phường 14, Quận Gò Vấp, TP Hồ Chí Minh\n",
            "predicted text = 76/2 Đường 59, Phườn 14, Quận Gò Vấp, TP Hồ Chí Minh\n",
            "original_text  =  29/8 Đường 53, Phường Thảo Điền, Quận 2, TP Hồ Chí Minh\n",
            "predicted text = 29/8 Đường 53, Phường Thảo Điền, Quận 2, TP Hồ Chí Minh\n",
            "original_text  =  235/22 Đường Trục, Phường 13, Quận Bình Thạnh, TP Hồ Chí Minh\n",
            "predicted text = 3522 Đường Trục, Phường 13, Quận Đình Thạnh, TP Hồ Chí Minh\n",
            "original_text  =  Đội 3, thôn Minh Tân, Xã Minh Trí, Huyện Sóc Sơn, Hà Nội\n",
            "predicted text = Độ 3, thôn Minh Tân, Xã Minh Trí, Huyện Sac Sơn, Hà Nội\n",
            "original_text  =  Xóm Đường, Xã Đại Yên, Huyện Chương Mỹ, Hà Nội\n",
            "predicted text = Xóm Đường, Xã Đại Yên, Huyện Chương Mỹ, Hà Nội\n",
            "original_text  =  41/3 Trường Chinh, Phường 11, Quận Tân Bình, TP Hồ Chí Minh\n",
            "predicted text = 41/3 Trường Chinh, Phường 111 Quận Tân Bình, TP Hồ ChíhMinh\n",
            "original_text  =  Đường Lý Thường Kiệt, KP 4, Huyện Mộc Hoá, Long An\n",
            "predicted text = Đường Lý Thưừờng Kiệt, KP4, Huyện Mc Hoà, Long An\n",
            "original_text  =  Số 681, Tổ 23, ấp Mỹ Hòa, Xã Nhơn Mỹ, Huyện Chợ Mới, An Giang\n",
            "predicted text = Số 681, Tổ 23, ấp Mỹ Hòà, Xã Nhơn Mỹ, Huyện Chợ Vồi, An Giang\n",
            "original_text  =  Thôn kẻ Đọng, Huyện Đắk Mil, Đắk Nông\n",
            "predicted text = Thôn Kư Đọong, Huyện Đắc M, Đắc Nôẵng\n",
            "original_text  =  399 Nguyễn Văn Cừ, Phường Hoà Hiệp Bắc, Quận Liên Chiểu, Đà Nẵng\n",
            "predicted text = 399 Nguyễn Văi Cừ, Phường Hà Hệp Bắc, Quận Liân Chiểu, Đà Nẵng\n",
            "original_text  =  ấp Xóm Vó, Xã Phú Cần, Huyện Tiểu Cần, Trà Vinh\n",
            "predicted text = ấp Xóm Võ, Xã Phú Cần, Huyện Trru Cần, Tồàà Vinh\n",
            "original_text  =  Km 89 quốc lộ 5, Xã Nam Sơn, Huyện An Dương, Hải Phòng\n",
            "predicted text = Km 89 quốc lộ 5, Xã Nam Sơn, Huyện An Dương, Hải Phòng\n",
            "original_text  =  1-5 Lê Duẩn, Phường Bến Nghé, Quận 1, TP Hồ Chí Minh\n",
            "predicted text = 1-5 Lê Dun, Phường Dên Nghú, Quận 1, TP Hồ Chí Minh\n",
            "original_text  =  Kp2 Phú Hài, Thành phố Phan Thiết, Bình Thuận\n",
            "predicted text = Kp2 Thủ Hàa, Thờn phố Phan Thiết, Bình Thuận\n",
            "original_text  =  Số 8 Ngách 374/7 âu Cơ, Phường Nhật Tân, Quận Tây Hồ, Hà Nội\n",
            "predicted text = Số 8 Ngch 37/7 ânu Cơ, Phường Nhất Tân, Quận Tây Hồ, Hà Nội\n",
            "original_text  =  19 Lê Hồng Phong, Thành phố Đà Lạt, Lâm Đồng\n",
            "predicted text = 19, Lê Hồng phong, Thành phố Đà Lạt, Lâm Đồng\n",
            "original_text  =  207/64 Phạm Văn Hai, Phường 5, Quận Tân Bình, TP Hồ Chí Minh\n",
            "predicted text = Xì7/6A Phạn Văn Hai, Phường 5, Quận Tân Bình, TP Hồ Chí Minh\n",
            "original_text  =  Thôn Quỳnh Đô, Xã Vĩnh Quỳnh, Huyện Thanh Trì, Hà Nội\n",
            "predicted text = Tôn Qỳnh Đô, Xã Vĩnh Dỳnh, Huyện Thnh Trì, Hà Nội\n",
            "original_text  =  xã Hữu Vinh, Thị trấn Yên Minh, Huyện Yên Minh, Hà Giang\n",
            "predicted text = xã 7ửu Dinh, Tị trấn Yên Ninh, Huyện Yên Minh, Hà Gang\n",
            "original_text  =  Số 9/11, khu phố Tân Hòa, Phường Đông Hòa, TX Dĩ An, Bình Dương\n",
            "predicted text = Số 911, Khu phố Tân Hòa, Phường Đơng Bà, TX tĩ An, Bình Dương\n",
            "original_text  =  59 Phan Đăng Lưu, Phường Phú Hòa, Thành phố Huế, Thừa Thiên - Huế\n",
            "predicted text = 59 Phan Đăng Lươn, Phường Phú Hòàn, Thành phố Hiế, Thừn Thiên - Huế\n",
            "original_text  =  364 ấp Cổ Cò, Xã Ngọc Tố, Huyện Mỹ Xuyên, Sóc Trăng\n",
            "predicted text = 364 ấp Cổ Cè, Xã Ngọc Tổ, Huyện Mỹ Xuyên, Sóc Tiăng\n",
            "original_text  =  2/25 Lê Chí Dân, ấp 3, Thành Phố Thủ Dầu Một, Bình Dương\n",
            "predicted text = 31/1/LL5 /Lê, CCh 1 ân, ấc N, Thành Tr hú Dần Nột, BìnhDưcơ ng\n",
            "original_text  =  620 Trần Cao Vân, Quận Thanh Khê, Đà Nẵng\n",
            "predicted text = 620 Trần Cao Vân, Quận Thahh Khê, Đà Nẵng\n",
            "original_text  =  Số 5 ngõ 152 phố Hào Nam, Phường ô Chợ Dừa, Quận Đống đa, Hà Nội\n",
            "predicted text = Số 5 U4õ 152 phố Hùo Nam, Phường ô Chợ Dừr, Quận Đống đ, Hà Nội\n",
            "original_text  =  Đường Ngô Quyền, Phường Quang Trung, Thành phố Phủ Lý, Hà Nam\n",
            "predicted text = Đường Ngô Quyền, Phường Quang Trung, Thành phô Phú Lý, Hà Na\n",
            "original_text  =  261-263 Phạm Văn Chí, Phường 03, Quận 6, TP Hồ Chí Minh\n",
            "predicted text = 26/-263 Phụm Văn Chí, Phường 03, Quận 6, TP Hồ Chí Minh\n",
            "original_text  =  51 Sinh Trung, Phường Vạn Thạnh, Thành phố Nha Trang, Khánh Hòa\n",
            "predicted text = 51 inh Trung, Phường Vạn Thạnh, Thành phố Nha Trang, Khânh Hòa\n",
            "original_text  =  Khối 8, Phường Tân An, TP.Buôn Ma Thuột, Đắc Lắc\n",
            "predicted text = Khốn 8, Phường Tàn An, TP.Buấn Ma Thuột, Đắ Lắc\n",
            "original_text  =  49/23 ông ích Khiêm, Phường Thanh Bình, Quận Hải Châu, Đà Nẵng\n",
            "predicted text = 49/2/3 ống ĩnh Phiêm, Phường Thanh Bình, Quận Hài Châu, Đà Ni\n",
            "original_text  =  Số 249 Lê Hồng Phong, Phường 8, Thành Phố Vũng Tàu, Bà Rịa - Vũng Tàu\n",
            "predicted text = Số 249 Lê Hồng Phong, Phường 8, Thành Phố Vũng Tâu, Bà Dịa - Vũng Tai\n",
            "original_text  =  Số 61/380 Tô Hiệu, Phường Hồ Nam, Quận Lê Chân, Hải Phòng\n",
            "predicted text = Số 61/380 ô Hậm, Phường H Nam, Quận Lê Ciâm, Hải Phòng\n",
            "original_text  =  Thôn Tử Dương, Xã Lý Thường Kiệt, Huyện Yên Mỹ, Hưng Yên\n",
            "predicted text = Thôn Th Dơng, Xã Lý Thường Kiệt, Huyện Yên Mỹ, Hưng Yên\n",
            "original_text  =  179 Đường 41 P.16, Phường 16, Quận 8, TP Hồ Chí Minh\n",
            "predicted text = 179 Pờngg 41 P.16, Phờng 16, Quận 8, TP Hồ Chí Minh\n",
            "original_text  =  ấp 5, Xã Đức Hòa Đông, Huyện Đức Hoà, Long An\n",
            "predicted text = ấp 5, Xã Đũ Hòa Đông, Huyện Đức Hoà, Long An\n",
            "original_text  =  ấp 6, Huyện Cai Lậy, Tiền Giang\n",
            "predicted text = ấp 6, Huyện Cai Lậy, Tiền Giang\n",
            "original_text  =  Thôn Hữu Cước, Xã Liên Hồng, Huyện Đan Phượng, Hà Nội\n",
            "predicted text = Thôn Hưữu Cước, Xã Liên Hồng, Huyện Đam Phượng, Hà Nội\n",
            "original_text  =  Số 812 Trần Nhân Tông, Phường Nam Sơn, Quận Kiến An, Hải Phòng\n",
            "predicted text = Số 812 Trần Nhân Tông, Phường Nam Sơn, Quận Kiến An, Hải Phông\n",
            "original_text  =  Số 4 Ngách 29/2 Đội Nhân, Phường Vĩnh Phúc, Quận Ba Đình, Hà Nội\n",
            "predicted text = Số 4 Ngách 29/2 Đội Nhân, Đường Vĩnh Phúc, Quận Ba Đình, Hà Nội\n",
            "original_text  =  Số 145 Phố Vũ, Phường Đại Phúc, Thành Phố Bắc Ninh, Bắc Ninh\n",
            "predicted text = Số 145 Phố Vũ, Phường Đại Phú, Thành Phố Bắc Ninh, Bắc Ninh\n",
            "original_text  =  Số 177/24, Đường 3/2, P.11, Phường 11, Quận 10, TP Hồ Chí Minh\n",
            "predicted text = Số 7/24 Đường 3/2, P.11, Phườn g311, Quận 109, TP Hồ Chí Minh\n",
            "original_text  =  BN4-LK4, KP 7, Phường Thống Nhất, Thành phố Biên Hoà, Đồng Nai\n",
            "predicted text = 3N4-2KA, K17, Khường Tíhn Nhất, Thành phố Biên Hòà, Đồàng Nai\n",
            "original_text  =  Số 324/57 Hoàng Văn Thụ, Phường 4, Quận Tân Bình, TP Hồ Chí Minh\n",
            "predicted text = Số 324/52 Hòng Vên Thụ, Phường 4, Quận Tân Bình, TP Hồ Thí Minh\n",
            "original_text  =  Thôn La Mai, Xã Ninh Giang, Huyện Hoa Lư, Ninh Bình\n",
            "predicted text = Thôn Lạ Mai, Xã Ninh Giang, Huyện Hoa Lưt, Ninh Bình\n",
            "original_text  =  29/12B Đường Số 5, Phường Tăng Nhơn Phú B, Quận 9, TP Hồ Chí Minh\n",
            "predicted text = 29/12B Đường số 5, Phường Tăng Nhơn Phú B, Quận 9, TP Hồ Chí nh\n",
            "original_text  =  Thôn Hữu Cước, Xã Liên Hồng, Huyện Đan Phượng, Hà Nội\n",
            "predicted text = Thôn Hữu Cước, Xã Liên Hồng, Huyện Đan Phượng, Hà Nội\n",
            "original_text  =  372 Đường số 8, Phường 11, Quận Gò Vấp, TP Hồ Chí Minh\n",
            "predicted text = 7 Tĩh ĐĐường số 8, Phường 11, Quận C- 0 Vôấp, TP Hồ,  hí Minh\n",
            "original_text  =  Số 184, tổ 8, Phường Minh Khai, Thành phố Phủ Lý, Hà Nam\n",
            "predicted text = Số 184, tổ B Phường Minh Khai, Thành phố Phú Lý, Hà Nm\n",
            "original_text  =  38 Tiểu La, Phường Hoà Cường Bắc, Quận Hải Châu, Đà Nẵng\n",
            "predicted text = 38 Tiều La, Phường Hoà Cường Bắc, Quận Hải Châu Đà Nẵng\n",
            "original_text  =  Số 18/8 đường Kim Đồng, Phường 6, Thành phố Đà Lạt, Lâm Đồng\n",
            "predicted text = SSổ 12//8 đường Kinm Đông, Phườn 6, Thành phốúc Hù Lạt, Lâm Đng\n",
            "original_text  =  Số 40, ngõ 168, phố Ngọc Hà, Phường Ngọc Hà, Quận Ba Đình, Hà Nội\n",
            "predicted text = Số 40, ngõ 168, phố Ngọc Hà, Phường Ngọc Hà, Quận Ba Đinh, Hà Nội\n",
            "original_text  =  ấp Bình Tiền 1, Xã Đức Hòa Hạ, Huyện Đức Hoà, Long An\n",
            "predicted text = ấp Bình Tiền 1, Xã Đức Hoa Hạ, Huyện Đức Hoà, Long An\n",
            "original_text  =  xã Quảng Minh, Thị Xã Ba Đồn, Quảng Bình\n",
            "predicted text = xã Quảng Minh, Thị xã Ba Đồn, Quảng Bình\n",
            "original_text  =  Số 99, phố Tân Phong, Phường Thụy Phương, Quận Bắc Từ Liêm, Hà Nội\n",
            "predicted text = Số 99, phố Tân Phong, Phường Thụny Phướơng, Quận Bắc Từ Liênm Hà Nng\n",
            "original_text  =  Số 339, phố Huế, Phường Phố Huế, Quận Hai Bà Trưng, Hà Nội\n",
            "predicted text = Cô 739, phố Huện Phường Phố Huê, Cuận Hai Bồì TrưngH5 iêội\n",
            "original_text  =  485 Tô Hiến Thành P.14, Phường 14, Quận 10, TP Hồ Chí Minh\n",
            "predicted text = 485 Tô Hiến Thành P.4, Phường 14, Quận 10, TP Hồ Chí Minh\n",
            "original_text  =  Điền Lương - Hợp Hòa, Thị trấn Hợp Hòa, Huyện Tam Dương, Vĩnh Phúc\n",
            "predicted text = Điện Lương  Hợp Hoa, Trị trấn Hợp Hòa, Huyện Tân Dương, Ânh Pinh\n",
            "original_text  =  Thôn Vĩnh Hưng, Xã Vĩnh Tân, Huyện Tuy Phong, Bình Thuận\n",
            "predicted text = Thiôn Vĩnh Hing, Xã Vĩnh Tân, Huyện Tuy Nhung, Bình Thuận\n",
            "original_text  =  Tổ 2, khu vực 8, Phường Nhơn Phú, Thành Phố Quy Nhơn, Bình Định\n",
            "predicted text = Tổ 2, ku vực 8, Phườn Nhơn Phú, Tành phố Quy mVan, Bình Đnh\n",
            "original_text  =  120B Mậu Thân nối dài, Phường An Hòa, Quận Ninh Kiều, Cần Thơ\n",
            "predicted text = 225B Nhã Thùn úi đài, Phường An  Hòè, Quận Ninh Kiều, Cần Thơ\n",
            "original_text  =  ấp 4, thị trấn An Thới, Huyện Phú Quốc, Kiên Giang\n",
            "predicted text = ấp4 Hhị trấn An Thớc, Huyện Phú Quốc, Kiên Gi ang\n",
            "original_text  =  Số 27, ngõ 218 Lạc Long Quân, Phường Bưởi, Quận Tây Hồ, Hà Nội\n",
            "predicted text = Số 27, ngõ 218 Lạc Long Quân, Phường Bươ, Quận Tây Hồ, Hà Nội\n",
            "original_text  =  Quốc lộ 23B, Xã Mê Linh, Huyện Mê Linh, Hà Nội\n",
            "predicted text = Quốc lộ 23B, Xã Mê LA, Huyện Mê Lih, Hà Nội\n",
            "original_text  =  100 Phạm Văn Đồng, Phường Vỹ Dạ, Thành phố Huế, Thừa Thiên - Huế\n",
            "predicted text = 100 Phạm Văn Đồng, Phường Võ D9, Thành phố Huế, Thừa Thiên - Hến\n",
            "original_text  =  239A Hoàng Văn Thụ, Phường 08, Quận Phú Nhuận, TP Hồ Chí Minh\n",
            "predicted text = 233A Hàng Văn Thụ, phường 08, Quận Phú Nhuận, TP Hồ Chí Minh\n",
            "original_text  =  Số 79, Tổ 32, KP 3, Phường Trảng Dài, Thành phố Biên Hoà, Đồng Nai\n",
            "predicted text = Số 79, tổ 32, KP 3, Phường Tráng Dài, Thành phố Biên Hoà, Đồng Nai\n",
            "original_text  =  Mèo vạc - Huyện Mèo Vạc - Hà Giang, Huyện Mèo Vạc, Hà Giang\n",
            "predicted text = Mêo Vạc, Huyện Mòo Vạc - Hà Giang, Quyện Mê Vạc, Hà Giang\n",
            "original_text  =  Xã Bồi Sơn, Huyện Đô Lương, Nghệ An\n",
            "predicted text = Xã Bò Sơn, Huyệ Đô Lưny, Nghệ An\n",
            "original_text  =  Số 5 dãy 2, tập thể xa la trại, Phường Phúc La, Quận Hà Đông, Hà Nội\n",
            "predicted text = Số 5 dyỳ 2, Hập thê xa la trại, Phường Phúc La, Quận Hà Đong, Hà Nội\n",
            "original_text  =  Số 69 đường Huyền Quang, Phường Ninh Xá, Thành phố Bắc Ninh, Bắc Ninh\n",
            "predicted text = Số 69 đường Huyền Quang, Phường Ninh Xá, Thành phố Bắc Pinh, Bắc Ninh\n",
            "original_text  =  10 Đường số 2, Cư xá Bình Thới, Phường 8, Quận 11, TP Hồ Chí Minh\n",
            "predicted text = 10 Đường dổ 2, Cư xã Bình Thớc, Phườg 8, Quận 11, TP Hồ Chím Mh\n",
            "original_text  =  190 Lạc Long Quân, Phường 3, Quận 11, TP Hồ Chí Minh\n",
            "predicted text = 190 Lạc Long Quân, Phường 3, Quận 1, TP Hồ Chí Minh\n",
            "original_text  =  142 Đường Số 9, Phường Tân Phú, Quận 7, TP Hồ Chí Minh\n",
            "predicted text = 162 Đường Số 9, Phường Tân Phú, Quuận 7, TP Hồ Chí Minh\n",
            "original_text  =  Thôn Lưu Thượng1-xã Hiệp An, Huyện Kinh Môn, Hải Dương\n",
            "predicted text = Thôn Lơn Thượn,g 1 - xã Hiên An, Huyện Kinh Môn, Hải Dương\n",
            "original_text  =  Số 62, phố Dịch Vọng, Phường Dịch Vọng, Quận Cầu Giấy, Hà Nội\n",
            "predicted text = Số 6 2, Phố Dch ợng Phường Dĩch Vong, Quận Cầu Giấy, Hà Mng\n",
            "original_text  =  Số 01 Lý Bôn, Phường 4, Thành phố Cà Mau, Cà Mau\n",
            "predicted text = Số 01 Lý Bôn, Phường 4, Thành hố Cù Mam, Bà Ma\n",
            "original_text  =  Số 1, đường Thống Nhất, Thị trấn Kẻ Sặt, Huyện Bình Giang, Hải Dương\n",
            "predicted text = Số 1, đường Thống Nhát, Thị trấn Kở St, Huyện Bình Giang, Hải Dươgng\n",
            "original_text  =  84 Nguyễn Văn Linh, Quận Hải Châu, Đà Nẵng\n",
            "predicted text = 84 Nguyễn Văn Linh, Quận Hải Châu, Đà Nẵng\n",
            "original_text  =  02 Lê Lai, Thị trấn Kông Chro, Huyện Kông Chro, Gia Lai\n",
            "predicted text = 02 Lê Lai, Thị Trấn Kơng Cạo, Huyện Kơng Chono, Gia Lai\n",
            "original_text  =  Số 186 Phú Định, Phường 16, Quận 8, TP Hồ Chí Minh\n",
            "predicted text = Số 186 Phú Định, Phường 16, Quận 8, TP Hồ Chí Minh\n",
            "original_text  =  Nhà số 06, tổ 26, Phường Thượng Thanh, Quận Long Biên, Hà Nội\n",
            "predicted text = Nhà số 06, tổ 26, Phườ ng Thượng ThanK, Quận Long Biìếh, Hà Nội\n",
            "original_text  =  Xóm Lò Vôi, Thôn Văn Lâm, Xã Ninh Hải, Huyện Hoa Lư, Ninh Bình\n",
            "predicted text = Xóm Lò Vợi, Thôn Văn Lâm, Xã Ninh Há, Huyện Hoa Lư, Ninh Bình\n",
            "original_text  =  UBND xã Lưu Phương, Huyện Kim Sơn, Ninh Bình\n",
            "predicted text = U1BND Xã Lửu Phương, Huyện Km Sơn, Ninh Bình\n",
            "original_text  =  36/25 Khu vực II, Phường Ngã Bảy, Thị Xã Ngã Bảy, Hậu Giang\n",
            "predicted text = nJ , t KBL V1c TI, Phường Ngã Ráy, Thị rã ã Bảy, Hồn  G cang\n",
            "original_text  =  J1A Bửu Long P.15, Phường 15, Quận 10, TP Hồ Chí Minh\n",
            "predicted text = 71A Bửu Long P15, Phhờn 9 15, Quận 10, TP Hồ Chí Minh\n",
            "original_text  =  Buôn Hiao 2, Xã Ea Hiao, Huyện Ea H'leo, Đắc Lắc\n",
            "predicted text = Quôn Hiao 2, Xã Ba Hiao, Huyện Ea Heo, Đắc Lắc\n",
            "original_text  =  F2/25A10 ấp 6B, Xã Vĩnh Lộc A, Huyện Bình Chánh, TP Hồ Chí Minh\n",
            "predicted text = T2/25A/D ấp 6B, Xã Vĩnh Lộc 1, Huyện Bình Chánh, TP Hồ Chí Minh\n",
            "original_text  =  31/15/14 Ung Văn Khiêm, Phường 25, Quận Bình Thạnh, TP Hồ Chí Minh\n",
            "predicted text = 31/15/14 VỨng Văn Khiêm, Phường 25, Quận Bình Thạnh, TP Hồ Chí Minh\n",
            "original_text  =  45 An Phú, Phường An Phú, Quận 2, TP Hồ Chí Minh\n",
            "predicted text = 45 Aa phú, phường An Phú, Quận 2, TP Hồ Chí Minh\n",
            "original_text  =  596 Nguyễn Đình Chiểu, Phường 03, Quận 3, TP Hồ Chí Minh\n",
            "predicted text = 596 Nguyễn Đình Chiểu, phường 03, Quận 3, TP Hồ Chí Minh\n",
            "original_text  =  Số 318 đường Bưởi, Phường Vĩnh Phúc, Quận Ba Đình, Hà Nội\n",
            "predicted text = Số 318 đường Bưởơi, Phường Vĩnh Púc, Quận Ba Bình, Hà Nội\n",
            "original_text  =  Thôn Xuân Canh, Xã Xuân Canh, Huyện Đông Anh, Hà Nội\n",
            "predicted text = Thôn Xuân Canh, Xã Xuận Canh 1 Huyện Đông Ainh, Hà Nội\n",
            "original_text  =  Tổ 20, Thị Trấn Đông Anh, Thị trấn Đông Anh, Huyện Đông Anh, Hà Nội\n",
            "predicted text = Tổ 20, Thi Trấn Đông Anh, Thị trấn Đông Anh, Huyện Đàng An, Hà Niội\n",
            "original_text  =  Khu 113, Thị trấn Như Quỳnh, Huyện Văn Lâm, Hưng Yên\n",
            "predicted text = Khm 13, Thị trấn Như Quỳnh, Huyện Văn Lâm, Hưun  Yên\n",
            "original_text  =  Xóm Phú Xuân, Xã Đô Thành, Huyện Yên Thành, Nghệ An\n",
            "predicted text = Xóm Phú Xuân, Xã Đã Thành, Huyện Yên Thành, Nghệ An\n",
            "original_text  =  Thôn Cập Nhất, Xã Tiền Tiến, Huyện Thanh Hà, Hải Dương\n",
            "predicted text = Thôn Cập Nhất, Xã Tiến Tiến, Huyện Thanh Hà, Hải Dương\n",
            "original_text  =  Xuân Thành, Huyện Xuân Lộc, Đồng Nai\n",
            "predicted text = Xuân Thành, Huyện Xuân Lộc, Đồng Nai\n",
            "original_text  =  Số 43/20, ấp 2, Xã Thạnh Phú, Huyện Vĩnh Cửu, Đồng Nai\n",
            "predicted text = Số 43/20, ấp 2, Xã Thạnh Phú, Huyện Vĩnh Cửu, Đồng Nai\n",
            "original_text  =  D654, tổ 14, KP4, Phường Long Bình, Thành phố Biên Hoà, Đồng Nai\n",
            "predicted text = D6524, Tổ 11, Kh, Phường Long Bình, Thành phố Biên Hoa, Đồng Nai\n",
            "original_text  =  Số 38, tổ 4, phố Tân Phú, Phường Tân Dân, Thành Phố Việt Trì, Phú Thọ\n",
            "predicted text = Số 38, tổ 4, phố Tâp Phú, Phường Tân Vãp, Thành Phố Việt Trì, Phú Thọ\n",
            "original_text  =  Khu Thống Nhất 2, Phường Tân An, Thị xã Quảng Yên, Quảng Ninh\n",
            "predicted text = Khu Thống Nht 2, Phường Tà  Ah, Thị xã Quảng Yên, Quưảng Niinh\n",
            "original_text  =  Số 33 đường Vũ Quang, Phường Trần Phú, Thành phố Hà Tĩnh, Hà Tĩnh\n",
            "predicted text = Số 33 đường Vũ Quan9, Phường Trân Phú, Thàn1 phố Hà TTnh, Hà Tơnh\n",
            "original_text  =  ấp Cầu Dừa, Xã Mỹ Phước Tây, Thị Xã Cai Lậy, Tiền Giang\n",
            "predicted text = ấp Cầu Da, Xã Mỹ Phước Tây, Tị xã Cai Lậy, Tiền Giang\n",
            "original_text  =  48B/2, KP 5, Phường Tân Hòa, Thành phố Biên Hoà, Đồng Nai\n",
            "predicted text = 48B/2, KP5, Phường Tâào Hòà, Thành Phố Biên Hoà, Đồng Nai\n",
            "original_text  =  Số 15 Trần Cao Vân, Phường 06, Quận 3, TP Hồ Chí Minh\n",
            "predicted text = Số 15 Trấn Cao Vân, Phường 06, Quận 3, TP Cồồ Chí Minh\n",
            "original_text  =  Số 571 đường Hồng Hà, Phường Phúc Tân, Quận Hoàn Kiếm, Hà Nội\n",
            "predicted text = Số 571 đườ ng Hồng Hà, Phường Phùc Tânr, Quận Hoàn Kiếơm, Hà Niội\n",
            "original_text  =  Tổ 15, Khu 5, Phường Quang Trung, Thành phố Uông Bí, Quảng Ninh\n",
            "predicted text = Tổ 15, Khu 5, Phường Quang Trung, Thành phố Vông Bí, Quảng Ninh\n",
            "original_text  =  lầu 3, Số 44 Nguyễn Huệ, Phường Bến Nghé, Quận 1, TP Hồ Chí Minh\n",
            "predicted text = Lầu 3, Số 44 Nguyễn Huệ, Phường Bến Nghé, Quận 1, TP Hồ Chí Minh\n",
            "original_text  =  Nhà CH 3 tổ 9 phường Mai Dịch, Quận Cầu Giấy, Hà Nội\n",
            "predicted text = Nhà C4 3 tổ 9 hường Mai Dịnch, Quận Cầu Giấy, Hà Nội\n",
            "original_text  =  61/2/3 Nguyễn Sơn, Phường Phú Thạnh, Quận Tân phú, TP Hồ Chí Minh\n",
            "predicted text = 61/2/3 Ngễn Sơn, Phường Phú Thạnh, Quận Tân phú, TP Hồ Chhí Minh\n",
            "original_text  =  R 403 tầng 4, V-Tower Số 649 Kim mã, Quận Ba Đình, Hà Nội\n",
            "predicted text = R403 ầng 4, V- Tua Số 649 Kim Mãn, Quận Ba Đình, Hà Nội\n",
            "original_text  =  Vĩnh Quang, Huyện Vĩnh Linh, Quảng Trị\n",
            "predicted text = Vĩnh Quang, Huyện Vĩinh Linh, Quảng Trị\n",
            "original_text  =  Số 43/33 Lý Thường Kiệt, Phường 4, Thành phố Mỹ Tho, Tiền Giang\n",
            "predicted text = Sô 43/33 Lý Thường Hiệt, Phường 4, Thành phố Mỹ Thọ, Tiền Giàng\n",
            "original_text  =  Khu phố Phú Thứ, Thị Trấn Phú Thứ, Huyện Tây Hoà, Phú Yên\n",
            "predicted text = Khu phố Phú Thú, Thị Trấn Phú Thúc, Phuy ện Tây Phoà, Phú Yên\n",
            "original_text  =  26D/25, Khu phố 5, Thị trấn Dầu Tiếng, Huyện Dầu Tiếng, Bình Dương\n",
            "predicted text = 26D/25, Khu pố 5, Tị trấn Dầu Tếng, Hyện Dầu Tếng, Bình Dương\n",
            "original_text  =  47 Trần Phước Thành, Phường Khuê Trung, Quận Cẩm Lệ, Đà Nẵng\n",
            "predicted text = 47 Trần Phước Thành, phường Khư Trung, Quận ẩm Lệ, Đà Nẵng\n",
            "original_text  =  Xã Thắng Mố, Xã Thắng Mố, Huyện Yên Minh, Hà Giang\n",
            "predicted text = Xã Thắng Mỗ, Xã Thắng Mỗ, Huyện Yên Minh, Hà Giang\n",
            "original_text  =  Dỹ Tiến, Xã Thành An, Huyện Thạch Thành, Thanh Hoá\n",
            "predicted text = Dỹ Triín, xã Thành An, Huyện Thạch Thànhh, Thanh Hoá\n",
            "original_text  =  21 Hoàng Diệu, Phường 1, Thành phố Sóc Trăng, Sóc Trăng\n",
            "predicted text = 21 Hoàng Diệu, Phường 1, Thành phố Sóc Tràng, Sóc Trăng\n",
            "original_text  =  8/58 Nguyễn Đình Khơi, Phường 4, Quận Tân Bình, TP Hồ Chí Minh\n",
            "predicted text = 2/58 Mguyễn Đình Khư, Khườn 14, Quận Tân Bình, TP Hồ Chí Mhnh\n",
            "original_text  =  Tổ 26, Phường Cam Giá, Thành Phố Thái Nguyên, Thái Nguyên\n",
            "predicted text = Tổ 26, Phường Cam Giã, Thành Phố Thát Nguyên, Thái Nguyên\n",
            "original_text  =  Số 7 phố Chờ Thị trấn Chờ, Huyện Yên Phong, Bắc Ninh\n",
            "predicted text = Số 7 phố Chơ Thị trấn Chơ, Huyện Yên Phong, Bắc Ninh\n",
            "original_text  =  Số 78 Phạm Ngọc Thạch, Phường Lộc Phát, Thành phố Bảo Lộc, Lâm Đồng\n",
            "predicted text = Số 28 Thạm Ngọ Thrnch, Phường Lộc Phốt, Thành Phố TBản Lộc, Lâm ồng\n",
            "original_text  =  Thị trấn Lấp Vò, Huyện Lấp Vò, Đồng Tháp\n",
            "predicted text = Thị trấn Lấp Vô, Hh yện Lễp Võ, Đồng Thp\n",
            "original_text  =  Xã Tân Công Sính,, Huyện Tam Nông, Đồng Tháp\n",
            "predicted text = Xã Tôn Công Sếnh, Huyện Tam Nông, Đồng Thp\n",
            "original_text  =  54, Thành phố Tam Kỳ, Quảng Nam\n",
            "predicted text = 54, Thành phố Tâm Kỳ, Quảng Nam\n",
            "original_text  =  số 7/95 đường Chùa Bộc, Quận Đống đa, Hà Nội\n",
            "predicted text = Số7/95, đường Quàa Đc Qunh Đng Hạ4 ĩĩn Pòn\n",
            "original_text  =  53/86/23 Trần Khánh Dư P.TĐ, Phường Tân Định, Quận 1, TP Hồ Chí Minh\n",
            "predicted text = 5386 ơ Trần Khánh Du, PTP, Phường Tân Định, Quận 1, TP Hồ Chí Minh\n",
            "original_text  =  Bàn Thạch, Hòa Xuân Đông, Huyện Đông Hoà, Phú Yên\n",
            "predicted text = Bân Trạnh, Hàn Xuân Đông, Huyện Đông Hoà, Phú Yên\n",
            "original_text  =  Cẩm Thạch, Huyện Cẩm Thuỷ, Thanh Hoá\n",
            "predicted text = Cẩm Thạch, Huyện Cẩm Thuỷ, Thanh Hoá\n",
            "original_text  =  Hoá Thượng, Huyện Đồng Hỷ, Thái Nguyên\n",
            "predicted text = 02 Thhở TLĐ A NNNh Hồng H 4,  Ng  ưini\n",
            "original_text  =  xóm 6, Xã Hưng Lộc, Thành phố Vinh, Nghệ An\n",
            "predicted text = xóm Cô, Xã Hưng Lộc, Thành phố Vinh, Nghệ An\n",
            "original_text  =  21 Trần Quý Khoác, Quận 1, TP Hồ Chí Minh\n",
            "predicted text = 51 Trân Quỳ Khoãắc, Quận 1, TP Hồ Chí Minh\n",
            "original_text  =  353 Hoàng Hữu Nam, Phường Tân Phú, Quận 9, TP Hồ Chí Minh\n",
            "predicted text = 353 Hràng Hữù Nomn, Phường Tần phú, Quận 9, TP Hồ Chí Minh\n",
            "original_text  =  Thôn 4, Xã Hạnh Phúc, Huyện Thọ Xuân, Thanh Hoá\n",
            "predicted text = Thôn 4, Xã Hạnh Phúc, Huyện Thọ Xuân, Thanh Hoá\n",
            "original_text  =  Khu 2, Phường Trường Thịnh, Thị xã Phú Thọ, Phú Thọ\n",
            "predicted text = Khu 2, Phường Phờng Thịnh, Thị ĩã Phú Thọ, Phú Thọ\n",
            "original_text  =  Tổ Luộc 1, Thị Trấn Vĩnh Lộc, Huyện Chiêm Hoá, Tuyên Quang\n",
            "predicted text = TĐố uộc 1, Thị Tiấn, Huyện Chm GHoa, Guyên uang\n",
            "original_text  =  334/25 Lê Quang Định, Phường 11, Quận Bình Thạnh, TP Hồ Chí Minh\n",
            "predicted text = 334/251 ê Quang Địcnh, Phường 11, Quận Bình Thạnh, TP Hồ Chí Minh\n",
            "original_text  =  231 thôn Vĩnh Tiến, Xã Vĩnh Tân, Huyện Tuy Phong, Bình Thuận\n",
            "predicted text = 231 thôn Vĩnh Tiến, Xã Vĩnh Tân, Huyện Tuy Phong, Bình Thuậnc\n",
            "original_text  =  Đội 1, thôn Sáp Mai, Xã Võng La, Huyện Đông Anh, TP Hà Nội\n",
            "predicted text = Đội 1, thôn Sáp Mai, Xã Văng La, Huyện Đông Anh, TP Hà Nội\n",
            "original_text  =  Số 125 Tôn Đức Thắng, Phường Hàng Bột, Quận Đống Đa, Hà Nội\n",
            "predicted text = Số 125 Tôn Đức Thắng, Phường Hàng Bột, Quận Đồng Đa\n",
            "original_text  =  Khu phố 4, Thị trấn Vĩnh Bình, Huyện Gò Công Tây, Tiền Giang\n",
            "predicted text = Kh phố 4, Thị tyrấn Vnh Bình, Huyện Gao Công Tân, Tế Gung\n",
            "original_text  =  514B Huỳnh Tấn Phát, Phường Bình Thuận, Quận 7, TP Hồ Chí Minh\n",
            "predicted text = 5143 Hỳnh Tă Phát, Phường Bình Thuận, Quận 2, TP Hồ Chhí Minh\n",
            "original_text  =  Số 16D, khu phố Bình Hòa, Phường Lái Thiêu, TX Thuận An, Bình Dương\n",
            "predicted text = Số 16D, khu phố Bình Hoòa, Phường Lái Thiêu, TX Thuận An, Bình Dương\n",
            "original_text  =  Thị trấn Tiên Kỳ, Huyện Tiên Phước, Quảng Nam\n",
            "predicted text = Thị trấh Tiên K, Huyệ Tiêh Phướ c, Quưảng Nam\n",
            "original_text  =  Số 443/A, ấp Mỹ Thị B, Xã Mỹ An, Huyện Tháp Mười, Đồng Tháp\n",
            "predicted text = Số 443/A, ấp Mỹ Thị B, Xã Mỹg An, Huyện Tháp Mười, Đồng Tháp\n",
            "original_text  =  Xóm cây đa, Huyện Thuỷ Nguyên, Hải Phòng\n",
            "predicted text = Xóm uây đa, Huyện Thủy Nguyên, Hi Phòng\n",
            "original_text  =  22 Duy Tân, Phường 8, Quận Tân Bình, TP Hồ Chí Minh\n",
            "predicted text = 294, V ĩT8 Tânm, P V An/8, Quuận Táth Bình, P Hồ Chí Minh\n",
            "original_text  =  Số 13 Phạm Huy Thông, Thị Trấn Ân Thi, Huyện Ân Thi, Hưng Yên\n",
            "predicted text = Qố ng Phạm Hưuy Ch cng, Thị rấngônghi Huyện n Thị, Hưng Yê \n",
            "original_text  =  Xóm 12, Xã Kim Phú, Huyện Yên Sơn, Tuyên Quang\n",
            "predicted text = Xóm 12, Xã Kim phú, Huyện Yên Sơn, Tuyện Quang\n",
            "original_text  =  Thôn 4, Xã Châu Quế Thượng, Huyện Văn Yên, Yên Bái\n",
            "predicted text = Thôn 4, Xã Châu ẩuê Thương, Huyện Văn Yên, Yên Bái\n",
            "original_text  =  Xóm Cun, Xã Thu Phong, Huyện Cao Phong, Hòa Bình\n",
            "predicted text = Xóm Cum, Xã Thu Phong, Huyện Cao Phong, Hoa Bình\n",
            "original_text  =  ấp Tân Lợi, Xã Tân Phú Trung, Huyện Châu Thành, Đồng Tháp\n",
            "predicted text = ấp Tân Lợi, Xã Tân Phú Trung, Huyện Chân Thành Đồng Thán\n",
            "original_text  =  45C Huỳnh Thúc Kháng, Phường Mũi Né, Thành Phố Phan Thiết, Bình Thuận\n",
            "predicted text = 45C Thuỳnh Thúc Kháng, Phường Múi Né, Thành Phố Pha Thiết, Bình Thuộc\n",
            "original_text  =  An Nhơn, Thị Xã An Nhơn, Bình Định\n",
            "predicted text = An Nhơn, Thị Xã Ahn Nhh, Bình Đnh\n",
            "original_text  =  Đường 868, Phường 3, Thị Xã Cai Lậy, Tiền Giang\n",
            "predicted text = Đường 868, Phường 3, Thị xã Cai Lậy, Tiền Giang\n",
            "original_text  =  Tổ 15, ấp 4, Xã Suối Ngô, Huyện Tân Châu, Tây Ninh\n",
            "predicted text = ố 15, ấp 4, Xã Sun Ngô, Huyện Tân Châu, Tây Ninh\n",
            "original_text  =  121Bis Bà Huyện Thanh Quan, Phường 09, Quận 3, TP Hồ Chí Minh\n",
            "predicted text = 121B3 Bà Huyện Thanh Quan, Phường 09, Quận 3, TP Hồ Chí Minh\n",
            "original_text  =  18 Trịnh Hoài Đức, Phường 13, Quận 5, TP Hồ Chí Minh\n",
            "predicted text = 18 định 4hài Đứ, Phường 13, Quận 5, TP Hồ Chí Minh\n",
            "original_text  =  Số 27, ngõ 142, tổ 10, Phường Việt Hưng, Quận Long Biên, Hà Nội\n",
            "predicted text = Số 27, ngõ 142, tổ 10, Phường Việt Hưng, Quận Long Biên, Hà Nội\n",
            "original_text  =  Xã Nghĩa Sơn, Xã Nghĩa Sơn, Huyện Nghĩa Hưng, Nam Định\n",
            "predicted text = xã Nghễ Sơn, Xã Nghĩa Sơn, Huyện Nghĩa Hưng, Nam Định\n",
            "original_text  =  369F/20 An Dương Vương, Phường 10, Quận 6, TP Hồ Chí Minh\n",
            "predicted text = 369//20 An Dơng Vương, Phường 10, Quận 6, TP Hồ Chí Minh\n",
            "original_text  =  41 #6 Nguyễn Thị Minh Khai, Quận 1, TP Hồ Chí Minh\n",
            "predicted text = 4146 Nguyễn Thị Minh Khai, Quận 1, TP Hồ Chí Minh\n",
            "original_text  =  Số 5, phố Đức Giang, Phường Đức Giang, Quận Long Biên, Hà Nội\n",
            "predicted text = Số 5, pố HĐức Gang, Phường Đức Giang, Quận Long Biên, Hà Nội\n",
            "original_text  =  53 Hà Thanh, Phường Vạn Thắng, Thành phố Nha Trang, Khánh Hòa\n",
            "predicted text = 53 Hà Tha Nh, Phư ờ 7ng Vạh Thắng, Thành phố Nha Trang, Khánh Hòàn\n",
            "original_text  =  Thôn Lịch Sơn,, Xã Cẩm Lý, Huyện Lục Nam, Bắc Giang\n",
            "predicted text = Thô Liĩch Sên, Xã Camn Lý, Huyện Lc Nam, Bắc Giang\n",
            "original_text  =  Số 25, ấp Chợ, Xã Suối Nho, Huyện Định Quán, Đồng Nai\n",
            "predicted text = Số 25, ấnp Chự, Xã Đuối No, Huyện Aịnh Quản, Đồng Nai\n",
            "original_text  =  1233 Phạm Thế Hiển, Phường 5, Quận 8, TP Hồ Chí Minh\n",
            "predicted text = 1233 Phaạm Thế Hiến, Phường 5, Quận 8TP Hồ Chí Minh\n",
            "original_text  =  Huyện lỵ, Huyện Quỳnh Nhai, Sơn La\n",
            "predicted text = Huyện L4, Huyện Quỳnh Nhai, Sơn La\n",
            "original_text  =  Thôn Lâm Tiên, xã Nguyên Khê, Xã Nguyên Khê, Huyện Đông Anh, Hà Nội\n",
            "predicted text = Thôn Lâm Tiên, Xã Nguyên Khê, Xã Nguyên Khê, Huyện Đông Ah, Hà Nội\n",
            "original_text  =  01 Lê Tấn Toán, Phường An Hải Bắc, Quận Sơn Trà, Đà Nẵng\n",
            "predicted text = 01 Lê Tần Trán, Phường An Hải Bắc, Quận Sơn Trà, Đà Nẵng\n",
            "original_text  =  Thôn Nà Cát, Xã Đức Thông, Huyện Thạch An, Cao Bằng\n",
            "predicted text = ThôA Nà Cát, Xã Đức Thô9, Huyện Thạch An, Cao Bng\n",
            "original_text  =  4/48B Khu Phố Đông Chiêu, TX Dĩ An, Bình Dương\n",
            "predicted text = 4/48B Khư Phố Đông Chiêu, TX Dĩ A, Đình Dương\n",
            "original_text  =  Cụm 7, xã Tân Lập,, Xã Tân Lập, Huyện Đan Phượng, Hà Nội\n",
            "predicted text = Cụm 7, Xã Tân Lập, Xã Tân Lập, Huyện Đan Phượng, Hà Nội\n",
            "original_text  =  Thôn Trại, Xã Dị Sử, Huyện Mỹ Hào, Hưng Yên\n",
            "predicted text = Thôn Trái, Xã Dị Si, Huyện Nỹ Hà, Hưng YTên\n",
            "original_text  =  Số 4, ngõ 1 phố Nghĩa Dũng, Phường Phúc Xá, Quận Ba Đình, Hà Nội\n",
            "predicted text = Số 4 ngõ 1 Nghĩa Dung, phường Phúc Xá, Quận Ba Đình, Hà Nội\n",
            "original_text  =  198/41 Đường số 3, Phường 9, Quận Gò Vấp, TP Hồ Chí Minh\n",
            "predicted text = 198/41 đường số 3, phường 9, Quận Gò Vấp, TP Hồ Chí Minh\n",
            "original_text  =  UBND xã Hợp Thành, Huyện Yên Thành, Nghệ An\n",
            "predicted text = 1BND xã Hợp Thành, Huyện Yên Thành, Nghệ An\n",
            "original_text  =  Nhà 61, tổ 55, K3, Phường Khương Trung, Quận Thanh Xuân, Hà Nội\n",
            "predicted text = Nhù 61, tổ 55, K3, Phường Khương Trung, Quận Thanh Xuận, Hà Niội\n",
            "original_text  =  49 Đường 41, Phường Tân Quy, Quận 7, TP Hồ Chí Minh\n",
            "predicted text = 49 Đờng 41, Phường Tân Qung, Quận 7, TP Hồ Chí Minh\n",
            "original_text  =  2094 Quốc lộ 1A, phường Tân Chánh Hiệp, Quận 12, TP Hồ Chí Minh\n",
            "predicted text = 209 4 Quốc lộ 1A, Phường Tân Chánh Hiệp, Quận 12, TP Hồ Chí Minh\n",
            "original_text  =  Số 94 Trần Hưng Đạo, Phường Hải Cảng, Thành Phố Quy Nhơn, Bình Định\n",
            "predicted text = Số 94 Trần Hưng Đạo, Phường Hải Cơng, Thành Phố Qu Nhơn, Đình Đị Mnh\n",
            "original_text  =  419 Nguyễn Huệ - TP Tuy Hoà - Phú Yên, TP Tuy Hoà, Phú Yên\n",
            "predicted text = 419 Nguyễn Huệ TP Tuy Hòà Phú Yên, TP uy Hoà, Phú Yên\n",
            "original_text  =  Số 35/5, Khu Phố Tân Lập, Phường Đông Hòa, Tx Dĩ An, Bình Dương\n",
            "predicted text = Số 35/5 Khu Phố Tân Lạp, Phường Đông Hoà, Tx Dĩ An, Bình Dương\n",
            "original_text  =  16/2 Trần Bình Trọng, Phường 01, Quận 5, TP Hồ Chí Minh\n",
            "predicted text = 4 ng 2 T ăn BEnh lL/ọ, Pố ường 07, CQuận ln, TP Hố Hồ, hi, hí Minh\n",
            "original_text  =  Số 222 ấp Thới Thạnh, Xã Thới Sơn, Thành phố Mỹ Tho, Tiền Giang\n",
            "predicted text = ố 2a2 ấp Thới Thịnh, Xã Thái Sơn, Thành Phố Mỹ Tho, Tền Gang\n",
            "original_text  =  Số 283 Đường 30/4, Phường 3, Thành phố Sóc Trăng, Sóc Trăng\n",
            "predicted text = Số 283 Đường 30/4, Phường 3, Thành Phố Sóc Trng, Sóc Trăng\n",
            "original_text  =  276/131/17 Thống Nhất, Phường 16, Quận Gò Vấp, TP Hồ Chí Minh\n",
            "predicted text = 276/131/17 Trấp Nất, Phường 16, Quận Bò ấp, TP Hồ Chí Minh\n",
            "original_text  =  207/24, Huyện Mỏ Cày Nam, Bến Tre\n",
            "predicted text = I207/2L2, Huyệnh Mó Càng Nam, Bến Tr\n",
            "original_text  =  KV Thới Thạnh, Phường Thới An, Quận Ô Môn, Cần Thơ\n",
            "predicted text = KV Thíi Thạh, Phường Thủứ An, Quận 5 Môân, Cần Thơ\n",
            "original_text  =  Thôn 3, Xã Thạch Long, Huyện Thạch Thành, Thanh Hoá\n",
            "predicted text = ThôA 3, Xã ThạcCh Lon9, Huyện Thạch Thành, Thanh Hoá\n",
            "original_text  =  47 Hàng Bồ, Phường Hàng Bồ, Quận Hoàn Kiếm, Hà Nội\n",
            "predicted text = 47 Hàng Bồ, Phường Hàng Bồ, Quận Hoàn Kiếm, Hà Nội\n",
            "original_text  =  88A Kha Vạn Cân, Phường Hiệp Bình Chánh, Quận Thủ Đức, TP Hồ Chí Minh\n",
            "predicted text = 881 Kha Vạn Côn, Phường Hiệp Bình Chánh, Quận Thủ Đức, TP Hồ Chí Minh\n",
            "original_text  =  187/7 Điện Biên Phủ, Phường Đa Kao, Quận 1, TP Hồ Chí Minh\n",
            "predicted text = 187/7 Điện Biền phủ, Phường Đn Kao, Quận 1, TP Hồ Chí Minh\n",
            "original_text  =  Cụm 5, Thị trấn A Lưới, Huyện A Lưới, Thừa Thiên - Huế\n",
            "predicted text = Cụm 5, Thị trấn A Lướt, Huyện A Lưới, Thừa Tiên - Huế\n",
            "original_text  =  Số 63-65, Cao Văn Lầu, Khóm 3, Phường 5, Thành Phố Bạc Liêu, Bạc Liêu\n",
            "predicted text = Số 63- 55, Cao Văn Lầu, Khòn 3, Phường 5, Thành Phố Bạc Liêu, Bạc Liêu\n",
            "original_text  =  426, Đường Tô Ngọc Vân, phường Thạnh Xuân, Quận 12, TP Hồ Chí Minh\n",
            "predicted text = 426, Đường Tô Ngọc Vân, Phường Thạnh Xuận, Quận 12, TP Hồ Chí h\n",
            "original_text  =  67 Phan Đăng Lưu, Phường Hoà Cường Nam, Quận Hải Châu, Đà Nẵng\n",
            "predicted text = 67 Phan Đăng Lưn, Phường Hoà Cường Nam, Quận Hải Chảâu, Đà Nẵng\n",
            "original_text  =  Số 27, tổ 1, khu 1, ấp 2, Xã An Hoà, Thành Phố Biên Hoà, Đồng Nai\n",
            "predicted text = Số 2h tổ 1, Khu 1, ấp 2, Xã An Hoà, Thành Khốc Biên Hoà, Đồng Nai\n",
            "original_text  =  Thôn My Thượng, xã Thanh Mai,, Xã Thanh Mai, Huyện Thanh Oai, Hà Nội\n",
            "predicted text = Thôn Ng Thượng, Xã Thanh Mai, xã Thanh Mai, Huyện Thanh Oai, Hà Niội\n",
            "original_text  =  Xóm Trung Tâm, Xã Mường Lống, Huyện Kỳ Sơn, Nghệ An\n",
            "predicted text = Xóm Trung Tâm, Xã Mương Lống, Huyện Kỳ Sơn, Nghệ An\n",
            "original_text  =  Số nhà 27, đường Chu Văn An, Phường Lê Lợi, Thành phố Vinh, Nghệ An\n",
            "predicted text = Số nha 27, đường Chu Văn An, Phường Lê Lơi, Thành nhố Vinh, Nghệ An\n",
            "original_text  =  Xóm Giữa, Xã Thanh Liệt, Huyện Thanh Trì, Hà Nội\n",
            "predicted text = XAnmh Gưa, Xã Thanh Lânt, Huyện Thanh Trì, Hà Nội\n",
            "original_text  =  B127 Nguyễn Văn Quá, phường Đông Hưng Thuận, Quận 12, TP Hồ Chí Minh\n",
            "predicted text = B127 Nguyễn Văn Quá, phường Đông Hưng Thuận, Quận 12, TP Hhồ Cinh\n",
            "original_text  =  Đường 179, Xã Cửu Cao, Huyện Văn Giang, Hưng Yên\n",
            "predicted text = Đườ ng 179, Xã Cửu Cao, Huyện Văn Ging, Hung Yên\n",
            "original_text  =  Số 262/16 Nguyễn Tiểu La, Phường 08, Quận 10, TP Hồ Chí Minh\n",
            "predicted text = Số 262/16 Nguyễn Trhu Lạ, phường 08, Quận 10, TP Hồ Chí Mhinh\n",
            "original_text  =  14B Trần Ngọc Diện, Phường Thảo Điền, Quận 2, TP Hồ Chí Minh\n",
            "predicted text = ND2/3 rần Li Kợạc Diện, PPhường Thả Điì, Quận I, TP Hồ, ìhí Minh\n",
            "original_text  =  KCN Biên Hòa 1, Thành Phố Biên Hoà, Đồng Nai\n",
            "predicted text = KCN Biên Hà 1, Thành phố Biên Hong, Đồng Nai\n",
            "original_text  =  Số 728 Bạch Đằng, Phường Bạch Đằng, Quận Hai Bà Trưng, Hà Nội\n",
            "predicted text = Số 728 Bạch Đồng, Phường Bạch Đằng, Quận Hai Đà Trưng, Hà Nội\n",
            "original_text  =  68 Phạm Viết Chánh, Phường 19, Quận Bình Thạnh, TP Hồ Chí Minh\n",
            "predicted text = 68 Phạm Viễt Chánh, Phường 19, Quận Bình Thạnh, TP Hồ Chí Minh\n",
            "original_text  =  Tân Đức, Xã Vạn Lương, Huyện Vạn Ninh, Khánh Hòa\n",
            "predicted text = Tân Đức, Xã Vạn Lương, Huyện Vạn Ninh, Khánh Hòa\n",
            "original_text  =  397/5, Tây Lạc, An Chu, Xã Bắc Sơn, Huyện Trảng Bom, Đồng Nai\n",
            "predicted text = 397/5, Tân Lạc, An Chu, Xã Bắc Sơn, Huyện Trưng Boam, Đồng Nai\n",
            "original_text  =  Số 57, phố Đường Thành, Phường Cửa Đông, Quận Hoàn Kiếm, Hà Nội\n",
            "predicted text = Số 57, phố Đường Thành, phường Cửa Đông, Quận Hoàn Kiếm, Hà Niội\n",
            "original_text  =  Thôn Đông Cứu, Xã Dũng Tiến, Huyện Thường Tín, Hà Nội\n",
            "predicted text = Triấn Đng Cáu, xã Dung Tiến, Huyện Thưng Tân, Hà Nội\n",
            "original_text  =  Số 43 Nguyễn Thượng Hiền, Phường Nguyễn Du, Quận Hai Bà Trưng, Hà Nội\n",
            "predicted text = ố 43 Nguyễn Thuượng Hiền, Phường Nguyễn Du, Quận Hải Bà Trưng, Hà Nội\n",
            "original_text  =  Số 86 Lê Hồng Phong, Phường 4, Thành Phố Vũng Tàu, Bà Rịa - Vũng Tàu\n",
            "predicted text = Số 86 Lê Hồng Đhong, phường A, Thành phố Vũng Sàu, Bà RBạa Vũng Đàu\n",
            "original_text  =  Tổ 3, ấp 4, Tỉnh Lộ 8, Xã Hoà Phú, Huyện Củ Chi, TP Hồ Chí Minh\n",
            "predicted text = Tổ 3, ấp 4, Tỉnh Lộ 8, Xã Hòa Phú, Huyện Cú Chi, TP Hồ Chí Mhnh\n",
            "original_text  =  Đội 8, thôn Văn Lăng, Xã Trực Tuấn, Huyện Trực Ninh, Nam Định\n",
            "predicted text = Đội 8, thôn Vất Lăng, Xã TrựcC Tuất, Huyện Trự c Ninh, Nam Đị inh\n",
            "original_text  =  65/6Y ấp Mỹ Hòa 3, Xã Tân Xuân, Huyện Hóc Môn, TP Hồ Chí Minh\n",
            "predicted text = 65/6 Xân Mỹ Hòà 3, Xã Tân Xuân, Thện Hòoc Uôn, TP Hồ Chí Minh\n",
            "original_text  =  Số 32, ngõ 420 Khương Đình, Phường Hạ Đình, Quận Thanh Xuân, Hà Nội\n",
            "predicted text = Số 32, ugõ 420 Kường Đình, Phường Hị Đình, Quậú Thinh Xumn, H Mi\n",
            "original_text  =  Số 6, ngõ 170 Thạch Bàn, Phường Thạch Bàn, Quận Long Biên, Hà Nội\n",
            "predicted text = Số 6, ngõ 170 Thạch Bàân, Phường Thach Bàn, Quận Long Biên, Hà Ni\n",
            "original_text  =  Số 282 Tây Sơn, Phường Trung Liệt, Quận Đống đa, Hà Nội\n",
            "predicted text = Số 282 Tây Sơn, Phường Trung Liê7, Quận Đống Đa, Hà Nội\n",
            "original_text  =  221/8 Hà Tôn Quyền, Phường 6, Quận 11, TP Hồ Chí Minh\n",
            "predicted text = 221/8 Hà Tôn Quyền, phường 6, Quận 11, TP Hồ Chí Minh\n",
            "original_text  =  Số 21 Lê Thánh Tông, Phường Máy Chai, Quận Ngô Quyền, Hải Phòng\n",
            "predicted text = Số 21 Lê Thránh Tồng, Phường My Chai, Quận Ngô Quyền, Hải Phng\n",
            "original_text  =  Tiểu khu 5, thị trấn Chợ Rã, Huyện Ba Bể, Bắc Cạn\n",
            "predicted text = Trều khu 5, thị trấn Chợ Rá, Huyện Ba Bế, Bắc Cạ\n",
            "original_text  =  Thôn Đông Hải, Huyện Phú Quý, Bình Thuận\n",
            "predicted text = Thôn Đông Hải, Huyện Phú Quúý, Bình Thuận\n",
            "original_text  =  628A Nguyễn Duy, Phường 12, Quận 8, TP Hồ Chí Minh\n",
            "predicted text = 628A Nguyễn Duygg Phường 12, Quận 8, TP Hồ Chí Minh\n",
            "original_text  =  Số 252 Khu phố 4, Thị trấn Thứ Ba, Huyện An Biên, Kiên Giang\n",
            "predicted text = Số 252 Khu phố 4, Thị trấn Thủ Ba, Huyện An Biên, Kiên Giang\n",
            "original_text  =  23 Điện Biên Phủ, Phường Đa Kao, Quận 1, TP Hồ Chí Minh\n",
            "predicted text = 23 Điện Biên Phủ, Chường Đa Kao, Quận 1, TP Hồ Chí Minh\n",
            "original_text  =  Cụm Công nghiệp Nam An Sơn, Xã Quế Thọ, Huyện Hiệp Đức, Quảng Nam\n",
            "predicted text = Cụ Gông nghiệp Nam An Sơn, Xã Quế Thọ, Huyện Hiệp Đức, Quảng Naii\n",
            "original_text  =  20A Lê Văn Hưu, Phường Bến Nghé, Quận 1, TP Hồ Chí Minh\n",
            "predicted text = 20A Lê Văn Hưu, Phường Bến Nghé, Quận 1, TP Hồ Chí Minh\n",
            "original_text  =  Km số 3, đường phan trọng tuệ, Xã Tam Hiệp, Huyện Thanh Trì, Hà Nội\n",
            "predicted text = Km Số 3, đường Phan Trọng Tuê, Xã Tam Hiệp, Huyện Thanh Trì, Hà Nội\n",
            "original_text  =  91 Nguyễn Văn Thủ, Phường Đa Kao, Quận 1, TP Hồ Chí Minh\n",
            "predicted text = 91 Nguyễn Văn Thủi, Phường Đakano, Quận 1, TP Hồ Chí Minh\n",
            "original_text  =  Đường Lê Quý Đôn, Phường An Lộc, Thị xã Bình Long, Bình Phước\n",
            "predicted text = Đường Lê Quỹ Đô,n, Phường An Lộc, Thị Xã Bình Lon, Bình Phước\n",
            "original_text  =  Xóm Sơn Phú, Xã Cao Sơn, Huyện Đà Bắc, Hòa Bình\n",
            "predicted text = Xóm Sôn Phủ, Xã Cao Sơơ, Huyện Đà Bắác, Hòa Bình\n",
            "original_text  =  Thôn Thuận Phước, Xã Thuận Đức, Thành Phố Đồng Hới, Quảng Bình\n",
            "predicted text = Thôn Thuận Phước, xã Thuận Đức, Thành phố Đồng Hới, Quảng Bình\n",
            "original_text  =  Tổ 12, khối 3, Thị trấn Diễn Châu, Huyện Diễn Châu, Nghệ An\n",
            "predicted text = Tổ 12, Khối 3, Thị trấn Diền Châu, Huyệnc Diễn Châu, Nghệ An\n",
            "original_text  =  Khối 6A, Thị trấn Anh Sơn, Huyện Anh Sơn, Nghệ An\n",
            "predicted text = Thối 6A, Thị trấn Anh Sơn, Huyện Kinh Sơn, Ngnh Hh\n",
            "original_text  =  207/16/7a Nam Cao P.Tân Phú, Phường Tân Phú, Quận 9, TP Hồ Chí Minh\n",
            "predicted text = 207/16/7n Nam Ca P.Tân Ph, Phường Tân Phú, Quận 9, TP Hồ Chí Minh\n",
            "original_text  =  Số 165/2, KP 7, Phường Tân Hòa, Thành Phố Biên Hoà, Đồng Nai\n",
            "predicted text = Số 165/2, KP 7, Phường Tân Hoà, Thành phố Biên Hoà, Đồng Nai\n",
            "original_text  =  25, Tân Trào, Phường Tân An, Quận Ninh Kiều, Cần Thơ\n",
            "predicted text = 25, Tân Trào, Phường Tân An, Quận Ninh Kiều, Cần Thơ\n",
            "original_text  =  ấp ông Trịnh, Xã Tân Phước, Huyện Tân Thành, Bà Rịa - Vũng Tàu\n",
            "predicted text = ấp ông Tnnh, Xã Tân phước, Huyện Tán Thành, Bà Rịa Vunũ Tàu\n",
            "original_text  =  B19, đường 57, Khu dân cư 586, Phường Phú Thứ, Quận Cái Răng, Cần Thơ\n",
            "predicted text = B19, đường 57, Ku dân Cứ 586, Phường Phú Hiưt, Quận Cài Rằng Càng\n",
            "original_text  =  Thôn Kênh Mai, Xã Văn Đức, Thị xã Chí Linh, Hải Dương\n",
            "predicted text = Thôn Vnh Mai, Xã Văn Đức, Thị xã Chí Linh, Hải Dương\n",
            "original_text  =  Số 240 Đường Tôn Đức Thắng, Phường Hàng Bột, Quận Đống Đa, Hà Nội\n",
            "predicted text = Số 240 Đường Tôn Đức Thắng, Phường Hàng Bột, Quận Đống Đa, Hà Nội\n",
            "original_text  =  13/5A Nguyễn Văn Quá, phường Đông Hưng Thuận, Quận 12, TP Hồ Chí Minh\n",
            "predicted text = 77/DN NgYBP ăn uá, phường Đông Vưng Thuận, Quậcn1, Pchh hnh\n",
            "original_text  =  94 Nguyễn Cửu Đàm, Phường Tân Sơn Nhì, Quận Tân phú, TP Hồ Chí Minh\n",
            "predicted text = 94 Nguyễn Chu Đàm, Phường Tân Sơn Nhi, Quận Tân phú, TP Hồ Chí h\n",
            "original_text  =  Số 38 Hào Nam, Phường ô Chợ Dừa, Quận Đống đa, Hà Nội\n",
            "predicted text = Số 38 Hà Nam, Phường ô Chợ Trà, Quận ống Đa, Hà Nội\n",
            "original_text  =  Xóm Đông Thành, Xã Vĩnh Thành, Huyện Yên Thành, Nghệ An\n",
            "predicted text = Xóm Đông Thành, Xã Vĩnh Thành, Huyện Yên Thành, Nghệ An\n",
            "original_text  =  20 LK28 khu đô thị Văn Phú, Phường Phú La, Quận Hà Đông, Hà Nội\n",
            "predicted text = 20 L K28 Kh4 đô hị Văn Phú, Phường Phù La, Quận Hà Đông, Hà Niội\n",
            "original_text  =  Khu công nghiệp NOMURRA, Huyện An Dương, Hải Phòng\n",
            "predicted text = Khu công nghuập No M' NhA, Huyện Ao Dương, Hải Phòng\n",
            "original_text  =  54A Phan Đình Phùng, Phường Tây Sơn, Thành phố Pleiku, Gia Lai\n",
            "predicted text = 54A Phan Đình Phùưng9, Phường Tây Sơn, Thành phố Pei KU, Gia Laii\n",
            "original_text  =  186/14 Bình Thới, Phường 14, Quận 11, TP Hồ Chí Minh\n",
            "predicted text = 186/1/14c Bình Trến Phường 4, Quận 11A, TP Cồ  Vhí Minh\n",
            "original_text  =  Thị Trấn Cao Lộc, Huyện Cao Lộc, Lạng Sơn\n",
            "predicted text = Thị Trần Cao Lộc, Huyện Cao Lộc, Lạng Sơn\n",
            "original_text  =  777 Ngô Quyền, Phường An Hải Bắc, Quận Sơn Trà, Đà Nẵng\n",
            "predicted text = 777 Ngô Quyền, Phường An HHải Bắc, Quận Sơn Trà, Đà Nẵng\n",
            "original_text  =  Đội 7, Xã Mường Báng, Huyện Tủa Chùa, Điện Biên\n",
            "predicted text = Đội 7, Xã Mường Bng, Huyện Tuã Cha, Điện Biên\n",
            "original_text  =  Tân Thiềng, Xã Tân An Hội, Huyện Mang Thít, Vĩnh Long\n",
            "predicted text = Tân Thiềng, Xã Tân Kn Xội, Huyện Moang Thếnt, Vĩnh Long\n",
            "original_text  =  Thôn Dừa lẽ xã Hải lựu, Huyện Sông Lô, Vĩnh Phúc\n",
            "predicted text = Thôn Dừa Lê xã Hải Lưa, Huyện Sng Lô, Vĩnh Phúc\n",
            "original_text  =  Xóm Đông, thôn Khê Ngoại, Xã Văn Khê, Huyện Mê Linh, Hà Nội\n",
            "predicted text = Xóm Động, Hhã Kh Ngoàn, Xã Vãi Kh, Hyện Ne Cinh, Hà Nội\n",
            "original_text  =  79 Nguyễn Cư Trinh, Phường Thuận Hòa, Thành phố Huế, Thừa Thiên - Huế\n",
            "predicted text = 79 Nguyễn Cừ Trinh, Phường Thuận Hòa, Thành phố Huế, Tứca Than - Hu\n",
            "original_text  =  QL 1A, KV 7, Phường Bùi Thị Xuân, Thành phố Quy Nhơn, Bình Định\n",
            "predicted text = Q1 1A, KV7, Phường Bùi Thị Xuân, Thành Phố Quy Nhơn, Bình Đinh\n",
            "original_text  =  Lê hoá, Huyện Tuyên Hoá, Quảng Bình\n",
            "predicted text = Lê troá, Huyện Huyên Hoá, Quang Bình\n",
            "original_text  =  68 Bà Huyện Thanh Quan, Phường Mỹ An, Quận Ngũ Hành Sơn, Đà Nẵng\n",
            "predicted text = 68B0 Huyện Thanh Quoan, Phờng Nỹ amn, Quận Ngũc Hành Tôn, Đà Nẵng\n",
            "original_text  =  63H Cư Xá Phú Lâm D, Phường 10, Quận 6, TP Hồ Chí Minh\n",
            "predicted text = 634 Cư Xá Phún Lâm D, Phường 1V, Quận 6, TP Hồ Chí Minh\n",
            "original_text  =  Tầng 4, số 5A Võ Thị Sáu, Phường Máy Tơ, Quận Ngô Quyền, Hải Phòng\n",
            "predicted text = Hầng 4, số 5A Võ Thị Sáu, Phường My Tơ, Quận Ngô Quyền, THảá Phòng\n",
            "original_text  =  28 Nguyễn Thị Diệu P.6, Phường 06, Quận 3, TP Hồ Chí Minh\n",
            "predicted text = 28 Nquyễn Thị Kiện .6, Phờờ 06, Quận 3, TP Hồ ChíMinh\n",
            "original_text  =  TK 13, Phường Bắc Nghĩa, Thành Phố Đồng Hới, Quảng Bình\n",
            "predicted text = Th13, Phường Bắc Nghĩ 0, Thành Phố Đồng Hi, Q Un 9 Bì nh\n",
            "original_text  =  Thôn Tân An, Xã Đại Lãnh, Huyện Đại Lộc, Quảng Nam\n",
            "predicted text = Thôn Tân An, Xã Đại Lãinh, Huyện Đại Lộc, Quảng Nam\n",
            "original_text  =  119 Mai Hắc Đế, Phường Bùi Thị Xuân, Quận Hai Bà Trưng, Hà Nội\n",
            "predicted text = 119 Mai Hăn Đế, Phường Bù Thị Xân, Qận Hải Bà Trưng, Hà Nội\n",
            "original_text  =  Quốc lộ 14, ấp 3, Xã Tân Thành, Thị xã Đồng Xoài, Bình Phước\n",
            "predicted text = Quốc lộ 14, ấp 3, Xã Tân Thành, Thị xã Đồng Xoài, Bình Phước\n",
            "original_text  =  Số 354 Đường Tô hiệu, Quận Lê Chân, Hải Phòng\n",
            "predicted text = Số 354 Đường Tô Hiệu, Quận Lê Chân, Hải Phòng\n",
            "original_text  =  15B/71 Lê Thánh Tôn, Phường Bến Nghé, Quận 1, TP Hồ Chí Minh\n",
            "predicted text = 153/71 Lê Thánh Tân hường Bấn Nghệ, Quận 6, TPấtc Hồ Chí Minh\n",
            "original_text  =  Khu CN Bá Thiện, Xã Bá Hiến, Huyện Bình Xuyên, Vĩnh Phúc\n",
            "predicted text = Khu CN Bá Thiện, Xã Bá Hiến, Huyện Bình Xuyên, Vinh Phúc\n",
            "original_text  =  5/5 Đường 4, Khu phố 4, Phường Tam Phú, Quận Thủ Đức, TP Hồ Chí Minh\n",
            "predicted text = 5/5 Đường 4, Khu phố 4, Phường Tam pú, Quận Thủ Đức, TP Hồ Chinh\n",
            "original_text  =  Tổ 2, khu 1, Phường Vân Phú, Thành Phố Việt Trì, Phú Thọ\n",
            "predicted text = Tổ 2, Khu B, Phùường Bân Phú, Thành Phố Việt Trì, Hhú Thọ\n",
            "original_text  =  Số 101 Tô Vĩnh Diện, Phường Khương Trung, Quận Thanh Xuân, Hà Nội\n",
            "predicted text = 510 Bô Tĩnh Du, Phường Kham Trng, Quận Thinh Xâu, Hà Nội\n",
            "original_text  =  296 Lưu Hữu Phước P.15, Phường 15, Quận 8, TP Hồ Chí Minh\n",
            "predicted text = 296 Lưu Hữu Phớc P.15, Phường 15, Quận 8, TP Hồ Chí Minh\n",
            "original_text  =  Ngã tư chùa Vít, Xã Cẩm Phúc, Huyện Cẩm Giàng, Hải Dương\n",
            "predicted text = Ngã Yư Chùua Vt, Xã Cẩm Phúc, Huyện Cẩm Giàng, Hải Dương\n",
            "original_text  =  11 Ngô Văn Trị, Phường Phú Lợi, Thành Phố Thủ Dầu Một, Bình Dương\n",
            "predicted text = 11 Ngô Văc Tri, Rường Phú Lợi, Thành phố Thủ Dầ Mộ, Bình Dương\n",
            "original_text  =  Xã Tân Thành, Huyện Tân Hiệp, Kiên Giang\n",
            "predicted text = Xã Tân Thình, Huyện Thn Hiệp, Kiên Giang\n",
            "original_text  =  Thôn Tú Sơn 1, Xã Đức Lân, Huyện Mộ Đức, Quảng Ngãi\n",
            "predicted text = Thôn Tái Sơn 1, Xã Đức Lân, Huyện Mộ Đức, Quảng Ngai\n",
            "original_text  =  ấp Mới 2, xã Mỹ Hạnh Nam, Huyện Đức Hoà, Long An\n",
            "predicted text = A Nôi 2 Ay Hành Nam, Huyện Đệc oá, Long An\n",
            "original_text  =  47A Lê Liễu, Phường Tân Quý, Quận Tân phú, TP Hồ Chí Minh\n",
            "predicted text = 141N Lê Liễu, Phường Tin Quý, Quận Tân phú, TP Hồ Chí Minh\n",
            "original_text  =  Số 82 Phố An Trạch, Phường Quốc Tử Giám, Quận Đống đa, Hà Nội\n",
            "predicted text = Số 82 Phố An Trạách, Phường Quốc Từ Giân, Quận Đóng Đa, Hà Nội\n",
            "original_text  =  49B Nguyễn Đỗ Cung, Phường Tây Thạnh, Quận Tân phú, TP Hồ Chí Minh\n",
            "predicted text = 49B Nguyễn Đố Cung, Phường Tây Thạnh, Quận Tân phú, TP Hồ Chí Minh\n",
            "original_text  =  Nấm dẩn, Xã Nấm Dẩn, Huyện Xín Mần, Hà Giang\n",
            "predicted text = Nấm dấn, Xã Nấm Dấn, Huyện Xín Mần, Hà Giang\n",
            "original_text  =  Đường Trần Hưng Đạo, Tỉnh Ninh Bình, Ninh Bình\n",
            "predicted text = Đường Trần Hưng Đạo, Tinh Ninh Bình, Ninh Bình\n",
            "original_text  =  15/1 Lê Thánh Tôn, Phường Bến Nghé, Quận 1, TP Hồ Chí Minh\n",
            "predicted text = 15//Lê Thánhn Tôn, Phường Bến Nghé, Quận  TP Hồ Chí Minh\n",
            "original_text  =  Xã Long Định, Xã Long Định, Huyện Bình Đại, Bến Tre\n",
            "predicted text = Xã Long Định, Xã Long Định, Huyện Bình Đại, Bến Tre\n",
            "original_text  =  Số 11B Ngô Văn Sở, Phường Ngọc Trạo, Thành phố Thanh Hoá, Thanh Hoá\n",
            "predicted text = Số 1B Ngô Văn Sơ, Phường Ngộọc Trạo, Thành phố Thanh Hoá, Thanh Hảa\n",
            "original_text  =  Km 28, Quốc lộ 27A, Xã Quảng Sơn, Huyện Ninh Sơn, Ninh Thuận\n",
            "predicted text = Km 328, Quốc lô 27A, Xã Quảng Sơn, Huện Ninh S n, Ni Thịug\n",
            "original_text  =  P903-10, tòa nhà Viglacera, Phường Mễ Trì, Quận Nam Từ Liêm, Hà Nội\n",
            "predicted text = P903- 10 Đànhà Vg ra, Phường Mế Trì, Quận Nn Từ Liêu, Hà Nội\n",
            "original_text  =  Sơn Liên, Xã Nghĩa Sơn, Huyện Nghĩa Đàn, Nghệ An\n",
            "predicted text = Sơn Liên, Xã Ngha Sơn, Huyện Ngha Đàn, Nghệ, An\n",
            "original_text  =  Số 15 Đông Khê, Phường Đông Khê, Quận Ngô Quyền, Hải Phòng\n",
            "predicted text = SN T ườn gĐônc hậui Đĩc  đuyền, Hải Pông cội\n",
            "original_text  =  Số 18, ngách 12/21, phố Đào Tấn, Phường Cống Vị, Quận Ba Đình, Hà Nội\n",
            "predicted text = Số 18, ngsách 12/21, Phố Đào Tân, Phường Cống Vị, Quận Ba Vĩnh Hà Nội\n",
            "original_text  =  324 Trần Hưng Đạo, Phường Bà Triệu, Thành Phố Nam Định, Nam Định\n",
            "predicted text = 324 Trầ Hưng Đạo, Phường Bà Triu, Thành phố Nam Định, Nam Định\n",
            "original_text  =  Số 2 đường Phùng Hưng, Quận Hà Đông, Hà Nội\n",
            "predicted text = Số 2 đường Phùng Hưng, Quận Hà Đong, Hà Nội\n",
            "original_text  =  Thôn Tiền Thắng, Xã Bảo Khê, Thành Phố Hưng Yên, Hưng Yên\n",
            "predicted text = Thôn Tiền Thắng, Xã Bảo Khê, Thành phố Hưng Yên, Hưng Yên\n",
            "original_text  =  18D Nguyễn Lâm, Phường 06, Quận 10, TP Hồ Chí Minh\n",
            "predicted text = 0D Nguyễn Lâm, Thường 06, Quận 10, TP Hồ Chí Minh\n",
            "original_text  =  15B-19 Đường Ba Mươi Tháng Tư, Phường 1, Thành phố Mỹ Tho, Tiền Giang\n",
            "predicted text = 15B - 19 đường Ba Mươi Thưng Tư, phường 1, Thành phố Mỹ Th Tền Ga\n",
            "original_text  =  Số 220B/2 khu phố 1B, Phường An Phú, Tx Thuận An, Bình Dương\n",
            "predicted text = Số 22VA/2 khn phố 1A, Phườn, tAh phú, Trx Thuận An, Bình Dương\n",
            "original_text  =  Tổ dân phố 5 Tân Sơn, Thành phố Sông Công, Thái Nguyên\n",
            "predicted text = Tổ dân phố 5, Tây Sơn, Thành Phố Sông Công, Thái Nguyên\n",
            "original_text  =  Số 37 Trần Cao Vân, P Ngọc Trạo, Thành phố Thanh Hoá, Thanh Hoá\n",
            "predicted text = Số 37 Trần Cao Vân, P Ngọc Trạo, Thành phố Thanh Hán Thanh Hớa\n",
            "original_text  =  Long Trung, Xã Long Thành Trung, Huyện Hoà Thành, Tây Ninh\n",
            "predicted text = Long Trung, xườ Long Thành Trang, Huyện Hà Koauny, Tồ NCinh\n",
            "original_text  =  Thôn Vân La, Xã Hồng Vân, Huyện Thường Tín, Hà Nội\n",
            "predicted text = Thôn Vân La, Xã Hồng Vân, Huyện Thường Tín, Hà Nội\n",
            "original_text  =  Thôn Xuân Lai, Xã Gia Tiến, Huyện Gia Viễn, Ninh Bình\n",
            "predicted text =  Thôn Xưin Lai, Xã Gòa Triệnn, K ĐNn Gia Viũ, Vinh Bình\n",
            "original_text  =  409/12 Nguyễn Trãi P.07, Phường 07, Quận 5, TP Hồ Chí Minh\n",
            "predicted text = 409/12 Nguyễn Trăi P.07, Phường 07, Quận 5, TP Hồ Chí Minh\n",
            "original_text  =  Thôn 2, xã Đức Lân, Huyện Mộ Đức, Quảng Ngãi\n",
            "predicted text = Thôn 2, xã Đức Lâu, Huyện Mộ Đức, Quảng Ngãi\n",
            "original_text  =  151A Phạm Hùng, Phường Hoà Xuân, Quận Cẩm Lệ, Đà Nẵng\n",
            "predicted text = 151A Phạm Hùng, Phường Hoà Xuơn, Quận Cóm Lệ, Đà Nẵng\n",
            "original_text  =  423/22 Nguyễn Kiệm, Phường 09, Quận Phú Nhuận, TP Hồ Chí Minh\n",
            "predicted text = 423/22 Nguyễn Kiệm, Phường 09, Quận Phú Nhuận, TP Hồ Chí Mhnh\n",
            "original_text  =  4, Bế Văn Đàn, Phường An Hòa, Quận Ninh Kiều, Cần Thơ\n",
            "predicted text = Ag Bê Văi Đàn, Bhường An Hoà, Quận Ninh, Kiều, Cần T\n",
            "original_text  =  Thôn La Tiến, Xã Nguyên Hòa, Huyện Phù Cừ, Hưng Yên\n",
            "predicted text = Thn Ca Trấú, Xã Nggũ Ràn, Hhuyện Phủ Cai, Hhưảng Yên\n",
            "original_text  =  ấp Cái Dầy, Thị trấn Châu Hưng, Huyện Vĩnh Lợi, Bạc Liêu\n",
            "predicted text = ấp Cai Dầy, Thị trấn Chân Hưng, Huyện Vĩnh Lợi, Bạc Liêu\n",
            "original_text  =  THôN AN THọ, Xã An Khánh, Huyện Hoài Đức, Hà Nội\n",
            "predicted text = Thôn An Thọ, Xã An TChánh, Huyện Hoài Đức, Hà Nội\n",
            "original_text  =  Thôn 4, Đông Trai, Xã Diễn Kỷ, Huyện Diễn Châu, Nghệ An\n",
            "predicted text = Thôn 4, Đống Trài, Xã Diền Ký, Huyện Diễn Châu, Nghệ An\n",
            "original_text  =  Số 55/3, Hùng Vương, Phường 9, Thành Phố Đà Lạt, Lâm Đồng\n",
            "predicted text = 3ố 55, hùng ưọg, Phường 9, Thành Phố Đà Lạt, Lậm Đồng\n",
            "original_text  =  xã quảng thành, Xã Quảng Thành, Huyện Hải Hà, Quảng Ninh\n",
            "predicted text = Xã Quyý hình, Xã Qucng Thành, Huyện Hạ, Hà, Dýỹ Na hnh\n",
            "original_text  =  Thôn Chợ, Xã Bình Minh, Huyện Thanh Oai, Hà Nội\n",
            "predicted text = Thôn Chợ, Xã Bình Minh, Huyện Thanh Oai, Hà Nội\n",
            "original_text  =  Bản Hua Mường, Xã Sốp Cộp, Huyện Sốp Cộp, Sơn La\n",
            "predicted text = B35n Ha Mường, Xã ấn R yn, Đuy ện ố Cộp, SĐờn La\n",
            "original_text  =  Thôn Ninh Hải, Xã Minh Châu, Huyện Vân Đồn, Quảng Ninh\n",
            "predicted text = Thôn Ninh Hải, Xã Minh Châu, Huyện Vân Đồn, Quảng Ninh\n",
            "original_text  =  Số nhà 6, hẻm 124/22/53 âu Cơ, Phường Tứ Liên, Quận Tây Hồ, Hà Nội\n",
            "predicted text = 5ồ Tun Đà, T5, Quận 5, TTT HHồ Chí Minh\n",
            "original_text  =  483- Trường Chinh, Phường An Khê, Quận Thanh Khê, Đà Nẵng\n",
            "predicted text = 483 Trườ lng ChihA, Phường Ah Khê, Quận Thanh Khê, Đà Nẵng\n",
            "original_text  =  127/8F2/10G, Mậu Thân, Phường An Hòa, Quận Ninh Kiều, Cần Thơ\n",
            "predicted text = 127/8E2/100, MĐu Thàh, Phường Ah Hoà, Quận Ninh Ku, Cần Trhơn\n",
            "original_text  =  Tổ 4, Thị trấn Kon Dơng, Huyện Mang Yang, Gia Lai\n",
            "predicted text = T8 47, Thị trăn Kam ơng, Huyện ong Tangh, Gia Lai\n",
            "original_text  =  Phường Quang Trung, Thành phố Hải Dương, Hải Dương\n",
            "predicted text = Phường Quang Trung, Thành Phố Hải Dương, Hai Dương\n",
            "original_text  =  thôn Đá Mài 2, Xã Tân Xuân, Huyện Hàm Tân, Bình Thuận\n",
            "predicted text = thôn Đá Mãi 2, Xã Tân Xuân, Huyện Hàm Tân, Bình Thuận\n",
            "original_text  =  Thôn Đông Hồng, Xã Quỳnh Bảo, Huyện Quỳnh Phụ, Thái Bình\n",
            "predicted text = Thôn Đông Hồng, Xã Dỳnh Bảo, Huyện Quỳnh Phụ, Thái Bình\n",
            "original_text  =  8 Đường 12D, Phường Long Thạnh Mỹ, Quận 9, TP Hồ Chí Minh\n",
            "predicted text = 8 Đùng 1D, phường Long Thạnh Mỹg, Quận 0TTP Hồ CChí Minh\n",
            "original_text  =  ấp Thanh Hiệp, xã Thanh Phú, Huyện Bến Lức, Long An\n",
            "predicted text = âp Thanh Hiệp, Xã Thanh Pha, Huyện Bến ức, Long An\n",
            "original_text  =  K34/17 đường Đàm Văn Lễ, Phường Hoà An, Quận Cẩm Lệ, Đà Nẵng\n",
            "predicted text = K34/17 đường Đàm Văn Lỗ, Phường Hoa An, Quận Cẩm Lệ, Đà Nẵng\n",
            "original_text  =  LK11B-35, khu đô thị Mỗ Lao, Phường Mộ Lao, Quận Hà Đông, Hà Nội\n",
            "predicted text = 6K/1P-35, Khu đê Phị Mỗ Lao, Phường Mộ Lao, Quận Hà Đông, Hà Nội\n",
            "original_text  =  Số 39 ngõ 23 phố Đỗ Quang, Phường Trung Hoà, Quận Cầu Giấy, Hà Nội\n",
            "predicted text = L39 ngõ-2Bphố B Dm, Phùng Trung Bà, Qâu Cầu Giấc, Hà Nội\n",
            "original_text  =  Số 38A/20 khu phố Bình Đường 1, Phường An Bình, Tx Dĩ An, Bình Dương\n",
            "predicted text = Số 38A/20 Khu phố Bình Đường 1, Phường An Bình, TX Bĩ An, Bình aà ng\n",
            "original_text  =  Thị trấn Bắc yên, Huyện Bắc Yên, Sơn La\n",
            "predicted text = Thị trãth Bắc Yên, Huyện Bắc Yơ, Sơ Lại\n",
            "original_text  =  256/3 Phạm Văn Chí, Phường 04, Quận 6, TP Hồ Chí Minh\n",
            "predicted text = 256/3 Phạm Văn Chí, Phường 04, Quận 6, TP Hồ Chí Minh\n",
            "original_text  =  Số 010, ấp 1, Xã Hội Nghĩa, Thị xã Tân Uyên, Bình Dương\n",
            "predicted text = Số D/0, ấp 1, Xã ội Nghĩa, Thị Xãn Tân Uyên, Bình Dưng\n",
            "original_text  =  Tầng 16 Toà Nhà Saigon Tower 29 Lê Duẩn, Quận 1, TP Hồ Chí Minh\n",
            "predicted text = Tầng 16 Tòa Nhà Saingan Tuan 29 Lê Quẩn, Quận 1, TP Hồ Chí Minh\n",
            "original_text  =  Thôn Tiến Vũ 8, Xã An Tường, Thành Phố Tuyên Quang, Tuyên Quang\n",
            "predicted text = Thấn Tiến Vứ 8, Xã An ường, Thrành Phố Tuyên Quang, Tuyên Quang\n",
            "original_text  =  Số 1 đường Quang Trung, Thành phố Lạng Sơn, Lạng Sơn\n",
            "predicted text = g 2 1, đườn Cưng Qp, Thành phố Vạng Sơn, Lạng Sn\n",
            "original_text  =  Số 414 Đà Nẵng, Phường Đông Hải 1, Quận Hải An, Hải Phòng\n",
            "predicted text = Số 414 Đà Năng, hường Đông Hải 1, Quận Hải An, Hải Phòng\n",
            "original_text  =  199/46 Tân Hương, Phường Tân Quý, Quận Tân phú, TP Hồ Chí Minh\n",
            "predicted text = 199/45 dân Hương, Phường ân Quý, TP Hồ Chí Minh\n",
            "original_text  =  07 Điện Biên Phủ, Phường Phường Đúc, Thành phố Huế, Thừa Thiên - Huế\n",
            "predicted text = 07 Điện Điên Phủ, Phường Phường Đì 2, Thành phố Huế, Thừa Tên - Hunh\n",
            "original_text  =  439/59/15 Hồ Học Lãm, Phường An Lạc, Quận Bình Tân, TP Hồ Chí Minh\n",
            "predicted text = 439/5ơ/15 Hực Lâm, Phường An Lạc, Qunnh Bình Tân, TP Hồ Chí Minh\n",
            "original_text  =  Thôn Tùng Quang, Xã Hương Quang, Huyện Vũ Quang, Hà Tĩnh\n",
            "predicted text = Thôn Từng Quang, Xã Hương Quang, Huyện Vũ Quang, Hà Tĩnh\n",
            "original_text  =  Thôn Ngọc Loan, Xã Tân Quang, Huyện Văn Lâm, Hưng Yên\n",
            "predicted text = Thôn Ngọc Loan, Xã Tân Quang, Huyện Văn Lâm, Hung Yên\n",
            "original_text  =  Tổ 9, ấp Trà Hiệp, Xã Trà Vong, Huyện Tân Biên, Tây Ninh\n",
            "predicted text = Tổ 9, ấp Tà Hệp, Xã Trà Vrng, Huyện Trân Biên, Tây Ninh\n",
            "original_text  =  Xã Tân Hương, Xã Tân Hương, Huyện Đức Thọ, Hà Tĩnh\n",
            "predicted text = Xã Tân Hương, Xã Tân Hương, Huyện Đứcc Thọ, Hà Tĩnh\n",
            "original_text  =  Số 384, tổ 1, Phường Trần Phú, Quận Hoàng Mai, Hà Nội\n",
            "predicted text = Số 384, 16 1, Phường Trần Pú, Quận Hoàng Mai, Hà Nội\n",
            "original_text  =  Thôn Phú An, Đại Thắng, Huyện Đại Lộc, Quảng Nam\n",
            "predicted text = Thôn Phú An, Đai Thng, Huyện Đại Lộ, Quảng Nam\n",
            "original_text  =  Số 36, ngõ 14, tổ 11, Phường La Khê, Quận Hà Đông, Hà Nội\n",
            "predicted text = Số 36, ngõ 14, tổ 11, Phường La Khê, Quận Hà Đông  Hà Nội\n",
            "original_text  =  Số nhà 30C, tổ dân phố số 1, Phường Văn Quán, Quận Hà Đông, Hà Nội\n",
            "predicted text = Số nhà 30C, tã dân phố ố 1, Phường Văn Quán, Quận Hà Đông, Hà Nội\n",
            "original_text  =  Số 499/6/118 Quang Trung, Phường 10, Quận Gò Vấp, TP Hồ Chí Minh\n",
            "predicted text = Số 499/6/118 Quang Trhng, Phường 10, Quận, Gò Vấp, TP CCí Minh\n",
            "original_text  =  235-237-239-241 Cộng Hòa, Phường 13, Quận Tân Bình, TP Hồ Chí Minh\n",
            "predicted text = 235-237-239 -241 Côn Hòà, Mường 17, Quận Tân Bìn, TP Hồ Chí Minh\n",
            "original_text  =  Xã Ngọc Lâu, Xã Ngọc Lâu, Huyện Lạc Sơn, Hòa Bình\n",
            "predicted text = Xã Ngọc Lâu, Xã Ngực Lâu, Huyện Lạc Sơn, Hoa Bình\n",
            "original_text  =  xã Tân Triều, Xã Tân Triều, Huyện Thanh Trì, Hà Nội\n",
            "predicted text = xã Tân Triều, Xã Tân Trều, Huyện Thanh Trì, Hà Nội\n",
            "original_text  =  Khối 1, Phường Thu Thuỷ, Thị Xã Cửa Lò, Nghệ An\n",
            "predicted text = Khối 1, Phường Tha Thuủy, Thị Xã Cửu Lô, Ngiệ An\n",
            "original_text  =  Số 48 Láng Hạ, Phường Láng Hạ, Quận Đống Đa, Hà Nội\n",
            "predicted text = Số 48 Láng H, Phường Láng Hạ, Quận Đông Đa, Hà Nội\n",
            "original_text  =  ấp Sở Tại, Xã Thạnh Phú, Huyện Cái Nước, Cà Mau\n",
            "predicted text = ấp Sơ Đạh, Xã Thạnh phú, Huyện Cái Nươc, Cà Nai\n",
            "original_text  =  Số 5, phố Thanh Đàm, Phường Thanh Trì, Quận Hoàng Mai, Hà Nội\n",
            "predicted text = Số 5, phố Thanh Đùn, Phường Thahú Từì, Quảận Hường Mai, Hà Nội\n",
            "original_text  =  114/9 Vườn Lài, phường An Phú Đông, Quận 12, TP Hồ Chí Minh\n",
            "predicted text = 114/9 Vườn Lài, phường An Phú Đông, Quận 12, TP Hồ Chí Minh\n",
            "original_text  =  Số nhà 63 tổ 19, phố Mai Dịch, Phường Mai Dịch, Quận Cầu Giấy, Hà Nội\n",
            "predicted text = Số nhà 63 tổ 19, phố Mai Diơn, Phường Hai Dịch, Quận Cầu Giấy, Hà Nội\n",
            "original_text  =  298 Trường Sa, Phường 02, Quận Phú Nhuận, TP Hồ Chí Minh\n",
            "predicted text = 190 Trường Xá, Phường02, Quận Phún 1Nân, TP Hồ Chí Minh\n",
            "original_text  =  Số 205 đường Ngô Quyền, Phường Máy Chai, Quận Ngô Quyền, Hải Phòng\n",
            "predicted text = Số 205 đườg Ngô Quyền, Phường Mtg Chai, Quận Ng Quyền THái Phòng\n",
            "original_text  =  81 Mai Thị Lựu, Phường Đa Kao, Quận 1, TP Hồ Chí Minh\n",
            "predicted text = 81 Mi Thị Lưng, Phường ĐnKuao, Quận 1, TP Hồ Chí Minh\n",
            "original_text  =  Phố Bình Minh, Huyện Lục Nam, Bắc Giang\n",
            "predicted text = Phố Bình Minh, Huyện Lục Nam, Bắc Giang\n",
            "original_text  =  Đường Trần Nhật Duật -, Phường Kim Tân, Thành phố Lào Cai, Lào Cai\n",
            "predicted text = Đường Thần Nhệt Duậất, Phường Kim Tân, Thrành Phô Làao Cai, Lào Cai\n",
            "original_text  =  37/11/24 đường Phú Định, Phường 16, Quận 8, TP Hồ Chí Minh\n",
            "predicted text = 37/11/24 điền Phú Định, Phường 16, Quận 8, TPồ aồ Chí Minh\n",
            "original_text  =  Xóm Đình, thôn Tự Khoát, Xã Ngũ Hiệp, Huyện Thanh Trì, Hà Nội\n",
            "predicted text = Xóm Đình, thôn Tự Khát, Xã Ngũn Hiệp, Huyện Thanh Trì, Hà Nội\n",
            "original_text  =  Thôn Tân Ninh, Xã Tân Thủy, Huyện Lệ Thuỷ, Quảng Bình\n",
            "predicted text = Thôn Tôn Ninh, Xã Tân Thuy, Huyện Lệ Thuỷ, Quông Bình\n",
            "original_text  =  Thôn Định Bình, Thị trấn Vĩnh Thạnh, Huyện Vĩnh Thạnh, Bình Định\n",
            "predicted text = Thôn B Định Bình, Thị trấn Vĩnh Thanh, Huyện Vĩnh Thạnh, Bình Định\n",
            "original_text  =  553/60B Nguyễn Kiệm, Phường 09, Quận Phú Nhuận, TP Hồ Chí Minh\n",
            "predicted text = 553/60B Nguyễn Kiệm, Phường 09, Quận Phú Nhuận, TP Hồ Chí Minh\n",
            "original_text  =  Thôn Trung Nghĩa, Xã Hoà Ninh, Huyện Hoà Vang, Đà Nẵng\n",
            "predicted text = Thôn Trung Nghĩa, Xã Hoà Minh, Huyện Hoa Vang, Đà Nẵng\n",
            "original_text  =  Tổ 7, Phường Minh Khai, Thành Phố Phủ Lý, Hà Nam\n",
            "predicted text = Tổ 7, Phườnhg, Minh Khi, Thành phố Phủ Lý, Hà Nam\n",
            "original_text  =  Khu 6 Tráng Việt, Xã Tráng Việt, Huyện Mê Linh, Hà Nội\n",
            "predicted text = Khu 6 Tràng Việt, Xã Tràng Vệt, Huyện Nê Linh, Hà Nội\n",
            "original_text  =  B12/8N/10C ấp 2, Xã Vĩnh Lộc B, Huyện Bình Chánh, TP Hồ Chí Minh\n",
            "predicted text = B/2/8N/10C ấp 2, Xã Tĩnh Lộc B, Huyện Bình Chánh, TP Hồ Chính\n",
            "original_text  =  125/11 Nguyễn Cửu Vân, Phường 17, Quận Bình Thạnh, TP Hồ Chí Minh\n",
            "predicted text = 125/11 Nguyễn Cữũ Vân, Phường 17, Quậ Bình Thịnh, TP Hồ Cưhí Minh\n",
            "original_text  =  Khu tập thể Xí nghiệp 4, Xã Duyên Thái, Huyện Thường Tín, Hà Nội\n",
            "predicted text = Khu tập Thí Xã nghiệp 4, XP Đuyyện Thái, Huyện Thưng Tĩri, Hà Niội\n",
            "original_text  =  Thôn Đào Duy Từ, Xã Nguyên Bình, Huyện Tĩnh Gia, Thanh Hoá\n",
            "predicted text = Thô Đào Duy Từ, Xã Nguyên Bình, Huyện Tình Gia, Thanh Ho\n",
            "original_text  =  âp Hoà Hưng, Huyện Tân Thạnh, Long An\n",
            "predicted text = âp Hòa Hưng, Huyện Tân Thạch, Long An\n",
            "original_text  =  153 Đặng Văn Ngữ, Phường 14, Quận Phú Nhuận, TP Hồ Chí Minh\n",
            "predicted text = 153 Đặng Văn Ngi, hường 11, Quận Phú Nhuận, TP Hồ Chí Minh\n",
            "original_text  =  Số 20, khu tập thể Thuỷ Sản, Phường Mai Dịch, Quận Cầu Giấy, Hà Nội\n",
            "predicted text = Số 20, Khu tập thê Thủuy Sơn, Phường Mai Dịch, Quận Cầu Giấy, Hà Nội\n",
            "original_text  =  Số 400/1A, khu phố Tân An, PhườngTân Đông Hiệp, Tx Dĩ An, Bình Dương\n",
            "predicted text = Số 400/1A, Kku phố Tân An, Phưng Tà Đông Hiệp, Tx ĩAn, Bình Đưng\n",
            "original_text  =  62B Trần Bình Trọng, Phường 5, Quận Bình Thạnh, TP Hồ Chí Minh\n",
            "predicted text = 62B Trần Bình Trọng, Phường 5, Quận Bình Thạnh, TP Hồ Chí Minh\n",
            "original_text  =  Thôn 8, Xã Đắk Ha, Huyện Đắk Glong, Đắk Nông\n",
            "predicted text = TThôn 8, Xã Đốnk Ha, Huyện Đốk G Long, Đắc Nông\n",
            "original_text  =  78/1 Đường TA21, phường Thới An, Quận 12, TP Hồ Chí Minh\n",
            "predicted text = 78/1 Đường TA21, Phường Thới An, Quận 12, TP Hồ CíhMinh\n",
            "original_text  =  285/2 Nguyễn Văn Trỗi, Phường 10, Quận Phú Nhuận, TP Hồ Chí Minh\n",
            "predicted text = 285/2 Nguyễn Văn Trỗ, Phườ ng 10, Quận Phú Nhuận, TP Hồ Chí Minh\n",
            "original_text  =  Thôn La Bông, Xã Hoà Tiến, Huyện Hoà Vang, Đà Nẵng\n",
            "predicted text = Thôn La Bông, Xã Hòa Tiến, Huyện Hoà Hà Vang, Đà Nẵng\n",
            "original_text  =  Số 102 - Nguyễn ái Quốc, Phường Bắc Hồng, Thị xã Hồng Lĩnh, Hà Tĩnh\n",
            "predicted text = Số 102 - Nguyễn Ai Quốc, phường Bắc Hồng, Thị xã Hồng Linh, Hà Tĩnh\n",
            "original_text  =  Số 149A, ấp Long Hưng, Xã Long Chánh, Thị xã Gò Công, Tiền Giang\n",
            "predicted text = Số 149A, ấp Lông Hưing, Xã Long Chánh, Trhàị Xã Gò Công, Tền Giang\n",
            "original_text  =  92/45 Xô Viết Nghệ Tĩnh, Phường 21, Quận Bình Thạnh, TP Hồ Chí Minh\n",
            "predicted text = 92/45 Xô Việt Nghệ Tính, Quận Bình Thạnh, TP Hồ Chí Minh\n",
            "original_text  =  501 - 503 Trần Hưng Đạo, Phường 14, Quận 5, TP Hồ Chí Minh\n",
            "predicted text = 50/1- 5V3 Trần Hưng Địc, Phường 16, Quận I, TP Hồ Chí Minh\n",
            "original_text  =  75/1 Cây Keo, Phường Tam Phú, Quận Thủ Đức, TP Hồ Chí Minh\n",
            "predicted text = 75/1 Cây Ko, Phường Tam phú, Quận Thủ Đức, TP Hồ Chí Minh\n",
            "original_text  =  14 Nguyễn Thái Học, P Tân An, Quận Ninh Kiều, Cần Thơ\n",
            "predicted text = 7L4 Nguy ễn CPhá xoa, P. ân Hng Quện Ninh Siềi, Cần Thơ\n",
            "original_text  =  Thôn Sín Chải, Xã Tả Giàng Phình, Huyện Sa Pa, Lào Cai\n",
            "predicted text = Thôn Sốn Chãi, Xã Ta G ng Phình, Huyện Sa Ra, Làc Cai\n",
            "original_text  =  439 An Dương Vương, Phường 03, Quận 5, TP Hồ Chí Minh\n",
            "predicted text = 439 An Dươngg Vưrông, Phườg 03, Quận 5, TP Hồ Chí Minh\n",
            "original_text  =  02 - 04, KP 3, An bình, Phường An Bình, Thành phố Biên Hoà, Đồng Nai\n",
            "predicted text = 0D -04, KP3, 4h ì K, Brường Hanmn Bìnr, Thàn hgphô tiêna, Đồng Niui\n",
            "original_text  =  ấp Cầu Xây Thị trấn Thủ Thừa, Huyện Thủ Thừa, Long An\n",
            "predicted text = ấp Cầu Xây Thị trấn Thủ Thừa, Huyện Thủ Thừa, Long An\n",
            "original_text  =  Thôn Xuân Sơn, Xã Trung Giã, Huyện Sóc Sơn, Hà Nội\n",
            "predicted text = Thôn Xuiân Sơn, Xã Trung Giã, Huyện Sóc Sơn, Hà Nội\n",
            "original_text  =  Đường Cao Thắng, Thôn 11, Xã Lộc Ninh, Thành phố Đồng Hới, Quảng Bình\n",
            "predicted text = Dường Cao Vng Thôn 11, xã Lộc Ninh, Thành phốô Đồng Hồi, Quảng Bình\n",
            "original_text  =  ấp 1, Huyện Cần Đước, Long An\n",
            "predicted text = ấp 1, Huyện Cầu Đươg Long An\n",
            "original_text  =  Số 24/A, ấp An Viễng, Xã Bình An, Huyện Long Thành, Đồng Nai\n",
            "predicted text = Số 24/A, ấp An Viềng, Xã Bình An, Huyện Long Thành, Đồng Nai\n",
            "original_text  =  Thôn Đa Đinh, Xã An Bình, Huyện Nam Sách, Hải Dương\n",
            "predicted text = Thấn Ba Đình, Xã An Bình, Huyện Nam Sách, Hải, Phòng\n",
            "original_text  =  Thôn Giang Bắc, Xã Phước Hiệp, Huyện Tuy Phước, Bình Định\n",
            "predicted text = Thôn Gihng Bác, Xã Phước Điệp, Huyệh Ty Phước, Bình Đình\n",
            "original_text  =  305/66 Lê Văn Sỹ, Phường 1, Quận Tân Bình, TP Hồ Chí Minh\n",
            "predicted text = 705/66 Sê Văn sốỹ, Phường 1, Quận Tân Bình, Tp HồHồ Cí Minh\n",
            "original_text  =  Thôn Vạn Phúc, Xã Vạn Kim, Huyện Mỹ Đức, Hà Nội\n",
            "predicted text = Thôn Kạn Phúc Xã Lạp Kum, Huện Mỹ Đức 7 à Nội\n",
            "original_text  =  Số 204/15 đường Hải Phòng, Phường Tân Chính, Quận Thanh Khê, Đà Nẵng\n",
            "predicted text = Số 204/15 đường Hải Phòng, Phường Tân Chinh, Quận Thanh Khê, Đà Nẵng\n",
            "original_text  =  Đồng Sau - xã Đồng Sơn, Xã Đồng Sơn, Thành phố Bắc Giang, Bắc Giang\n",
            "predicted text = Đồng Sau - xã Đồng Sơn, Xã Đồng Sơn, Thàn1, phố Đắc Giang, Bắc Giang\n",
            "original_text  =  Thôn AGrồng - Xã ATiêng, Xã A Tiêng, Huyện Tây Giang, Quảng Nam\n",
            "predicted text = Thông AGờng - Xã A iêngh, Xã A Tiông, Huyện Tây Giang, Qảng Nam\n"
          ]
        }
      ]
    },
    {
      "cell_type": "markdown",
      "source": [
        "## Val set evaluation"
      ],
      "metadata": {
        "id": "ge9hMD3JPqZT"
      }
    },
    {
      "cell_type": "code",
      "source": [
        "# predict outputs on validation images\n",
        "NO_PREDICTS = 100\n",
        "OFFSET=0\n",
        "# prediction = act_model.predict(valid_img[OFFSET:OFFSET+NO_PREDICTS])\n",
        "prediction = act_model.predict(valid_img)\n"
      ],
      "metadata": {
        "id": "Ba9KAXKNX1Am"
      },
      "execution_count": null,
      "outputs": []
    },
    {
      "cell_type": "code",
      "source": [
        "# NO_PREDICTS image results\n",
        "# 9 timesteps\n",
        "# 32 chars + 1 blank\n",
        "prediction.shape"
      ],
      "metadata": {
        "id": "9uc5Ex5mX3NQ"
      },
      "execution_count": null,
      "outputs": []
    },
    {
      "cell_type": "code",
      "source": [
        "# use CTC decoder\n",
        "out = K.get_value(K.ctc_decode(prediction, input_length=np.ones(prediction.shape[0])*prediction.shape[1],\n",
        "                         greedy=True)[0][0])\n",
        "# see the results\n",
        "all_predictions =[]\n",
        "i = 0\n",
        "for x in out:\n",
        "    print(\"original_text  = \", valid_orig_txt[i+OFFSET])\n",
        "    print(\"predicted text = \", end = '')\n",
        "    pred = \"\"\n",
        "    for p in x:\n",
        "        if int(p) != -1:\n",
        "            pred += char_list[int(p)]\n",
        "    print(pred)\n",
        "    all_predictions.append(pred)\n",
        "    i+=1"
      ],
      "metadata": {
        "id": "ObYLSxKVX4hg"
      },
      "execution_count": null,
      "outputs": []
    },
    {
      "cell_type": "code",
      "source": [
        "#YOUR PART: WRITE TO PRINT OUT THE IMAGES IN NICE 2D ARRAY PLOT WITH ORIGINAL TEXT AND PREDICTED TEXT\n",
        "import matplotlib.pyplot as plt\n",
        "import matplotlib.gridspec as gridspec\n",
        "plt.figure(figsize=(10,200))\n",
        "col=0\n",
        "row=1\n",
        "gs1 = gridspec.GridSpec(NO_PREDICTS, 1)\n",
        "# gs1.update(wspace=0.025, hspace=0.025)\n",
        "for n in range(NO_PREDICTS):\n",
        "    plt.subplot(gs1[n])\n",
        "    plt.imshow(valid_img[n][:,:,0], cmap=\"gray_r\")\n",
        "    plt.title(f\"Label {n}: \"+valid_orig_txt[n+OFFSET], fontsize=20, color=\"green\")\n",
        "    plt.xlabel(f\"Prediction {n}: \"+all_predictions[n+OFFSET], fontsize=20, color=\"red\")\n"
      ],
      "metadata": {
        "id": "cgU_Y9ifX7Q1"
      },
      "execution_count": null,
      "outputs": []
    },
    {
      "cell_type": "markdown",
      "source": [
        "## Evaluation Metrics"
      ],
      "metadata": {
        "id": "c5uqGBCNXd71"
      }
    },
    {
      "cell_type": "code",
      "source": [
        "# evaluate test set\n",
        "evaluate = ocr_metrics(predicts=all_test_predictions,\n",
        "                                  ground_truth=test_orig_txt,\n",
        "                                  norm_accentuation=False,\n",
        "                                  norm_punctuation=False)\n",
        "\n",
        "test_result = \"\\n\".join([\n",
        "    \"Metrics:\",\n",
        "    \"Character Error Rate: {}\".format(evaluate[0]),\n",
        "    \"Word Error Rate:      {}\".format(evaluate[1]),\n",
        "    \"Sequence Error Rate:  {}\".format(evaluate[2]),\n",
        "])"
      ],
      "metadata": {
        "id": "SdCpU4BrUlQB"
      },
      "execution_count": 65,
      "outputs": []
    },
    {
      "cell_type": "code",
      "source": [
        "print(test_result)"
      ],
      "metadata": {
        "id": "Sd1ZAHH_UrKP",
        "colab": {
          "base_uri": "https://localhost:8080/"
        },
        "outputId": "60be6305-ea1e-4150-e10a-c4452eea0c0d"
      },
      "execution_count": 66,
      "outputs": [
        {
          "output_type": "stream",
          "name": "stdout",
          "text": [
            "Metrics:\n",
            "Character Error Rate: 0.08803356531644808\n",
            "Word Error Rate:      0.2735233391975599\n",
            "Sequence Error Rate:  0.9253187613843351\n"
          ]
        }
      ]
    },
    {
      "cell_type": "code",
      "source": [
        "import string\n",
        "import unicodedata\n",
        "import editdistance\n",
        "\n",
        "\n",
        "def ocr_metrics(predicts, ground_truth, norm_accentuation=False, norm_punctuation=False):\n",
        "    \"\"\"Calculate Character Error Rate (CER), Word Error Rate (WER) and Sequence Error Rate (SER)\"\"\"\n",
        "\n",
        "    if len(predicts) == 0 or len(ground_truth) == 0:\n",
        "        return (1, 1, 1)\n",
        "\n",
        "    cer, wer, ser = [], [], []\n",
        "\n",
        "    for (pd, gt) in zip(predicts, ground_truth):\n",
        "\n",
        "        if norm_accentuation:\n",
        "            pd = unicodedata.normalize(\"NFKD\", pd).encode(\"ASCII\", \"ignore\").decode(\"ASCII\")\n",
        "            gt = unicodedata.normalize(\"NFKD\", gt).encode(\"ASCII\", \"ignore\").decode(\"ASCII\")\n",
        "\n",
        "        if norm_punctuation:\n",
        "            pd = pd.translate(str.maketrans(\"\", \"\", string.punctuation))\n",
        "            gt = gt.translate(str.maketrans(\"\", \"\", string.punctuation))\n",
        "\n",
        "        pd_cer, gt_cer = list(pd.lower()), list(gt.lower())\n",
        "        dist = editdistance.eval(pd_cer, gt_cer)\n",
        "        cer.append(dist / (max(len(pd_cer), len(gt_cer))))\n",
        "\n",
        "        pd_wer, gt_wer = pd.lower().split(), gt.lower().split()\n",
        "        dist = editdistance.eval(pd_wer, gt_wer)\n",
        "        wer.append(dist / (max(len(pd_wer), len(gt_wer))))\n",
        "\n",
        "        pd_ser, gt_ser = [pd], [gt]\n",
        "        dist = editdistance.eval(pd_ser, gt_ser)\n",
        "        ser.append(dist / (max(len(pd_ser), len(gt_ser))))\n",
        "\n",
        "    cer_f = sum(cer) / len(cer)\n",
        "    wer_f = sum(wer) / len(wer)\n",
        "    ser_f = sum(ser) / len(ser)\n",
        "\n",
        "    return (cer_f, wer_f, ser_f)"
      ],
      "metadata": {
        "id": "jEb5thqtX9kV"
      },
      "execution_count": 63,
      "outputs": []
    },
    {
      "cell_type": "code",
      "source": [
        "# Evaluate Val set\n",
        "evaluate = ocr_metrics(predicts=all_predictions,\n",
        "                                  ground_truth=valid_orig_txt,\n",
        "                                  norm_accentuation=False,\n",
        "                                  norm_punctuation=False)\n",
        "\n",
        "e_corpus = \"\\n\".join([\n",
        "    \"Metrics:\",\n",
        "    \"Character Error Rate: {}\".format(evaluate[0]),\n",
        "    \"Word Error Rate:      {}\".format(evaluate[1]),\n",
        "    \"Sequence Error Rate:  {}\".format(evaluate[2]),\n",
        "])"
      ],
      "metadata": {
        "id": "VG_v7uolX-9V"
      },
      "execution_count": null,
      "outputs": []
    },
    {
      "cell_type": "code",
      "source": [
        "print(e_corpus)"
      ],
      "metadata": {
        "id": "nurAoKm8YARl"
      },
      "execution_count": null,
      "outputs": []
    },
    {
      "cell_type": "markdown",
      "source": [
        "We got a pretty good results with CER at 1% and WER at 5%! I'm certain if I continue to apply for other techniques, this will help to reduce these numbers down. For example, I can try add to an attention layer between my CNN and RNN layers."
      ],
      "metadata": {
        "id": "gZkVv4zIwj4h"
      }
    },
    {
      "cell_type": "markdown",
      "source": [
        "## Tensorboard"
      ],
      "metadata": {
        "id": "hcPWqMCku4IL"
      }
    },
    {
      "cell_type": "code",
      "source": [
        "# Load the TensorBoard notebook extension\n",
        "%load_ext tensorboard"
      ],
      "metadata": {
        "id": "vzJsjYmvtzPb"
      },
      "execution_count": null,
      "outputs": []
    },
    {
      "cell_type": "code",
      "source": [
        "%tensorboard --logdir logs"
      ],
      "metadata": {
        "id": "zLwQIfaWtvum"
      },
      "execution_count": null,
      "outputs": []
    },
    {
      "cell_type": "markdown",
      "source": [
        "As we can see, the loss for validation continue to increase for the first 6 epoches and sharply drop onwards and mostly stable all the way till epoch 80."
      ],
      "metadata": {
        "id": "njapnva1xJ-O"
      }
    },
    {
      "cell_type": "markdown",
      "source": [
        "Things to improve for the competition:\n",
        "- Resize image logics with multiple image sizes (maybe as following):\n",
        "    + find min, max of height and width\n",
        "    + resize to a fixed height you want\n",
        "    + calculate the max width of all resized images\n",
        "    + padding to all images to that max width\n",
        "- Combine the logic of preprocessing of train set and test set together\n",
        "- Convert them to tfdataset pipeline (note that it is challenging since OpenCV won't work with tensor)\n",
        "- Rework/redesign new CRNN model to fit with the new processed images."
      ],
      "metadata": {
        "id": "hULrv4GDsqzL"
      }
    }
  ]
}